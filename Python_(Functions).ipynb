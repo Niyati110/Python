{
 "cells": [
  {
   "cell_type": "markdown",
   "id": "81985708",
   "metadata": {},
   "source": [
    "# Functions \n"
   ]
  },
  {
   "cell_type": "code",
   "execution_count": 21,
   "id": "e002a002",
   "metadata": {},
   "outputs": [],
   "source": [
    "def test():\n",
    "    print(\"Hello World\")"
   ]
  },
  {
   "cell_type": "code",
   "execution_count": 22,
   "id": "93ee31d1",
   "metadata": {},
   "outputs": [
    {
     "name": "stdout",
     "output_type": "stream",
     "text": [
      "Hello World\n"
     ]
    }
   ],
   "source": [
    "test()"
   ]
  },
  {
   "cell_type": "code",
   "execution_count": 9,
   "id": "45b2ef3a",
   "metadata": {},
   "outputs": [
    {
     "name": "stdout",
     "output_type": "stream",
     "text": [
      "You have BIKE:True\n",
      "You have CAR:True\n",
      "You can travel 100 KMs:True\n",
      "\n",
      "You have BIKE:True\n",
      "You have CAR:False\n",
      "You can travel 100 KMs:True\n",
      "\n",
      "You have BIKE:False\n",
      "You have CAR:True\n",
      "You can travel 100 KMs:True\n",
      "\n",
      "You have BIKE:False\n",
      "You have CAR:False\n",
      "You can travel 100 KMs:False\n",
      "\n"
     ]
    }
   ],
   "source": [
    "# bolck One\n",
    "BIKE = True\n",
    "CAR = True\n",
    "\n",
    "TRAVEL_100_KM = BIKE or CAR\n",
    "\n",
    "print(f\"You have BIKE:{BIKE}\")\n",
    "print(f\"You have CAR:{CAR}\")\n",
    "print(f\"You can travel 100 KMs:{TRAVEL_100_KM}\\n\")\n",
    "\n",
    "# Block Two\n",
    "BIKE = True\n",
    "CAR = False\n",
    "\n",
    "TRAVEL_100_KM = BIKE or CAR\n",
    "\n",
    "print(f\"You have BIKE:{BIKE}\")\n",
    "print(f\"You have CAR:{CAR}\")\n",
    "print(f\"You can travel 100 KMs:{TRAVEL_100_KM}\\n\")\n",
    "\n",
    "#Block Three\n",
    "BIKE = False\n",
    "CAR = True\n",
    "\n",
    "TRAVEL_100_KM = BIKE or CAR\n",
    "\n",
    "print(f\"You have BIKE:{BIKE}\")\n",
    "print(f\"You have CAR:{CAR}\")\n",
    "print(f\"You can travel 100 KMs:{TRAVEL_100_KM}\\n\")\n",
    "\n",
    "#Block Four\n",
    "BIKE = False\n",
    "CAR = False\n",
    "\n",
    "TRAVEL_100_KM = BIKE or CAR\n",
    "\n",
    "print(f\"You have BIKE:{BIKE}\")\n",
    "print(f\"You have CAR:{CAR}\")\n",
    "print(f\"You can travel 100 KMs:{TRAVEL_100_KM}\\n\")"
   ]
  },
  {
   "cell_type": "code",
   "execution_count": 17,
   "id": "c5b00f98",
   "metadata": {},
   "outputs": [
    {
     "name": "stdout",
     "output_type": "stream",
     "text": [
      "You have BIKE:False\n",
      "You have CAR:True\n",
      "You can travel 100 KMs:True\n",
      "\n",
      "You have BIKE:False\n",
      "You have CAR:True\n",
      "You can travel 100 KMs:True\n",
      "\n",
      "You have BIKE:True\n",
      "You have CAR:False\n",
      "You can travel 100 KMs:True\n",
      "\n",
      "You have BIKE:True\n",
      "You have CAR:True\n",
      "You can travel 100 KMs:True\n",
      "\n"
     ]
    }
   ],
   "source": [
    "def travel_or_not(BIKE,CAR):\n",
    "    TRAVEL_100_KM = BIKE or CAR\n",
    "    \n",
    "    print(f\"You have BIKE:{BIKE}\")\n",
    "    print(f\"You have CAR:{CAR}\")\n",
    "    print(f\"You can travel 100 KMs:{TRAVEL_100_KM}\\n\")\n",
    "    \n",
    "travel_or_not(False,True)\n",
    "\n",
    "travel_or_not(False, True)\n",
    "\n",
    "travel_or_not(True,False)\n",
    "\n",
    "travel_or_not(True,True)"
   ]
  },
  {
   "cell_type": "code",
   "execution_count": 20,
   "id": "3ca14b9e",
   "metadata": {
    "scrolled": true
   },
   "outputs": [
    {
     "name": "stdout",
     "output_type": "stream",
     "text": [
      "You have BIKE:False\n",
      "You have CAR:False\n",
      "You can travel 100 KMs:False\n",
      "\n",
      "You have BIKE:False\n",
      "You have CAR:True\n",
      "You can travel 100 KMs:True\n",
      "\n",
      "You have BIKE:True\n",
      "You have CAR:False\n",
      "You can travel 100 KMs:True\n",
      "\n",
      "You have BIKE:True\n",
      "You have CAR:True\n",
      "You can travel 100 KMs:True\n",
      "\n"
     ]
    }
   ],
   "source": [
    "#using for loop\n",
    "def travel_or_not(BIKE,CAR):\n",
    "    TRAVEL_100_KM = BIKE or CAR\n",
    "    \n",
    "    print(f\"You have BIKE:{BIKE}\")\n",
    "    print(f\"You have CAR:{CAR}\")\n",
    "    print(f\"You can travel 100 KMs:{TRAVEL_100_KM}\\n\")\n",
    "    \n",
    "BIKE = [False, False, True, True]    \n",
    "CAR = [False, True, False, True]\n",
    "\n",
    "for bike, car in zip(BIKE, CAR):\n",
    "    travel_or_not(bike,car)"
   ]
  },
  {
   "cell_type": "code",
   "execution_count": 1,
   "id": "e3a4285a",
   "metadata": {},
   "outputs": [
    {
     "name": "stdout",
     "output_type": "stream",
     "text": [
      "You have BIKE:False\n",
      "You have CAR:False\n",
      "You can travel 100 KMs:False\n",
      "\n",
      "You have BIKE:False\n",
      "You have CAR:True\n",
      "You can travel 100 KMs:False\n",
      "\n",
      "You have BIKE:True\n",
      "You have CAR:False\n",
      "You can travel 100 KMs:False\n",
      "\n",
      "You have BIKE:True\n",
      "You have CAR:True\n",
      "You can travel 100 KMs:True\n",
      "\n"
     ]
    }
   ],
   "source": [
    "def travel_or_not(BIKE,CAR):\n",
    "    TRAVEL_100_KM = BIKE and CAR\n",
    "    \n",
    "    print(f\"You have BIKE:{BIKE}\")\n",
    "    print(f\"You have CAR:{CAR}\")\n",
    "    print(f\"You can travel 100 KMs:{TRAVEL_100_KM}\\n\")\n",
    "    \n",
    "BIKE = [False, False, True, True]    \n",
    "CAR = [False, True, False, True]\n",
    "\n",
    "for bike, car in zip(BIKE, CAR):\n",
    "    travel_or_not(bike,car)"
   ]
  },
  {
   "cell_type": "code",
   "execution_count": 29,
   "id": "fb6791e1",
   "metadata": {},
   "outputs": [
    {
     "data": {
      "text/plain": [
       "'hello world'"
      ]
     },
     "execution_count": 29,
     "metadata": {},
     "output_type": "execute_result"
    }
   ],
   "source": [
    "def test():\n",
    "    return \"hello world\"\n",
    "test()"
   ]
  },
  {
   "cell_type": "code",
   "execution_count": 30,
   "id": "3c2d5929",
   "metadata": {},
   "outputs": [
    {
     "data": {
      "text/plain": [
       "3"
      ]
     },
     "execution_count": 30,
     "metadata": {},
     "output_type": "execute_result"
    }
   ],
   "source": [
    "def test1(a,b):\n",
    "    c = a%b\n",
    "    return c\n",
    "test1(3,4)"
   ]
  },
  {
   "cell_type": "code",
   "execution_count": 23,
   "id": "f5323db6",
   "metadata": {},
   "outputs": [
    {
     "data": {
      "text/plain": [
       "(7, -1, 12, 0.75)"
      ]
     },
     "execution_count": 23,
     "metadata": {},
     "output_type": "execute_result"
    }
   ],
   "source": [
    "def test1(a,b):\n",
    "    \"\"\"this is the fuction for four arithmatic oparations\"\"\"\n",
    "    return a+b,a-b,a*b,a/b\n",
    "test1(3,4)"
   ]
  },
  {
   "cell_type": "markdown",
   "id": "d38a3dc4",
   "metadata": {},
   "source": [
    "# Default argument\n"
   ]
  },
  {
   "cell_type": "code",
   "execution_count": 8,
   "id": "79fe0194",
   "metadata": {},
   "outputs": [
    {
     "ename": "SyntaxError",
     "evalue": "non-default argument follows default argument (1921699660.py, line 1)",
     "output_type": "error",
     "traceback": [
      "\u001b[1;36m  Cell \u001b[1;32mIn[8], line 1\u001b[1;36m\u001b[0m\n\u001b[1;33m    def test(a=10,b):\u001b[0m\n\u001b[1;37m                  ^\u001b[0m\n\u001b[1;31mSyntaxError\u001b[0m\u001b[1;31m:\u001b[0m non-default argument follows default argument\n"
     ]
    }
   ],
   "source": [
    "def test(a=10,b):\n",
    "    return a+b\n",
    "test(30)"
   ]
  },
  {
   "cell_type": "code",
   "execution_count": 11,
   "id": "5953845c",
   "metadata": {},
   "outputs": [
    {
     "data": {
      "text/plain": [
       "(30, 10)"
      ]
     },
     "execution_count": 11,
     "metadata": {},
     "output_type": "execute_result"
    }
   ],
   "source": [
    "def test(a,b=10):\n",
    "    return a,b\n",
    "test(30)"
   ]
  },
  {
   "cell_type": "code",
   "execution_count": 6,
   "id": "a990f913",
   "metadata": {},
   "outputs": [
    {
     "name": "stdout",
     "output_type": "stream",
     "text": [
      "You have BIKE:True\n",
      "You have CAR:False\n",
      "You can travel 100 KMs:True\n",
      "\n"
     ]
    }
   ],
   "source": [
    "def travel_or_not(BIKE=True,CAR=False):\n",
    "    TRAVEL_100_KM = BIKE or CAR\n",
    "    \n",
    "    print(f\"You have BIKE:{BIKE}\")\n",
    "    print(f\"You have CAR:{CAR}\")\n",
    "    print(f\"You can travel 100 KMs:{TRAVEL_100_KM}\\n\")\n",
    "    \n",
    "travel_or_not()\n",
    "\n",
    "    "
   ]
  },
  {
   "cell_type": "code",
   "execution_count": 19,
   "id": "77c024dd",
   "metadata": {},
   "outputs": [
    {
     "name": "stdout",
     "output_type": "stream",
     "text": [
      "Enter the height in m: 5\n",
      "Enter the weight in kg: 5\n",
      "the person is weak.\n"
     ]
    },
    {
     "data": {
      "text/plain": [
       "0.2"
      ]
     },
     "execution_count": 19,
     "metadata": {},
     "output_type": "execute_result"
    }
   ],
   "source": [
    "def bmi(w,h):\n",
    "    bmi = (w/(h*h))   \n",
    "    \n",
    "    \"\"\"This funacton for bmi calculation\"\"\"\n",
    "   \n",
    "    if bmi < 18:  \n",
    "        print(\"the person is weak.\")  \n",
    "    elif bmi < 24:  \n",
    "        print(\"the person is healthy.\")  \n",
    "    elif bmi < 30:  \n",
    "        print(\"the person is weight.\")  \n",
    "    else:\n",
    "        print(\"the person is obse\")  \n",
    "    return bmi\n",
    "h = float(input(\"Enter the height in m: \"))  \n",
    "w = float(input(\"Enter the weight in kg: \"))  \n",
    "\n",
    "    \n",
    "bmi(w,h)    "
   ]
  },
  {
   "cell_type": "markdown",
   "id": "0d1a5abe",
   "metadata": {},
   "source": [
    "\n",
    "# Argument (*)"
   ]
  },
  {
   "cell_type": "code",
   "execution_count": 21,
   "id": "c3d75dba",
   "metadata": {},
   "outputs": [
    {
     "ename": "TypeError",
     "evalue": "test() missing 1 required keyword-only argument: 'b'",
     "output_type": "error",
     "traceback": [
      "\u001b[1;31m---------------------------------------------------------------------------\u001b[0m",
      "\u001b[1;31mTypeError\u001b[0m                                 Traceback (most recent call last)",
      "Cell \u001b[1;32mIn[21], line 3\u001b[0m\n\u001b[0;32m      1\u001b[0m \u001b[38;5;28;01mdef\u001b[39;00m \u001b[38;5;21mtest\u001b[39m(\u001b[38;5;241m*\u001b[39ma,b):\n\u001b[0;32m      2\u001b[0m     \u001b[38;5;28;01mreturn\u001b[39;00m a,b\n\u001b[1;32m----> 3\u001b[0m \u001b[43mtest\u001b[49m\u001b[43m(\u001b[49m\u001b[38;5;241;43m5\u001b[39;49m\u001b[43m,\u001b[49m\u001b[38;5;241;43m65\u001b[39;49m\u001b[43m,\u001b[49m\u001b[38;5;241;43m9\u001b[39;49m\u001b[43m,\u001b[49m\u001b[38;5;241;43m9\u001b[39;49m\u001b[43m,\u001b[49m\u001b[38;5;241;43m5\u001b[39;49m\u001b[43m)\u001b[49m\n",
      "\u001b[1;31mTypeError\u001b[0m: test() missing 1 required keyword-only argument: 'b'"
     ]
    }
   ],
   "source": [
    "#argument (This for understanding)\n",
    "def test(*a,b):\n",
    "    return a,b\n",
    "test(5,65,9,9,5)"
   ]
  },
  {
   "cell_type": "code",
   "execution_count": 22,
   "id": "5920b17d",
   "metadata": {},
   "outputs": [
    {
     "ename": "SyntaxError",
     "evalue": "invalid syntax (1648318818.py, line 1)",
     "output_type": "error",
     "traceback": [
      "\u001b[1;36m  Cell \u001b[1;32mIn[22], line 1\u001b[1;36m\u001b[0m\n\u001b[1;33m    def test(*a,*b):\u001b[0m\n\u001b[1;37m                ^\u001b[0m\n\u001b[1;31mSyntaxError\u001b[0m\u001b[1;31m:\u001b[0m invalid syntax\n"
     ]
    }
   ],
   "source": [
    "#For understanding\n",
    "def test(*a,*b):\n",
    "    return a,b\n",
    "test(5,65,9,9,5)"
   ]
  },
  {
   "cell_type": "code",
   "execution_count": 23,
   "id": "0cf3b71d",
   "metadata": {},
   "outputs": [
    {
     "data": {
      "text/plain": [
       "(5, (65, 9, 9, 5))"
      ]
     },
     "execution_count": 23,
     "metadata": {},
     "output_type": "execute_result"
    }
   ],
   "source": [
    "def test(a,*b):\n",
    "    return a,b\n",
    "test(5,65,9,9,5)"
   ]
  },
  {
   "cell_type": "code",
   "execution_count": 24,
   "id": "de64cd88",
   "metadata": {},
   "outputs": [
    {
     "data": {
      "text/plain": [
       "([5, 65, 9, 9, 5], (85, 5, 578, 5))"
      ]
     },
     "execution_count": 24,
     "metadata": {},
     "output_type": "execute_result"
    }
   ],
   "source": [
    "def test(a,*b):\n",
    "    return a,b\n",
    "test([5,65,9,9,5],85,5,578,5)"
   ]
  },
  {
   "cell_type": "code",
   "execution_count": 26,
   "id": "a65f90cc",
   "metadata": {},
   "outputs": [
    {
     "data": {
      "text/plain": [
       "{'x': 'niyati', 'y': 'jalpa'}"
      ]
     },
     "execution_count": 26,
     "metadata": {},
     "output_type": "execute_result"
    }
   ],
   "source": [
    "#key word argument = give result in dictiory\n",
    "def test(**a):\n",
    "    return a\n",
    "test(x='niyati',y=\"jalpa\")\n"
   ]
  },
  {
   "cell_type": "code",
   "execution_count": 1,
   "id": "f6c50f8a",
   "metadata": {},
   "outputs": [
    {
     "data": {
      "text/plain": [
       "(5, (54, 5), {'x': 'niyati', 'y': 'vyas'})"
      ]
     },
     "execution_count": 1,
     "metadata": {},
     "output_type": "execute_result"
    }
   ],
   "source": [
    "def test(a=10,*b,**c):\n",
    "    return a,b,c\n",
    "\n",
    "test(5,54,5,x='niyati',y='vyas')\n"
   ]
  },
  {
   "cell_type": "code",
   "execution_count": 45,
   "id": "4347c026",
   "metadata": {},
   "outputs": [
    {
     "name": "stdout",
     "output_type": "stream",
     "text": [
      "Score in Digital_Image_Processsing = 54\n",
      "Score in Microprocessing = 57\n",
      "Score in Signal_and_system = 25\n"
     ]
    }
   ],
   "source": [
    "def marks_in_subjects_of_semester(**kwargs):\n",
    "    for subject,marks in kwargs.items():\n",
    "        print(f\"Score in {subject} = {marks}\")\n",
    "marks_in_subjects_of_semester(Digital_Image_Processsing =54, Microprocessing= 57, Signal_and_system=25)        \n",
    "        "
   ]
  },
  {
   "cell_type": "code",
   "execution_count": 3,
   "id": "37f3d5ba",
   "metadata": {},
   "outputs": [
    {
     "ename": "SyntaxError",
     "evalue": "invalid syntax (1867950716.py, line 1)",
     "output_type": "error",
     "traceback": [
      "\u001b[1;36m  Cell \u001b[1;32mIn[3], line 1\u001b[1;36m\u001b[0m\n\u001b[1;33m    def test(a=10,*b,**c,d):\u001b[0m\n\u001b[1;37m                         ^\u001b[0m\n\u001b[1;31mSyntaxError\u001b[0m\u001b[1;31m:\u001b[0m invalid syntax\n"
     ]
    }
   ],
   "source": [
    "def test(a=10,*b,**c,d):\n",
    "    return a,b,c,d\n",
    "\n",
    "test(5,54,5,x='niyati',y='jhfsb',5454)"
   ]
  },
  {
   "cell_type": "markdown",
   "id": "09cc30e6",
   "metadata": {},
   "source": [
    "# Lambda Function"
   ]
  },
  {
   "cell_type": "code",
   "execution_count": 1,
   "id": "e814521c",
   "metadata": {},
   "outputs": [],
   "source": [
    "x = lambda a,b :a+b"
   ]
  },
  {
   "cell_type": "code",
   "execution_count": 2,
   "id": "a1939f18",
   "metadata": {},
   "outputs": [
    {
     "data": {
      "text/plain": [
       "9"
      ]
     },
     "execution_count": 2,
     "metadata": {},
     "output_type": "execute_result"
    }
   ],
   "source": [
    "x(4,5)"
   ]
  },
  {
   "cell_type": "code",
   "execution_count": 3,
   "id": "760dd607",
   "metadata": {},
   "outputs": [],
   "source": [
    "def test(a):\n",
    "    return a%2 ==0"
   ]
  },
  {
   "cell_type": "code",
   "execution_count": 4,
   "id": "f3613bcd",
   "metadata": {},
   "outputs": [
    {
     "data": {
      "text/plain": [
       "False"
      ]
     },
     "execution_count": 4,
     "metadata": {},
     "output_type": "execute_result"
    }
   ],
   "source": [
    "test(3)"
   ]
  },
  {
   "cell_type": "code",
   "execution_count": 5,
   "id": "445b8e88",
   "metadata": {},
   "outputs": [],
   "source": [
    "x = lambda a:a%2 ==0"
   ]
  },
  {
   "cell_type": "code",
   "execution_count": 6,
   "id": "f3c570b7",
   "metadata": {},
   "outputs": [
    {
     "data": {
      "text/plain": [
       "True"
      ]
     },
     "execution_count": 6,
     "metadata": {},
     "output_type": "execute_result"
    }
   ],
   "source": [
    "x(4)"
   ]
  },
  {
   "cell_type": "code",
   "execution_count": 9,
   "id": "dc9f14e1",
   "metadata": {},
   "outputs": [],
   "source": [
    "x = lambda a,b :(a+b,a-b,a*b,a/b)"
   ]
  },
  {
   "cell_type": "code",
   "execution_count": 10,
   "id": "902585ed",
   "metadata": {},
   "outputs": [
    {
     "data": {
      "text/plain": [
       "(11, -1, 30, 0.8333333333333334)"
      ]
     },
     "execution_count": 10,
     "metadata": {},
     "output_type": "execute_result"
    }
   ],
   "source": [
    "x(5,6)"
   ]
  },
  {
   "cell_type": "code",
   "execution_count": 11,
   "id": "78d07b6b",
   "metadata": {},
   "outputs": [
    {
     "name": "stdout",
     "output_type": "stream",
     "text": [
      "\n",
      "results:-\n",
      "You can travel 100 KMs: True\n",
      "\n"
     ]
    }
   ],
   "source": [
    "BIKE=True\n",
    "CAR=False\n",
    "\n",
    "result = lambda BIKE, CAR: f\"You can travel 100 KMs: {BIKE or CAR}\\n\"\n",
    "print(f\"\\nresults:-\\n{result(BIKE, CAR)}\")"
   ]
  },
  {
   "cell_type": "code",
   "execution_count": 13,
   "id": "9cb55632",
   "metadata": {},
   "outputs": [
    {
     "data": {
      "text/plain": [
       "25"
      ]
     },
     "execution_count": 13,
     "metadata": {},
     "output_type": "execute_result"
    }
   ],
   "source": [
    "result = lambda number, power: number**power\n",
    "result(5,2)"
   ]
  },
  {
   "cell_type": "code",
   "execution_count": 35,
   "id": "6c37f921",
   "metadata": {},
   "outputs": [
    {
     "data": {
      "text/plain": [
       "'v'"
      ]
     },
     "execution_count": 35,
     "metadata": {},
     "output_type": "execute_result"
    }
   ],
   "source": [
    "l=['vyas','niyati','jalpa']\n",
    "result = lambda l:l[0][0]\n",
    "result(l)"
   ]
  },
  {
   "cell_type": "code",
   "execution_count": 24,
   "id": "f2ae135f",
   "metadata": {},
   "outputs": [
    {
     "name": "stdout",
     "output_type": "stream",
     "text": [
      "n\n"
     ]
    }
   ],
   "source": [
    "l=['niyatu']\n",
    "for i in l:\n",
    "        print(i[0])"
   ]
  },
  {
   "cell_type": "code",
   "execution_count": 33,
   "id": "7da65b65",
   "metadata": {},
   "outputs": [
    {
     "data": {
      "text/plain": [
       "'n'"
      ]
     },
     "execution_count": 33,
     "metadata": {},
     "output_type": "execute_result"
    }
   ],
   "source": [
    "st=lambda str:str[0]\n",
    "st(\"niyati\")"
   ]
  },
  {
   "cell_type": "markdown",
   "id": "e9e0a51e",
   "metadata": {},
   "source": [
    "# Map Function\n",
    "#map(funct_name,iterable)"
   ]
  },
  {
   "cell_type": "code",
   "execution_count": 13,
   "id": "58522567",
   "metadata": {},
   "outputs": [
    {
     "data": {
      "text/plain": [
       "[False, False, True, True]"
      ]
     },
     "execution_count": 13,
     "metadata": {},
     "output_type": "execute_result"
    }
   ],
   "source": [
    "def test(a):\n",
    "    return a%2 ==0\n",
    "list(map(test,[5,3,8,4]))"
   ]
  },
  {
   "cell_type": "code",
   "execution_count": 44,
   "id": "126c627f",
   "metadata": {},
   "outputs": [
    {
     "data": {
      "text/plain": [
       "['niyati', 'vyas']"
      ]
     },
     "execution_count": 44,
     "metadata": {},
     "output_type": "execute_result"
    }
   ],
   "source": [
    "list(map(str,['niyati','vyas']))"
   ]
  },
  {
   "cell_type": "code",
   "execution_count": 45,
   "id": "4a538d84",
   "metadata": {},
   "outputs": [
    {
     "data": {
      "text/plain": [
       "['v', 'n', 'j']"
      ]
     },
     "execution_count": 45,
     "metadata": {},
     "output_type": "execute_result"
    }
   ],
   "source": [
    "l=['vyas','niyati','jalpa']\n",
    "result = lambda l:l[0][0]\n",
    "result(l)\n",
    "list(map(result,l))"
   ]
  },
  {
   "cell_type": "code",
   "execution_count": 46,
   "id": "8cf6aa1e",
   "metadata": {},
   "outputs": [],
   "source": [
    "def test(a):\n",
    "    return a[0][0]"
   ]
  },
  {
   "cell_type": "code",
   "execution_count": 47,
   "id": "912d721e",
   "metadata": {},
   "outputs": [
    {
     "data": {
      "text/plain": [
       "['n', 'v', 'j']"
      ]
     },
     "execution_count": 47,
     "metadata": {},
     "output_type": "execute_result"
    }
   ],
   "source": [
    "list(map(test,['niyati','vyas','jalpa']))"
   ]
  },
  {
   "cell_type": "code",
   "execution_count": 48,
   "id": "1a936c30",
   "metadata": {},
   "outputs": [
    {
     "data": {
      "text/plain": [
       "[25, 9, 64, 16]"
      ]
     },
     "execution_count": 48,
     "metadata": {},
     "output_type": "execute_result"
    }
   ],
   "source": [
    "def test(a):\n",
    "    return a*a\n",
    "list(map(test,[5,3,8,4]))"
   ]
  },
  {
   "cell_type": "code",
   "execution_count": 51,
   "id": "5fbccd2f",
   "metadata": {},
   "outputs": [
    {
     "data": {
      "text/plain": [
       "['Even', 'Even', 'j']"
      ]
     },
     "execution_count": 51,
     "metadata": {},
     "output_type": "execute_result"
    }
   ],
   "source": [
    "def inspect(a):\n",
    "    if len(a)%2==0:\n",
    "        return \"Even\"\n",
    "    else:\n",
    "        return a[0]\n",
    "name= ['niyati','vyas','jalpa']    \n",
    "list(map(inspect,name))    \n",
    "    "
   ]
  },
  {
   "cell_type": "code",
   "execution_count": 27,
   "id": "209ff571",
   "metadata": {},
   "outputs": [
    {
     "name": "stdout",
     "output_type": "stream",
     "text": [
      "['niyati', 6]\n"
     ]
    }
   ],
   "source": [
    "def fun():\n",
    "    str = \"niyati\"\n",
    "    x = 6\n",
    "    return [str, x]\n",
    " \n",
    "list = fun()\n",
    "print(list)"
   ]
  },
  {
   "cell_type": "code",
   "execution_count": 22,
   "id": "8e7b0121",
   "metadata": {},
   "outputs": [
    {
     "name": "stdout",
     "output_type": "stream",
     "text": [
      "The word with the longest length is: Jayminee  and length is  8\n"
     ]
    }
   ],
   "source": [
    "#Write a function called find_largest() which accepts multiple strings as argument and returns the length of the largest string\n",
    "def find_largest(words):\n",
    "    result=max(words,key=len)\n",
    "    print(\"The word with the longest length is:\", result,\n",
    "          \" and length is \", len(result))\n",
    " \n",
    "\n",
    "a = ['Niyati','Jaani','Hardi','Jayminee']\n",
    "find_largest(a)"
   ]
  },
  {
   "cell_type": "code",
   "execution_count": 28,
   "id": "610e5792",
   "metadata": {},
   "outputs": [
    {
     "name": "stdout",
     "output_type": "stream",
     "text": [
      "Enter Radius: 2\n",
      "Area:  12.588\n"
     ]
    }
   ],
   "source": [
    "#area of circle\n",
    "def cal_area(r):\n",
    "    pi=3.147\n",
    "    area= pi*r*r\n",
    "    return area\n",
    "\n",
    "radius=float(input(\"Enter Radius: \"))\n",
    "print(\"Area: \",cal_area(radius))\n"
   ]
  },
  {
   "cell_type": "markdown",
   "id": "c39c8d0d",
   "metadata": {},
   "source": [
    "# Filter Function\n",
    "(fun.name,iterable)"
   ]
  },
  {
   "cell_type": "code",
   "execution_count": 2,
   "id": "ea201f78",
   "metadata": {
    "scrolled": true
   },
   "outputs": [
    {
     "data": {
      "text/plain": [
       "[2, 4, 6, 8, 10]"
      ]
     },
     "execution_count": 2,
     "metadata": {},
     "output_type": "execute_result"
    }
   ],
   "source": [
    "def test(x):\n",
    "    return x%2==0\n",
    "list(filter(test,[1,2,3,4,5,6,7,8,9,10]))"
   ]
  },
  {
   "cell_type": "code",
   "execution_count": 3,
   "id": "81da4a80",
   "metadata": {},
   "outputs": [
    {
     "data": {
      "text/plain": [
       "['EVEN', 'EVEN', 'j']"
      ]
     },
     "execution_count": 3,
     "metadata": {},
     "output_type": "execute_result"
    }
   ],
   "source": [
    "list(map(lambda x:\"EVEN\" if len(x)%2==0 else x[0],['niyati','vyas','jalpa']))"
   ]
  },
  {
   "cell_type": "code",
   "execution_count": 4,
   "id": "d3dc9831",
   "metadata": {},
   "outputs": [
    {
     "name": "stdout",
     "output_type": "stream",
     "text": [
      "Enter name:niyati\n",
      "vowels are ['i', 'a', 'i']\n"
     ]
    }
   ],
   "source": [
    "x=input(\"Enter name:\")\n",
    "vowel=list(filter(lambda z:z in 'aeiou',x))\n",
    "if len(vowel)==0:\n",
    "    print(\"No vowel in name\")\n",
    "else:\n",
    "    print(\"vowels are\",vowel)"
   ]
  },
  {
   "cell_type": "code",
   "execution_count": 5,
   "id": "a8ac6045",
   "metadata": {},
   "outputs": [
    {
     "data": {
      "text/plain": [
       "[5, 6, 7]"
      ]
     },
     "execution_count": 5,
     "metadata": {},
     "output_type": "execute_result"
    }
   ],
   "source": [
    "d= lambda *a,b:[i+b for i in a]\n",
    "d(1,2,3,b=4)"
   ]
  },
  {
   "cell_type": "code",
   "execution_count": 12,
   "id": "fd5c5ce8",
   "metadata": {},
   "outputs": [
    {
     "name": "stdout",
     "output_type": "stream",
     "text": [
      "count of even numbers are: 4\n",
      "count of odd numbers are: 5\n"
     ]
    }
   ],
   "source": [
    "def test(l):\n",
    "    even=len(list(filter(lambda y:y%2==0,l)))\n",
    "    print(\"count of even numbers are:\",even)\n",
    "    print(\"count of odd numbers are:\",len(l)-even)\n",
    "test([1,2,3,4,5,6,7,8,9])    "
   ]
  },
  {
   "cell_type": "markdown",
   "id": "4d04e29a",
   "metadata": {},
   "source": [
    "# Local and Global\n",
    "value define inside the function its called local and define outside the function its called globle"
   ]
  },
  {
   "cell_type": "code",
   "execution_count": 14,
   "id": "136ced05",
   "metadata": {},
   "outputs": [
    {
     "data": {
      "text/plain": [
       "5"
      ]
     },
     "execution_count": 14,
     "metadata": {},
     "output_type": "execute_result"
    }
   ],
   "source": [
    "##local\n",
    "def test1():\n",
    "    a=5\n",
    "    return a\n",
    "test1()\n",
    "    "
   ]
  },
  {
   "cell_type": "code",
   "execution_count": 15,
   "id": "39752c3b",
   "metadata": {},
   "outputs": [
    {
     "data": {
      "text/plain": [
       "5"
      ]
     },
     "execution_count": 15,
     "metadata": {},
     "output_type": "execute_result"
    }
   ],
   "source": [
    "##globle\n",
    "def test2(a):\n",
    "    return a\n",
    "a=5\n",
    "test2(a)"
   ]
  },
  {
   "cell_type": "code",
   "execution_count": 2,
   "id": "a78e9178",
   "metadata": {},
   "outputs": [
    {
     "name": "stdout",
     "output_type": "stream",
     "text": [
      "I love\n",
      "1971313353520\n",
      "I love python\n",
      "1971312764080\n"
     ]
    }
   ],
   "source": [
    "a=\"I love python\"\n",
    "def test():\n",
    "    a=\"I love\"\n",
    "    print(a)\n",
    "    print(id(a))\n",
    "test()\n",
    "print(a)\n",
    "print(id(a))\n",
    "    "
   ]
  },
  {
   "cell_type": "code",
   "execution_count": 3,
   "id": "72d4a8e9",
   "metadata": {},
   "outputs": [],
   "source": [
    "##id referns to the memory location."
   ]
  },
  {
   "cell_type": "code",
   "execution_count": 6,
   "id": "d28ea142",
   "metadata": {},
   "outputs": [
    {
     "name": "stdout",
     "output_type": "stream",
     "text": [
      "string\n"
     ]
    }
   ],
   "source": [
    "def test1(x):\n",
    "    if type(x)==int:\n",
    "        print(x)\n",
    "    else:\n",
    "        print(\"string\")\n",
    "\n",
    "test1([1,2,3])        "
   ]
  },
  {
   "cell_type": "markdown",
   "id": "0e93a4fa",
   "metadata": {},
   "source": [
    "# Try and Exception \n",
    "It gives error and also modify the exception function"
   ]
  },
  {
   "cell_type": "code",
   "execution_count": 1,
   "id": "5645b13e",
   "metadata": {},
   "outputs": [
    {
     "name": "stdout",
     "output_type": "stream",
     "text": [
      "Error in your program\n"
     ]
    }
   ],
   "source": [
    "try:\n",
    "    a=5\n",
    "    a/0\n",
    "except:\n",
    "    print(\"Error in your program\")"
   ]
  },
  {
   "cell_type": "code",
   "execution_count": 16,
   "id": "97c182a3",
   "metadata": {},
   "outputs": [
    {
     "name": "stdout",
     "output_type": "stream",
     "text": [
      "division by zero\n"
     ]
    }
   ],
   "source": [
    "try:\n",
    "    a=5\n",
    "    a/0\n",
    "except Exception as e:\n",
    "    print(e)"
   ]
  },
  {
   "cell_type": "code",
   "execution_count": 6,
   "id": "165ebf74",
   "metadata": {},
   "outputs": [
    {
     "name": "stdout",
     "output_type": "stream",
     "text": [
      "niyati\n"
     ]
    },
    {
     "ename": "ValueError",
     "evalue": "invalid literal for int() with base 10: 'niyati'",
     "output_type": "error",
     "traceback": [
      "\u001b[1;31m---------------------------------------------------------------------------\u001b[0m",
      "\u001b[1;31mValueError\u001b[0m                                Traceback (most recent call last)",
      "Cell \u001b[1;32mIn[6], line 1\u001b[0m\n\u001b[1;32m----> 1\u001b[0m \u001b[38;5;28;43mint\u001b[39;49m\u001b[43m(\u001b[49m\u001b[38;5;28;43minput\u001b[39;49m\u001b[43m(\u001b[49m\u001b[43m)\u001b[49m\u001b[43m)\u001b[49m\n",
      "\u001b[1;31mValueError\u001b[0m: invalid literal for int() with base 10: 'niyati'"
     ]
    }
   ],
   "source": [
    "int(input())"
   ]
  },
  {
   "cell_type": "code",
   "execution_count": 14,
   "id": "c2fe1019",
   "metadata": {},
   "outputs": [
    {
     "name": "stdout",
     "output_type": "stream",
     "text": [
      "558\n"
     ]
    }
   ],
   "source": [
    "try:\n",
    "    int(input())\n",
    "except Exception as e:\n",
    "    print(e)      "
   ]
  },
  {
   "cell_type": "code",
   "execution_count": 13,
   "id": "746776c2",
   "metadata": {
    "scrolled": true
   },
   "outputs": [
    {
     "name": "stdout",
     "output_type": "stream",
     "text": [
      "hgfgh\n",
      "invalid literal for int() with base 10: 'hgfgh'\n"
     ]
    }
   ],
   "source": [
    "try:\n",
    "    int(input())\n",
    "except Exception as e:\n",
    "    print(e)  "
   ]
  },
  {
   "cell_type": "code",
   "execution_count": 12,
   "id": "6936c866",
   "metadata": {},
   "outputs": [
    {
     "name": "stdout",
     "output_type": "stream",
     "text": [
      "[Errno 2] No such file or directory: 'text11.txt'\n"
     ]
    }
   ],
   "source": [
    "try:\n",
    "    f = open(\"text11.txt\",\"r\")\n",
    "except Exception as e:\n",
    "    print(e)      "
   ]
  },
  {
   "cell_type": "code",
   "execution_count": 48,
   "id": "1f443852",
   "metadata": {},
   "outputs": [
    {
     "name": "stdout",
     "output_type": "stream",
     "text": [
      "10\n",
      "{1: 'niyati', 2: 'jalpa', 'y': 10}\n"
     ]
    }
   ],
   "source": [
    "try:\n",
    "    dict1 = {1:'niyati',2:'jalpa'}\n",
    "    dict1['y']=int(input())\n",
    "    print(dict1)\n",
    "except Exception as e:\n",
    "    print(e)"
   ]
  },
  {
   "cell_type": "code",
   "execution_count": 25,
   "id": "764f37f3",
   "metadata": {},
   "outputs": [
    {
     "name": "stdout",
     "output_type": "stream",
     "text": [
      "niyaty\n",
      "invalid literal for int() with base 10: 'niyaty'\n"
     ]
    }
   ],
   "source": [
    "try:\n",
    "    dict1 = {1:'niyati',2:'jalpa'}\n",
    "    dict1['y']=int(input())\n",
    "    print(dict1)\n",
    "except Exception as e:\n",
    "    print(e)"
   ]
  },
  {
   "cell_type": "code",
   "execution_count": 26,
   "id": "2929764a",
   "metadata": {},
   "outputs": [],
   "source": [
    "#bmi in try"
   ]
  },
  {
   "cell_type": "code",
   "execution_count": 4,
   "id": "37ec52b2",
   "metadata": {
    "scrolled": true
   },
   "outputs": [
    {
     "name": "stdout",
     "output_type": "stream",
     "text": [
      "Enter your weight in kilograms: niyti\n",
      "Enter a valid number.\n"
     ]
    }
   ],
   "source": [
    "try:\n",
    "    weight = float(input(\"Enter your weight in kilograms: \"))\n",
    "    height = float(input(\"Enter your height in meters: \"))\n",
    "    bmi = weight / (height ** 2)\n",
    "    print(\"Your BMI is:\", bmi)\n",
    "except:\n",
    "    print(\"Enter a valid number.\")"
   ]
  },
  {
   "cell_type": "code",
   "execution_count": 5,
   "id": "e6c0f60c",
   "metadata": {},
   "outputs": [
    {
     "name": "stdout",
     "output_type": "stream",
     "text": [
      "Enter your weight in kilograms: 5\n",
      "Enter your height in meters: 0\n",
      "float division by zero\n"
     ]
    }
   ],
   "source": [
    "try:\n",
    "    weight = float(input(\"Enter your weight in kilograms: \"))\n",
    "    height = float(input(\"Enter your height in meters: \"))\n",
    "    bmi = weight / (height ** 2)\n",
    "    print(\"Your BMI is:\", bmi)\n",
    "except Exception as e:\n",
    "    print(e)    \n"
   ]
  },
  {
   "cell_type": "code",
   "execution_count": 6,
   "id": "6cff8e29",
   "metadata": {},
   "outputs": [
    {
     "name": "stdout",
     "output_type": "stream",
     "text": [
      "Enter your weight in kilograms: 5\n",
      "Enter your height in meters: 0\n",
      "float division by zero\n"
     ]
    }
   ],
   "source": [
    "try:\n",
    "    def bmi (w,h):\n",
    "        BMI = w / (h*h)\n",
    "        print(BMI)\n",
    "except:\n",
    "    print('eroor in your code')\n",
    "try:    \n",
    "    w = float(input(\"Enter your weight in kilograms: \"))\n",
    "    h = float(input(\"Enter your height in meters: \"))\n",
    "    bmi(w,h)\n",
    "except Exception as e:\n",
    "    print(e) "
   ]
  },
  {
   "cell_type": "code",
   "execution_count": 2,
   "id": "428d8b26",
   "metadata": {},
   "outputs": [
    {
     "name": "stdout",
     "output_type": "stream",
     "text": [
      "Intersection of the two arrays: [4, 5]\n"
     ]
    }
   ],
   "source": [
    "array1 = [1, 2, 3, 4, 5]\n",
    "array2 = [4, 5, 6, 7, 8]\n",
    "\n",
    "intersection = list(filter(lambda l: l in array1, array2))\n",
    "\n",
    "print(\"Intersection of the two arrays:\", intersection)"
   ]
  },
  {
   "cell_type": "code",
   "execution_count": 21,
   "id": "16409613",
   "metadata": {},
   "outputs": [
    {
     "name": "stdout",
     "output_type": "stream",
     "text": [
      "['1niyati', '2vyas', '3nyt']\n"
     ]
    }
   ],
   "source": [
    "#check this one\n",
    "list_of_tuples = [(1,'niyati'), (2,'vyas'), (3,'nyt')]\n",
    "\n",
    "list_of_strings = list(map(lambda x: str(x[0]) + str(x[1]), list_of_tuples))\n",
    "\n",
    "print(list_of_strings)"
   ]
  },
  {
   "cell_type": "code",
   "execution_count": 37,
   "id": "66a27fee",
   "metadata": {
    "scrolled": true
   },
   "outputs": [
    {
     "name": "stdout",
     "output_type": "stream",
     "text": [
      "Enter the temperature: jhb\n",
      "could not convert string to float: 'jhb'\n"
     ]
    }
   ],
   "source": [
    "# convert celecius to fahrenheit\n",
    "def convert(c):\n",
    "    F = (9/5)*c + 32\n",
    "    return (F)\n",
    "\n",
    "try:\n",
    "    cel = float(input(\"Enter the temperature: \"))\n",
    "    Fah = convert(cel)\n",
    "    print (\"The temperature in Fahrenheit is \", Fah)\n",
    "except Exception as e:\n",
    "    print(e)"
   ]
  },
  {
   "cell_type": "code",
   "execution_count": 35,
   "id": "1e8e6fce",
   "metadata": {},
   "outputs": [
    {
     "name": "stdout",
     "output_type": "stream",
     "text": [
      "50\n"
     ]
    }
   ],
   "source": [
    "try:\n",
    "    def cel(c):\n",
    "        fen = (c*(9/5))+32\n",
    "        print(fen)\n",
    "    c = float(input())    \n",
    "except Exception as e:\n",
    "    print(e)"
   ]
  },
  {
   "cell_type": "code",
   "execution_count": 39,
   "id": "bb269571",
   "metadata": {},
   "outputs": [],
   "source": [
    "def interger():\n",
    "    \"\"\"Function asks for an interger unless provided otherwise\"\"\"\n",
    "    while True:\n",
    "        \n",
    "            try:\n",
    "                x = int(input())\n",
    "                break\n",
    "            except ValueError as e:\n",
    "                print(\"Enter the input again\",e)\n",
    "   "
   ]
  },
  {
   "cell_type": "code",
   "execution_count": 42,
   "id": "51168273",
   "metadata": {
    "scrolled": true
   },
   "outputs": [
    {
     "name": "stdout",
     "output_type": "stream",
     "text": [
      "ngdh\n",
      "Enter the input again invalid literal for int() with base 10: 'ngdh'\n",
      "khjgd\n",
      "Enter the input again invalid literal for int() with base 10: 'khjgd'\n",
      "10\n"
     ]
    }
   ],
   "source": [
    "interger()"
   ]
  },
  {
   "cell_type": "code",
   "execution_count": 43,
   "id": "3646ff6d",
   "metadata": {},
   "outputs": [],
   "source": [
    "#raise exception"
   ]
  },
  {
   "cell_type": "code",
   "execution_count": 44,
   "id": "45a53035",
   "metadata": {},
   "outputs": [],
   "source": [
    "def test(a):\n",
    "    if a == \"sjs\" :\n",
    "        raise ZeroDivisionError(\"you have entered a nagtive value \",a)\n",
    "    return a"
   ]
  },
  {
   "cell_type": "code",
   "execution_count": 45,
   "id": "167ebdcc",
   "metadata": {},
   "outputs": [
    {
     "data": {
      "text/plain": [
       "'sj'"
      ]
     },
     "execution_count": 45,
     "metadata": {},
     "output_type": "execute_result"
    }
   ],
   "source": [
    "test('sj')"
   ]
  },
  {
   "cell_type": "code",
   "execution_count": 46,
   "id": "62655b23",
   "metadata": {},
   "outputs": [
    {
     "ename": "ZeroDivisionError",
     "evalue": "('you have entered a nagtive value ', 'sjs')",
     "output_type": "error",
     "traceback": [
      "\u001b[1;31m---------------------------------------------------------------------------\u001b[0m",
      "\u001b[1;31mZeroDivisionError\u001b[0m                         Traceback (most recent call last)",
      "Cell \u001b[1;32mIn[46], line 1\u001b[0m\n\u001b[1;32m----> 1\u001b[0m \u001b[43mtest\u001b[49m\u001b[43m(\u001b[49m\u001b[38;5;124;43m'\u001b[39;49m\u001b[38;5;124;43msjs\u001b[39;49m\u001b[38;5;124;43m'\u001b[39;49m\u001b[43m)\u001b[49m\n",
      "Cell \u001b[1;32mIn[44], line 3\u001b[0m, in \u001b[0;36mtest\u001b[1;34m(a)\u001b[0m\n\u001b[0;32m      1\u001b[0m \u001b[38;5;28;01mdef\u001b[39;00m \u001b[38;5;21mtest\u001b[39m(a):\n\u001b[0;32m      2\u001b[0m     \u001b[38;5;28;01mif\u001b[39;00m a \u001b[38;5;241m==\u001b[39m \u001b[38;5;124m\"\u001b[39m\u001b[38;5;124msjs\u001b[39m\u001b[38;5;124m\"\u001b[39m :\n\u001b[1;32m----> 3\u001b[0m         \u001b[38;5;28;01mraise\u001b[39;00m \u001b[38;5;167;01mZeroDivisionError\u001b[39;00m(\u001b[38;5;124m\"\u001b[39m\u001b[38;5;124myou have entered a nagtive value \u001b[39m\u001b[38;5;124m\"\u001b[39m,a)\n\u001b[0;32m      4\u001b[0m     \u001b[38;5;28;01mreturn\u001b[39;00m a\n",
      "\u001b[1;31mZeroDivisionError\u001b[0m: ('you have entered a nagtive value ', 'sjs')"
     ]
    }
   ],
   "source": [
    "test('sjs')"
   ]
  },
  {
   "cell_type": "code",
   "execution_count": 49,
   "id": "6e8050fb",
   "metadata": {},
   "outputs": [
    {
     "name": "stdout",
     "output_type": "stream",
     "text": [
      "10\n",
      "{1: 'niyati', 2: 'jalpa', 'y': 10}\n"
     ]
    }
   ],
   "source": [
    "try:\n",
    "    dict1 = {1:'niyati',2:'jalpa'}\n",
    "    dict1['y']=int(input())\n",
    "    print(dict1)\n",
    "except Exception as e:\n",
    "    print(e)"
   ]
  },
  {
   "cell_type": "code",
   "execution_count": 56,
   "id": "5e387393",
   "metadata": {
    "scrolled": true
   },
   "outputs": [
    {
     "name": "stdout",
     "output_type": "stream",
     "text": [
      "hkjhh\n"
     ]
    },
    {
     "ename": "ValueError",
     "evalue": "invalid literal for int() with base 10: 'hkjhh'",
     "output_type": "error",
     "traceback": [
      "\u001b[1;31m---------------------------------------------------------------------------\u001b[0m",
      "\u001b[1;31mValueError\u001b[0m                                Traceback (most recent call last)",
      "Cell \u001b[1;32mIn[56], line 2\u001b[0m\n\u001b[0;32m      1\u001b[0m dict1 \u001b[38;5;241m=\u001b[39m {\u001b[38;5;241m1\u001b[39m:\u001b[38;5;124m'\u001b[39m\u001b[38;5;124mniyati\u001b[39m\u001b[38;5;124m'\u001b[39m,\u001b[38;5;241m2\u001b[39m:\u001b[38;5;124m'\u001b[39m\u001b[38;5;124mjalpa\u001b[39m\u001b[38;5;124m'\u001b[39m}\n\u001b[1;32m----> 2\u001b[0m dict1[\u001b[38;5;124m'\u001b[39m\u001b[38;5;124my\u001b[39m\u001b[38;5;124m'\u001b[39m]\u001b[38;5;241m=\u001b[39m\u001b[38;5;28;43mint\u001b[39;49m\u001b[43m(\u001b[49m\u001b[38;5;28;43minput\u001b[39;49m\u001b[43m(\u001b[49m\u001b[43m)\u001b[49m\u001b[43m)\u001b[49m\n\u001b[0;32m      3\u001b[0m \u001b[38;5;28;01mif\u001b[39;00m \u001b[38;5;28mtype\u001b[39m(dict1[\u001b[38;5;124m'\u001b[39m\u001b[38;5;124my\u001b[39m\u001b[38;5;124m'\u001b[39m]) \u001b[38;5;241m==\u001b[39m \u001b[38;5;28mint\u001b[39m:\n\u001b[0;32m      4\u001b[0m      \u001b[38;5;28;01mraise\u001b[39;00m \u001b[38;5;167;01mZeroDivisionError\u001b[39;00m(\u001b[38;5;124m\"\u001b[39m\u001b[38;5;124myou have entered a valid value \u001b[39m\u001b[38;5;124m\"\u001b[39m,dict1)\n",
      "\u001b[1;31mValueError\u001b[0m: invalid literal for int() with base 10: 'hkjhh'"
     ]
    }
   ],
   "source": [
    "#for understanding\n",
    "dict1 = {1:'niyati',2:'jalpa'}\n",
    "dict1['y']=int(input())\n",
    "if type(dict1['y']) == int:\n",
    "     raise ZeroDivisionError(\"you have entered a valid value \",dict1)\n",
    "\n",
    "    "
   ]
  },
  {
   "cell_type": "code",
   "execution_count": 57,
   "id": "148b12ed",
   "metadata": {},
   "outputs": [
    {
     "name": "stdout",
     "output_type": "stream",
     "text": [
      "10\n"
     ]
    },
    {
     "ename": "ZeroDivisionError",
     "evalue": "('you have entered a valid value ', {1: 'niyati', 2: 'jalpa', 'y': 10})",
     "output_type": "error",
     "traceback": [
      "\u001b[1;31m---------------------------------------------------------------------------\u001b[0m",
      "\u001b[1;31mZeroDivisionError\u001b[0m                         Traceback (most recent call last)",
      "Cell \u001b[1;32mIn[57], line 4\u001b[0m\n\u001b[0;32m      2\u001b[0m dict1[\u001b[38;5;124m'\u001b[39m\u001b[38;5;124my\u001b[39m\u001b[38;5;124m'\u001b[39m]\u001b[38;5;241m=\u001b[39m\u001b[38;5;28mint\u001b[39m(\u001b[38;5;28minput\u001b[39m())\n\u001b[0;32m      3\u001b[0m \u001b[38;5;28;01mif\u001b[39;00m \u001b[38;5;28mtype\u001b[39m(dict1[\u001b[38;5;124m'\u001b[39m\u001b[38;5;124my\u001b[39m\u001b[38;5;124m'\u001b[39m]) \u001b[38;5;241m==\u001b[39m \u001b[38;5;28mint\u001b[39m:\n\u001b[1;32m----> 4\u001b[0m      \u001b[38;5;28;01mraise\u001b[39;00m \u001b[38;5;167;01mZeroDivisionError\u001b[39;00m(\u001b[38;5;124m\"\u001b[39m\u001b[38;5;124myou have entered a valid value \u001b[39m\u001b[38;5;124m\"\u001b[39m,dict1)\n",
      "\u001b[1;31mZeroDivisionError\u001b[0m: ('you have entered a valid value ', {1: 'niyati', 2: 'jalpa', 'y': 10})"
     ]
    }
   ],
   "source": [
    "dict1 = {1:'niyati',2:'jalpa'}\n",
    "dict1['y']=int(input())\n",
    "if type(dict1['y']) == int:\n",
    "     raise ZeroDivisionError(\"you have entered a valid value \",dict1)"
   ]
  },
  {
   "cell_type": "code",
   "execution_count": 61,
   "id": "6a2b4a32",
   "metadata": {},
   "outputs": [],
   "source": [
    "def test():\n",
    "    dict1 = {1:'niyati',2:'jalpa'}\n",
    "    dict1['y']=int(input())\n",
    "    if type(dict1['y']) == int:\n",
    "        raise ZeroDivisionError(\"you have entered a valid value \")\n",
    "    return dict1"
   ]
  },
  {
   "cell_type": "code",
   "execution_count": 64,
   "id": "9feaa1c4",
   "metadata": {
    "scrolled": false
   },
   "outputs": [
    {
     "name": "stdout",
     "output_type": "stream",
     "text": [
      "10\n"
     ]
    },
    {
     "ename": "ZeroDivisionError",
     "evalue": "you have entered a valid value ",
     "output_type": "error",
     "traceback": [
      "\u001b[1;31m---------------------------------------------------------------------------\u001b[0m",
      "\u001b[1;31mZeroDivisionError\u001b[0m                         Traceback (most recent call last)",
      "Cell \u001b[1;32mIn[64], line 1\u001b[0m\n\u001b[1;32m----> 1\u001b[0m \u001b[43mtest\u001b[49m\u001b[43m(\u001b[49m\u001b[43m)\u001b[49m\n",
      "Cell \u001b[1;32mIn[61], line 5\u001b[0m, in \u001b[0;36mtest\u001b[1;34m()\u001b[0m\n\u001b[0;32m      3\u001b[0m dict1[\u001b[38;5;124m'\u001b[39m\u001b[38;5;124my\u001b[39m\u001b[38;5;124m'\u001b[39m]\u001b[38;5;241m=\u001b[39m\u001b[38;5;28mint\u001b[39m(\u001b[38;5;28minput\u001b[39m())\n\u001b[0;32m      4\u001b[0m \u001b[38;5;28;01mif\u001b[39;00m \u001b[38;5;28mtype\u001b[39m(dict1[\u001b[38;5;124m'\u001b[39m\u001b[38;5;124my\u001b[39m\u001b[38;5;124m'\u001b[39m]) \u001b[38;5;241m==\u001b[39m \u001b[38;5;28mint\u001b[39m:\n\u001b[1;32m----> 5\u001b[0m     \u001b[38;5;28;01mraise\u001b[39;00m \u001b[38;5;167;01mZeroDivisionError\u001b[39;00m(\u001b[38;5;124m\"\u001b[39m\u001b[38;5;124myou have entered a valid value \u001b[39m\u001b[38;5;124m\"\u001b[39m)\n\u001b[0;32m      6\u001b[0m \u001b[38;5;28;01mreturn\u001b[39;00m dict1\n",
      "\u001b[1;31mZeroDivisionError\u001b[0m: you have entered a valid value "
     ]
    }
   ],
   "source": [
    "test()"
   ]
  },
  {
   "cell_type": "code",
   "execution_count": 65,
   "id": "9eb73526",
   "metadata": {},
   "outputs": [
    {
     "name": "stdout",
     "output_type": "stream",
     "text": [
      "jhjkfh\n",
      "invalid literal for int() with base 10: 'jhjkfh'\n"
     ]
    }
   ],
   "source": [
    "try:\n",
    "    d= {1:\"niyati\",2:20,3:\"vyas\"}\n",
    "    d[\"key4\"] = int(input())\n",
    "    f = open(\"test2\",\"r\")\n",
    "\n",
    "except ValueError as xyz :\n",
    "    print(xyz)\n",
    "except FileNotFoundError as e:\n",
    "    print(e)\n",
    "except Exception as ee:\n",
    "    print(ee)"
   ]
  }
 ],
 "metadata": {
  "kernelspec": {
   "display_name": "Python 3 (ipykernel)",
   "language": "python",
   "name": "python3"
  },
  "language_info": {
   "codemirror_mode": {
    "name": "ipython",
    "version": 3
   },
   "file_extension": ".py",
   "mimetype": "text/x-python",
   "name": "python",
   "nbconvert_exporter": "python",
   "pygments_lexer": "ipython3",
   "version": "3.10.9"
  }
 },
 "nbformat": 4,
 "nbformat_minor": 5
}
