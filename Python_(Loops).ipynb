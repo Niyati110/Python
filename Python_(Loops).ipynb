{
 "cells": [
  {
   "cell_type": "markdown",
   "id": "8e825f87",
   "metadata": {},
   "source": [
    "# For Loop\n"
   ]
  },
  {
   "cell_type": "code",
   "execution_count": 1,
   "id": "7ae121ec",
   "metadata": {},
   "outputs": [],
   "source": [
    "l=['x','y',12,13]"
   ]
  },
  {
   "cell_type": "code",
   "execution_count": 2,
   "id": "68bd3ebd",
   "metadata": {},
   "outputs": [
    {
     "data": {
      "text/plain": [
       "['x', 'y', 12, 13]"
      ]
     },
     "execution_count": 2,
     "metadata": {},
     "output_type": "execute_result"
    }
   ],
   "source": [
    "l"
   ]
  },
  {
   "cell_type": "code",
   "execution_count": 3,
   "id": "8439db0f",
   "metadata": {},
   "outputs": [
    {
     "name": "stdout",
     "output_type": "stream",
     "text": [
      "x\n",
      "y\n",
      "12\n",
      "13\n"
     ]
    }
   ],
   "source": [
    "for i in l:\n",
    "    print(i)"
   ]
  },
  {
   "cell_type": "code",
   "execution_count": 4,
   "id": "39681cac",
   "metadata": {},
   "outputs": [
    {
     "data": {
      "text/plain": [
       "range(0, 13)"
      ]
     },
     "execution_count": 4,
     "metadata": {},
     "output_type": "execute_result"
    }
   ],
   "source": [
    "range(i)"
   ]
  },
  {
   "cell_type": "code",
   "execution_count": 9,
   "id": "669c2b7d",
   "metadata": {},
   "outputs": [
    {
     "data": {
      "text/plain": [
       "range(0, 5)"
      ]
     },
     "execution_count": 9,
     "metadata": {},
     "output_type": "execute_result"
    }
   ],
   "source": [
    "range(5)"
   ]
  },
  {
   "cell_type": "code",
   "execution_count": 10,
   "id": "92baf036",
   "metadata": {},
   "outputs": [
    {
     "data": {
      "text/plain": [
       "range(0, 10)"
      ]
     },
     "execution_count": 10,
     "metadata": {},
     "output_type": "execute_result"
    }
   ],
   "source": [
    "range(0,10)"
   ]
  },
  {
   "cell_type": "code",
   "execution_count": 11,
   "id": "99ce66fb",
   "metadata": {},
   "outputs": [
    {
     "data": {
      "text/plain": [
       "[0, 1, 2, 3, 4, 5, 6, 7, 8, 9]"
      ]
     },
     "execution_count": 11,
     "metadata": {},
     "output_type": "execute_result"
    }
   ],
   "source": [
    "list(range(10))"
   ]
  },
  {
   "cell_type": "code",
   "execution_count": 12,
   "id": "7e9a1576",
   "metadata": {},
   "outputs": [
    {
     "data": {
      "text/plain": [
       "[1, 3, 5, 7, 9]"
      ]
     },
     "execution_count": 12,
     "metadata": {},
     "output_type": "execute_result"
    }
   ],
   "source": [
    "list(range(1,10,2))"
   ]
  },
  {
   "cell_type": "code",
   "execution_count": 13,
   "id": "56aaeb89",
   "metadata": {},
   "outputs": [
    {
     "data": {
      "text/plain": [
       "[10, 9, 8, 7, 6, 5, 4, 3, 2, 1]"
      ]
     },
     "execution_count": 13,
     "metadata": {},
     "output_type": "execute_result"
    }
   ],
   "source": [
    "list(range(10,0,-1))"
   ]
  },
  {
   "cell_type": "code",
   "execution_count": 5,
   "id": "3b2e41b0",
   "metadata": {},
   "outputs": [
    {
     "name": "stdout",
     "output_type": "stream",
     "text": [
      "0\n",
      "1\n",
      "2\n",
      "3\n",
      "4\n"
     ]
    }
   ],
   "source": [
    "for i in range(5):\n",
    "    print(i)"
   ]
  },
  {
   "cell_type": "code",
   "execution_count": 18,
   "id": "58d1ceb5",
   "metadata": {
    "scrolled": true
   },
   "outputs": [
    {
     "name": "stdout",
     "output_type": "stream",
     "text": [
      "0\n",
      "1\n",
      "2\n",
      "3\n",
      "4\n",
      "5\n",
      "6\n",
      "7\n",
      "8\n",
      "9\n"
     ]
    }
   ],
   "source": [
    "for i in range(0,10):\n",
    "    print(i)"
   ]
  },
  {
   "cell_type": "code",
   "execution_count": 21,
   "id": "e70eebe8",
   "metadata": {
    "scrolled": true
   },
   "outputs": [
    {
     "name": "stdout",
     "output_type": "stream",
     "text": [
      "10\n",
      "9\n",
      "8\n",
      "7\n",
      "6\n",
      "5\n",
      "4\n",
      "3\n",
      "2\n",
      "1\n"
     ]
    }
   ],
   "source": [
    "for i in range(10,0,-1):\n",
    "    print(i)"
   ]
  },
  {
   "cell_type": "code",
   "execution_count": 22,
   "id": "2af434d1",
   "metadata": {
    "scrolled": true
   },
   "outputs": [
    {
     "name": "stdout",
     "output_type": "stream",
     "text": [
      "58\n",
      "niyati\n",
      "6\n",
      "8\n",
      "5\n"
     ]
    }
   ],
   "source": [
    "l1=[5,8,6,'niyati',58]\n",
    "for i in l1[::-1]:\n",
    "    print(i)"
   ]
  },
  {
   "cell_type": "code",
   "execution_count": 23,
   "id": "d572e6f5",
   "metadata": {},
   "outputs": [
    {
     "name": "stdout",
     "output_type": "stream",
     "text": [
      "i\n",
      "t\n",
      "a\n",
      "y\n",
      "i\n",
      "n\n"
     ]
    }
   ],
   "source": [
    "a='niyati'\n",
    "for i in a[::-1]:\n",
    "    print(i)"
   ]
  },
  {
   "cell_type": "code",
   "execution_count": 7,
   "id": "e90fc69a",
   "metadata": {},
   "outputs": [
    {
     "name": "stdout",
     "output_type": "stream",
     "text": [
      "jalpa\n",
      "anushka\n"
     ]
    }
   ],
   "source": [
    "l=[\"jalpa\",\"anushka\",\"taksh\",\"niyati\",\"parvati\"]\n",
    "for x in l:\n",
    "    if x == \"taksh\":\n",
    "        break\n",
    "    print(x)"
   ]
  },
  {
   "cell_type": "code",
   "execution_count": 8,
   "id": "d9788847",
   "metadata": {},
   "outputs": [
    {
     "name": "stdout",
     "output_type": "stream",
     "text": [
      "jalpa\n",
      "anushka\n",
      "niyati\n",
      "parvati\n"
     ]
    }
   ],
   "source": [
    "l=[\"jalpa\",\"anushka\",\"taksh\",\"niyati\",\"parvati\"]\n",
    "for x in l:\n",
    "    if x == \"taksh\":\n",
    "        continue\n",
    "    print(x)"
   ]
  },
  {
   "cell_type": "code",
   "execution_count": 5,
   "id": "95fd1f86",
   "metadata": {},
   "outputs": [
    {
     "name": "stdout",
     "output_type": "stream",
     "text": [
      "jalpa\n",
      "anushka\n",
      "taksh\n",
      "niyati\n",
      "parvati\n"
     ]
    }
   ],
   "source": [
    "l=[\"jalpa\",\"anushka\",\"taksh\",\"niyati\",\"parvati\"]\n",
    "for x in l:\n",
    "    if x == \"taksh\":\n",
    "        pass\n",
    "    print(x)"
   ]
  },
  {
   "cell_type": "code",
   "execution_count": 6,
   "id": "01cb7acf",
   "metadata": {
    "scrolled": true
   },
   "outputs": [
    {
     "name": "stdout",
     "output_type": "stream",
     "text": [
      "4\n",
      "5\n",
      "8\n"
     ]
    }
   ],
   "source": [
    "l=[4,5,8,'niyati','zyx','u']\n",
    "for i in l:\n",
    "    if i =='niyati':\n",
    "        break\n",
    "    print(i)    "
   ]
  },
  {
   "cell_type": "code",
   "execution_count": 46,
   "id": "09ad93d6",
   "metadata": {},
   "outputs": [
    {
     "name": "stdout",
     "output_type": "stream",
     "text": [
      "2\n",
      "6\n",
      "2\n"
     ]
    }
   ],
   "source": [
    "l=[2,7,6,9,5.5,2]\n",
    "for x in l:\n",
    "    if x%2 == 0:        \n",
    "        print(x)"
   ]
  },
  {
   "cell_type": "code",
   "execution_count": 49,
   "id": "172e80cc",
   "metadata": {},
   "outputs": [
    {
     "name": "stdout",
     "output_type": "stream",
     "text": [
      "2\n",
      "6\n"
     ]
    },
    {
     "ename": "TypeError",
     "evalue": "not all arguments converted during string formatting",
     "output_type": "error",
     "traceback": [
      "\u001b[1;31m---------------------------------------------------------------------------\u001b[0m",
      "\u001b[1;31mTypeError\u001b[0m                                 Traceback (most recent call last)",
      "Cell \u001b[1;32mIn[49], line 3\u001b[0m\n\u001b[0;32m      1\u001b[0m l\u001b[38;5;241m=\u001b[39m[\u001b[38;5;241m2\u001b[39m,\u001b[38;5;241m7\u001b[39m,\u001b[38;5;241m6\u001b[39m,\u001b[38;5;241m9\u001b[39m,\u001b[38;5;124m'\u001b[39m\u001b[38;5;124mniyati\u001b[39m\u001b[38;5;124m'\u001b[39m,\u001b[38;5;241m5.5\u001b[39m,\u001b[38;5;241m2\u001b[39m]\n\u001b[0;32m      2\u001b[0m \u001b[38;5;28;01mfor\u001b[39;00m x \u001b[38;5;129;01min\u001b[39;00m l:\n\u001b[1;32m----> 3\u001b[0m     \u001b[38;5;28;01mif\u001b[39;00m \u001b[43mx\u001b[49m\u001b[38;5;241;43m%\u001b[39;49m\u001b[38;5;241;43m2\u001b[39;49m \u001b[38;5;241m==\u001b[39m \u001b[38;5;241m0\u001b[39m:  \n\u001b[0;32m      4\u001b[0m         \u001b[38;5;28;01mif\u001b[39;00m \u001b[38;5;28mtype\u001b[39m(x) \u001b[38;5;241m==\u001b[39m\u001b[38;5;28mstr\u001b[39m:\n\u001b[0;32m      5\u001b[0m             \u001b[38;5;28;01mpass\u001b[39;00m\n",
      "\u001b[1;31mTypeError\u001b[0m: not all arguments converted during string formatting"
     ]
    }
   ],
   "source": [
    "# This for understanding\n",
    "l=[2,7,6,9,'niyati',5.5,2]\n",
    "for x in l:\n",
    "    if x%2 == 0:  \n",
    "        if type(x) ==str:\n",
    "            pass\n",
    "        print(x)"
   ]
  },
  {
   "cell_type": "code",
   "execution_count": 24,
   "id": "8432acea",
   "metadata": {
    "scrolled": false
   },
   "outputs": [
    {
     "name": "stdout",
     "output_type": "stream",
     "text": [
      "5\n",
      "4\n",
      "8\n"
     ]
    }
   ],
   "source": [
    "l=[5,4,8,'niyatu','h',5.5,6+6j]\n",
    "for i in l:\n",
    "    if type(i) == int:\n",
    "        print(i)"
   ]
  },
  {
   "cell_type": "code",
   "execution_count": 25,
   "id": "17e2cd44",
   "metadata": {},
   "outputs": [
    {
     "name": "stdout",
     "output_type": "stream",
     "text": [
      "niyatu\n",
      "h\n"
     ]
    }
   ],
   "source": [
    "l=[5,4,8,'niyatu','h',[4,45,5]]\n",
    "for i in l:\n",
    "    if type(i) == str:\n",
    "        print(i)\n",
    "        \n",
    "        "
   ]
  },
  {
   "cell_type": "code",
   "execution_count": 38,
   "id": "b595f88b",
   "metadata": {
    "scrolled": true
   },
   "outputs": [
    {
     "name": "stdout",
     "output_type": "stream",
     "text": [
      "5\n",
      "4\n",
      "8\n",
      "4\n",
      "45\n",
      "5\n"
     ]
    }
   ],
   "source": [
    "l=[5,4,8,'niyatu','h',[4,45,5]]\n",
    "for i in l:\n",
    "    if type(i) == int:\n",
    "        print(i)\n",
    "for j in l[5]:\n",
    "    if type(j) == int:\n",
    "        print(j)        \n",
    "        "
   ]
  },
  {
   "cell_type": "code",
   "execution_count": 26,
   "id": "cf7bf129",
   "metadata": {
    "scrolled": true
   },
   "outputs": [
    {
     "name": "stdout",
     "output_type": "stream",
     "text": [
      "Enter the list l1:\n",
      "Enter the list l2:\n",
      "length of both list is same\n"
     ]
    }
   ],
   "source": [
    "l1=input(\"Enter the list l1:\")\n",
    "l2=input(\"Enter the list l2:\")\n",
    "if len(l1) == len(l2):\n",
    "    print(\"length of both list is same\")\n",
    "else:\n",
    "    print(\"length of both list is not same\")"
   ]
  },
  {
   "cell_type": "code",
   "execution_count": 27,
   "id": "f0afd808",
   "metadata": {},
   "outputs": [
    {
     "name": "stdout",
     "output_type": "stream",
     "text": [
      "Enter the list l1:\n",
      "Enter the list l2:\n",
      "type of both list is same\n"
     ]
    }
   ],
   "source": [
    "l1=input(\"Enter the list l1:\")\n",
    "l2=input(\"Enter the list l2:\")\n",
    "if type(l1) == type(l2):\n",
    "    print(\"type of both list is same\")\n",
    "else:\n",
    "    print(\"type of both list is not same\")"
   ]
  },
  {
   "cell_type": "code",
   "execution_count": 29,
   "id": "e8b3322e",
   "metadata": {
    "scrolled": true
   },
   "outputs": [
    {
     "name": "stdout",
     "output_type": "stream",
     "text": [
      "Enter the list l1:8,88,9,9,\n",
      "Enter the list l2:8,55,68,5\n",
      "first element of both list is same\n"
     ]
    }
   ],
   "source": [
    "l1=input(\"Enter the list l1:\")\n",
    "l2=input(\"Enter the list l2:\")\n",
    "if l1[0] == l2[0]:\n",
    "    print(\"first element of both list is same\")\n",
    "else:\n",
    "    print(\"first element of both list is not same\")"
   ]
  },
  {
   "cell_type": "code",
   "execution_count": 34,
   "id": "548e2c60",
   "metadata": {
    "scrolled": false
   },
   "outputs": [
    {
     "name": "stdout",
     "output_type": "stream",
     "text": [
      "Enter the number for table: 1\n",
      "1 x 1 = 1\n",
      "1 x 2 = 2\n",
      "1 x 3 = 3\n",
      "1 x 4 = 4\n",
      "1 x 5 = 5\n",
      "1 x 6 = 6\n",
      "1 x 7 = 7\n",
      "1 x 8 = 8\n",
      "1 x 9 = 9\n",
      "1 x 10 = 10\n"
     ]
    }
   ],
   "source": [
    "num = int(input (\"Enter the number for table: \"))        \n",
    "for i in range(1, 11):      \n",
    "   print (num, 'x', i, '=', num * i)    "
   ]
  },
  {
   "cell_type": "code",
   "execution_count": 5,
   "id": "44133933",
   "metadata": {
    "scrolled": false
   },
   "outputs": [
    {
     "name": "stdout",
     "output_type": "stream",
     "text": [
      "enter the value of n :5\n",
      " *  \n",
      "\n",
      " *   *  \n",
      "\n",
      " *   *   *  \n",
      "\n",
      " *   *   *   *  \n",
      "\n",
      " *   *   *   *   *  \n",
      "\n"
     ]
    }
   ],
   "source": [
    "n = int(input(\"enter the value of n :\"))\n",
    "for i in range(n):\n",
    "    for j in range(0,i+1):\n",
    "        print(\" * \", end = \" \")\n",
    "    print('\\n')    "
   ]
  },
  {
   "cell_type": "code",
   "execution_count": 20,
   "id": "d5652e78",
   "metadata": {
    "scrolled": true
   },
   "outputs": [
    {
     "name": "stdout",
     "output_type": "stream",
     "text": [
      "enter the value of n :5\n",
      " *   *   *   *   *  \n",
      "\n",
      " *   *   *   *  \n",
      "\n",
      " *   *   *  \n",
      "\n",
      " *   *  \n",
      "\n",
      " *  \n",
      "\n"
     ]
    }
   ],
   "source": [
    "n = int(input(\"enter the value of n :\"))\n",
    "for i in range(n,0,-1):\n",
    "    for j in range(0,i):\n",
    "        print(\" * \", end = \" \")\n",
    "    print('\\n') "
   ]
  },
  {
   "cell_type": "code",
   "execution_count": 4,
   "id": "44463100",
   "metadata": {
    "scrolled": true
   },
   "outputs": [
    {
     "name": "stdout",
     "output_type": "stream",
     "text": [
      "enter the value of n :5\n",
      " *   *   *   *   *  \n",
      "\n",
      " *   *   *   *   *  \n",
      "\n",
      " *   *   *   *   *  \n",
      "\n",
      " *   *   *   *   *  \n",
      "\n",
      " *   *   *   *   *  \n",
      "\n"
     ]
    }
   ],
   "source": [
    "n = int(input(\"enter the value of n :\"))\n",
    "for i in range(n):\n",
    "    for j in range(i,i+n):\n",
    "        print(\" * \", end = \" \")\n",
    "    print('\\n')    "
   ]
  },
  {
   "cell_type": "code",
   "execution_count": 3,
   "id": "f15e40db",
   "metadata": {},
   "outputs": [
    {
     "name": "stdout",
     "output_type": "stream",
     "text": [
      "enter the value of n :6\n",
      "\n",
      "\n",
      "1 \n",
      "\n",
      "1 2 \n",
      "\n",
      "1 2 3 \n",
      "\n",
      "1 2 3 4 \n",
      "\n",
      "1 2 3 4 5 \n",
      "\n"
     ]
    }
   ],
   "source": [
    "n = int(input(\"enter the value of n :\"))\n",
    "for i in range(n):\n",
    "    for j in range(1,i+1):\n",
    "        print(j, end = \" \")\n",
    "    print('\\n')    "
   ]
  },
  {
   "cell_type": "code",
   "execution_count": 6,
   "id": "25f6fe09",
   "metadata": {
    "scrolled": true
   },
   "outputs": [
    {
     "name": "stdout",
     "output_type": "stream",
     "text": [
      "enter the value of n :5\n",
      "\n",
      "\n",
      "1 \n",
      "\n",
      "2 2 \n",
      "\n",
      "3 3 3 \n",
      "\n",
      "4 4 4 4 \n",
      "\n"
     ]
    }
   ],
   "source": [
    "n = int(input(\"enter the value of n :\"))\n",
    "for i in range(n):\n",
    "    for j in range(1,i+1):\n",
    "        print(i, end = \" \")\n",
    "    print('\\n')    "
   ]
  },
  {
   "cell_type": "code",
   "execution_count": 8,
   "id": "ba891767",
   "metadata": {},
   "outputs": [
    {
     "name": "stdout",
     "output_type": "stream",
     "text": [
      "enter the value of n :5\n",
      "A \n",
      "\n",
      "A B \n",
      "\n",
      "A B C \n",
      "\n",
      "A B C D \n",
      "\n"
     ]
    }
   ],
   "source": [
    "n = int(input(\"enter the value of n :\"))\n",
    "for i in range(1,n):\n",
    "    for j in range(65,65+i):\n",
    "        print(chr(j), end = \" \")\n",
    "    print('\\n')    "
   ]
  },
  {
   "cell_type": "code",
   "execution_count": 7,
   "id": "c8853d53",
   "metadata": {
    "scrolled": false
   },
   "outputs": [
    {
     "name": "stdout",
     "output_type": "stream",
     "text": [
      "enter the value of n :5\n",
      "a \n",
      "\n",
      "a b \n",
      "\n",
      "a b c \n",
      "\n",
      "a b c d \n",
      "\n"
     ]
    }
   ],
   "source": [
    "n = int(input(\"enter the value of n :\"))\n",
    "for i in range(1,n):\n",
    "    for j in range(97,97+i):\n",
    "        print(chr(j), end = \" \")\n",
    "    print('\\n')    "
   ]
  },
  {
   "cell_type": "code",
   "execution_count": 2,
   "id": "2252e4be",
   "metadata": {
    "scrolled": true
   },
   "outputs": [
    {
     "name": "stdout",
     "output_type": "stream",
     "text": [
      "enter number of rows: 5\n",
      "A \n",
      "\n",
      "B B \n",
      "\n",
      "C C C \n",
      "\n",
      "D D D D \n",
      "\n",
      "E E E E E \n",
      "\n"
     ]
    }
   ],
   "source": [
    "rows = int(input(\"enter number of rows: \"))\n",
    "\n",
    "ascii_value =65\n",
    "\n",
    "for i in range(rows):\n",
    "    for j in range(i+1):\n",
    "        alphabet = chr(ascii_value)\n",
    "        print(alphabet, end = \" \")\n",
    "    ascii_value = ascii_value+1\n",
    "    print('\\n')    "
   ]
  },
  {
   "cell_type": "code",
   "execution_count": 11,
   "id": "8fba5d55",
   "metadata": {
    "scrolled": true
   },
   "outputs": [
    {
     "name": "stdout",
     "output_type": "stream",
     "text": [
      "enter number of rows: 5\n",
      "a \n",
      "\n",
      "b b \n",
      "\n",
      "c c c \n",
      "\n",
      "d d d d \n",
      "\n",
      "e e e e e \n",
      "\n"
     ]
    }
   ],
   "source": [
    "rows = int(input(\"enter number of rows: \"))\n",
    "\n",
    "ascii_value =97\n",
    "\n",
    "for i in range(rows):\n",
    "    for j in range(i+1):\n",
    "        alphabet = chr(ascii_value)\n",
    "        print(alphabet, end = \" \")\n",
    "    ascii_value = ascii_value+1\n",
    "    print('\\n')"
   ]
  },
  {
   "cell_type": "code",
   "execution_count": 10,
   "id": "d67558b4",
   "metadata": {},
   "outputs": [],
   "source": [
    "# hollow squre\n",
    "# alphabet\n",
    "# prime no. / 1-100 found\n",
    "# febonacii\n",
    "# list "
   ]
  },
  {
   "cell_type": "code",
   "execution_count": 1,
   "id": "386e3890",
   "metadata": {},
   "outputs": [
    {
     "name": "stdout",
     "output_type": "stream",
     "text": [
      " 2   3   5   7   11   13   17   19   23   29   31   37   41   43   47   53   59   61   67   71   73   79   83   89   97  "
     ]
    }
   ],
   "source": [
    "# prime no. 1-100\n",
    "for Number in range (1, 101):\n",
    "    count = 0\n",
    "    for i in range(2, (Number//2 + 1)):\n",
    "        if(Number % i == 0):\n",
    "            count = count + 1\n",
    "            break\n",
    "\n",
    "    if (count == 0 and Number != 1):\n",
    "        print(\" %d\" %Number, end = '  ')"
   ]
  },
  {
   "cell_type": "code",
   "execution_count": 14,
   "id": "466fabc0",
   "metadata": {},
   "outputs": [
    {
     "name": "stdout",
     "output_type": "stream",
     "text": [
      "Enter a number: 547674\n",
      "547674 is not a prime number\n",
      "2 times 273837 is 547674\n"
     ]
    }
   ],
   "source": [
    "#check prime no.\n",
    "num = int(input(\"Enter a number: \"))\n",
    "\n",
    "if num == 1:\n",
    "    print(num, \"is not a prime number\")\n",
    "elif num > 1:\n",
    "    for i in range(2,num):\n",
    "        if (num % i) == 0:\n",
    "            print(num,\"is not a prime number\")\n",
    "            print(i,\"times\",num//i,\"is\",num)\n",
    "            break\n",
    "    else:\n",
    "        print(num,\"is a prime number\")\n",
    "else:\n",
    "    print(num,\"is not a prime number\")"
   ]
  },
  {
   "cell_type": "code",
   "execution_count": 3,
   "id": "b6546cfc",
   "metadata": {},
   "outputs": [
    {
     "name": "stdout",
     "output_type": "stream",
     "text": [
      "Enter length of Fibonacci series: 10\n",
      "0 1 1 2 3 5 8 13 21 34 "
     ]
    }
   ],
   "source": [
    "#fibonacci series\n",
    "n = int(input(\"Enter length of Fibonacci series: \"))\n",
    "num1 = 0\n",
    "num2 = 1\n",
    "next_number = 0\n",
    "count = 1\n",
    "while(count <= n):\n",
    "    print(next_number, end=\" \")\n",
    "    count += 1\n",
    "    num1 = num2\n",
    "    num2 = next_number\n",
    "    next_number = num1 + num2\n",
    "    t_number = num1 + num2"
   ]
  },
  {
   "cell_type": "code",
   "execution_count": 1,
   "id": "eec4ea9c",
   "metadata": {},
   "outputs": [
    {
     "name": "stdout",
     "output_type": "stream",
     "text": [
      "* * * * * \n",
      "*       * \n",
      "*       * \n",
      "*       * \n",
      "* * * * * \n"
     ]
    }
   ],
   "source": [
    "#hollow square\n",
    "for raw in range(5):\n",
    "    for col in range(5):\n",
    "        if (raw in (0,4)):\n",
    "            print(\"*\",end=' ')\n",
    "        elif (raw in (1,2,3,4)) and (col in (0,4)):\n",
    "            print(\"*\",end=' ')\n",
    "        else:\n",
    "            print(\" \",end=' ')\n",
    "    print()        \n",
    "           "
   ]
  },
  {
   "cell_type": "code",
   "execution_count": 4,
   "id": "cd60c8e3",
   "metadata": {},
   "outputs": [
    {
     "name": "stdout",
     "output_type": "stream",
     "text": [
      "* * * * * \n",
      "* n n n * \n",
      "* n n n * \n",
      "* n n n * \n",
      "* * * * * \n"
     ]
    }
   ],
   "source": [
    "for raw in range(5):\n",
    "    for col in range(5):\n",
    "        if (raw in (0,4)):\n",
    "            print(\"*\",end=' ')\n",
    "        elif (raw in (1,2,3,4)) and (col in (0,4)):\n",
    "            print(\"*\",end=' ')\n",
    "        else:\n",
    "            print(\"n\",end=' ')\n",
    "    print()  "
   ]
  },
  {
   "cell_type": "code",
   "execution_count": 2,
   "id": "a7d39525",
   "metadata": {},
   "outputs": [
    {
     "name": "stdout",
     "output_type": "stream",
     "text": [
      "* * * * * \n",
      "*       * \n",
      "*   n   * \n",
      "*       * \n",
      "* * * * * \n"
     ]
    }
   ],
   "source": [
    "#alphabet in hollow square\n",
    "for raw in range(5):\n",
    "    for col in range(5):\n",
    "        if (raw in (0,4)):\n",
    "            print(\"*\",end=' ')\n",
    "        elif (raw in (1,2,3,4)) and (col in (0,4)):\n",
    "            print(\"*\",end=' ')\n",
    "        elif (raw in (0,2)) and (col in (0,2)):\n",
    "            print(\"n\",end=' ')  \n",
    "        else:\n",
    "            print(\" \",end=' ')\n",
    "    print()  "
   ]
  },
  {
   "cell_type": "code",
   "execution_count": 3,
   "id": "4c498734",
   "metadata": {},
   "outputs": [
    {
     "name": "stdout",
     "output_type": "stream",
     "text": [
      "  * * *   \n",
      "*       * \n",
      "*       * \n",
      "* * * * * \n",
      "*       * \n",
      "*       * \n",
      "*       * \n"
     ]
    }
   ],
   "source": [
    "for r in range(7):\n",
    "    for c in range(5):\n",
    "        if r==0 and c in {1,2,3}:\n",
    "            print('*', end=\" \")\n",
    "        elif r in {1,2,3,4,5,6} and c in {0,4}:\n",
    "            print('*', end=\" \")\n",
    "        elif r == 3:\n",
    "            print('*', end=\" \")\n",
    "        else:\n",
    "            print(' ', end=\" \")\n",
    "    print()       \n",
    "            "
   ]
  },
  {
   "cell_type": "code",
   "execution_count": 5,
   "id": "06522ab0",
   "metadata": {},
   "outputs": [
    {
     "name": "stdout",
     "output_type": "stream",
     "text": [
      "*       * \n",
      "* *     * \n",
      "*   *   * \n",
      "*     * * \n",
      "*       * \n"
     ]
    }
   ],
   "source": [
    "for r in range(5):\n",
    "    for c in range(5):\n",
    "        if r in {0,1,2,3,4} and c ==0:\n",
    "            print('*', end=\" \")\n",
    "        elif r == 1 and c == 1:\n",
    "             print('*', end=\" \")\n",
    "        elif r == 2 and c == 2:\n",
    "             print('*', end=\" \") \n",
    "        elif r == 3 and c == 3:\n",
    "             print('*', end=\" \")\n",
    "        elif r in {0,1,2,3,4} and c ==4:\n",
    "            print('*', end=\" \") \n",
    "        else:\n",
    "            print(' ', end=\" \")   \n",
    "    print()       \n",
    "                "
   ]
  },
  {
   "cell_type": "code",
   "execution_count": 21,
   "id": "fe1e5e0a",
   "metadata": {
    "scrolled": true
   },
   "outputs": [
    {
     "name": "stdout",
     "output_type": "stream",
     "text": [
      "1  \n",
      "2 3  \n",
      "4 5 6  \n",
      "7 8 9 10  \n",
      "11 12 13 14 15  \n"
     ]
    }
   ],
   "source": [
    "    num=1\n",
    "    n=5\n",
    "    for i in range(0,n):\n",
    "        for j in range(0,i+1):\n",
    "            print(num, end = \" \")\n",
    "            num=num+1\n",
    "        print(\" \") "
   ]
  },
  {
   "cell_type": "code",
   "execution_count": 3,
   "id": "0109b708",
   "metadata": {
    "scrolled": false
   },
   "outputs": [
    {
     "name": "stdout",
     "output_type": "stream",
     "text": [
      "Enter number of rows required:5\n",
      "        * \n",
      "\n",
      "      * * * \n",
      "\n",
      "    * * * * * \n",
      "\n",
      "  * * * * * * * \n",
      "\n",
      "* * * * * * * * * \n",
      "\n"
     ]
    }
   ],
   "source": [
    "n = int(input('Enter number of rows required:'))\n",
    "\n",
    "for i in range(n):\n",
    "    for j in range(n-i-1):\n",
    "        print(\" \",end=\" \")\n",
    "   \n",
    "    for j in range(2*i+1):    \n",
    "        print(\"*\",end=\" \")\n",
    "    print('\\n')    \n",
    "        \n",
    "    "
   ]
  },
  {
   "cell_type": "code",
   "execution_count": 4,
   "id": "ca2390f5",
   "metadata": {},
   "outputs": [
    {
     "name": "stdout",
     "output_type": "stream",
     "text": [
      "Enter number of rows required:5\n",
      "        * \n",
      "\n",
      "      * * \n",
      "\n",
      "    * * * \n",
      "\n",
      "  * * * * \n",
      "\n",
      "* * * * * \n",
      "\n"
     ]
    }
   ],
   "source": [
    "n = int(input('Enter number of rows required:'))\n",
    "\n",
    "for i in range(n):\n",
    "    for j in range(n-i-1):\n",
    "        print(\" \",end=\" \")\n",
    "   \n",
    "    for j in range(i+1):    \n",
    "        print(\"*\",end=\" \")\n",
    "    print('\\n')"
   ]
  },
  {
   "cell_type": "code",
   "execution_count": 21,
   "id": "9fc3f7dd",
   "metadata": {},
   "outputs": [
    {
     "name": "stdout",
     "output_type": "stream",
     "text": [
      "Enter number of rows required:5\n",
      "        *    \n",
      "\n",
      "      *    *    \n",
      "\n",
      "    *    *    *    \n",
      "\n",
      "  *    *    *    *    \n",
      "\n",
      "*    *    *    *    *    \n",
      "\n"
     ]
    }
   ],
   "source": [
    "n = int(input('Enter number of rows required:'))\n",
    "\n",
    "for i in range(n):\n",
    "    for j in range(n-i-1):\n",
    "        print(\" \",end=\" \")\n",
    "   \n",
    "    for j in range(i+1):    \n",
    "        print(\"*\",end=\"    \")\n",
    "    print('\\n')"
   ]
  },
  {
   "cell_type": "code",
   "execution_count": 14,
   "id": "52b28ffb",
   "metadata": {},
   "outputs": [
    {
     "name": "stdout",
     "output_type": "stream",
     "text": [
      "Enter number of rows required:5\n",
      "\n",
      "\n",
      "*  \n",
      "\n",
      "*  *  \n",
      "\n",
      "*  *  *  \n",
      "\n",
      "*  *  *  *  \n",
      "\n"
     ]
    }
   ],
   "source": [
    "n = int(input('Enter number of rows required:'))\n",
    "\n",
    "for i in range(n):\n",
    "    for j in range(i-1-n):\n",
    "        print(\"  \",end=\" \")\n",
    "   \n",
    "    for j in range(i):    \n",
    "        print(\"*\",end=\"  \")\n",
    "    print('\\n')"
   ]
  },
  {
   "cell_type": "code",
   "execution_count": 2,
   "id": "5378c6d4",
   "metadata": {
    "scrolled": true
   },
   "outputs": [
    {
     "name": "stdout",
     "output_type": "stream",
     "text": [
      "Enter diamond's height: 5\n",
      "      *\n",
      "     ***\n",
      "    *****\n",
      "   *******\n",
      "  *********\n",
      "   *******\n",
      "    *****\n",
      "     ***\n",
      "      *\n"
     ]
    }
   ],
   "source": [
    "n= eval(input(\"Enter diamond's height: \"))\n",
    "for x in range(n):\n",
    "    print(\" \"  * (n - x), \"*\" * (2*x + 1))\n",
    "for x in range(n - 2, -1, -1):\n",
    "    print(\" \"  * (n - x), \"*\" * (2*x + 1))"
   ]
  },
  {
   "cell_type": "code",
   "execution_count": 3,
   "id": "efb7f4f5",
   "metadata": {
    "scrolled": true
   },
   "outputs": [
    {
     "name": "stdout",
     "output_type": "stream",
     "text": [
      "Enter number of rows required:5\n",
      "            *  \n",
      "         *  *  *  \n",
      "      *  *  *  *  *  \n",
      "   *  *  *  *  *  *  *  \n",
      "*  *  *  *  *  *  *  *  *  \n",
      "   *  *  *  *  *  *  *  \n",
      "      *  *  *  *  *  \n",
      "         *  *  *  \n",
      "            *  \n"
     ]
    }
   ],
   "source": [
    "d = int(input('Enter number of rows required:'))\n",
    "\n",
    "for i in range(0,d):\n",
    "    for j in range(0,d-i-1):\n",
    "        print(\" \",end='  ')\n",
    "    for l in range(0,2*i+1):    \n",
    "        print(\"*\",end='  ')\n",
    "    print()\n",
    "for i in range(d-1,0,-1):\n",
    "    for j in range(d,i,-1):    \n",
    "        print(\" \",end=\"  \")\n",
    "    for l in range(2*i-1,0,-1): \n",
    "        print(\"*\",end='  ')\n",
    "    print()"
   ]
  },
  {
   "cell_type": "code",
   "execution_count": null,
   "id": "1e3f6bea",
   "metadata": {},
   "outputs": [],
   "source": [
    "#even odd\n",
    "#count all even odd numbers\n",
    "#palindrom or not\n",
    "#dublicate values check[2,5,5,9,7]==mean 2 value =5\n",
    "#febonacci"
   ]
  },
  {
   "cell_type": "code",
   "execution_count": 11,
   "id": "15968638",
   "metadata": {},
   "outputs": [
    {
     "name": "stdout",
     "output_type": "stream",
     "text": [
      "2\n",
      "3\n",
      "8\n"
     ]
    }
   ],
   "source": [
    "#dublicate value\n",
    "l= [1, 2, 3, 4, 2, 8,8,5, 3];        \n",
    "for i in range(0, len(l)):    \n",
    "    for j in range(i+1, len(l)):    \n",
    "        if(l[i] == l[j]):    \n",
    "            print(l[j]);  "
   ]
  },
  {
   "cell_type": "code",
   "execution_count": 25,
   "id": "a53b60a6",
   "metadata": {},
   "outputs": [
    {
     "name": "stdout",
     "output_type": "stream",
     "text": [
      "Even numbers in the list:  3\n",
      "Odd numbers in the list:  4\n"
     ]
    }
   ],
   "source": [
    "#even odd num count\n",
    "list1 = [10, 21, 4, 45, 66, 93, 1]\n",
    "even, odd = 0, 0\n",
    "for num in list1:\n",
    "    if num % 2 == 0:\n",
    "        even += 1\n",
    "    else:\n",
    "        odd += 1\n",
    "print(\"Even numbers in the list: \", even)\n",
    "print(\"Odd numbers in the list: \", odd)"
   ]
  },
  {
   "cell_type": "code",
   "execution_count": 18,
   "id": "d9de3595",
   "metadata": {},
   "outputs": [
    {
     "name": "stdout",
     "output_type": "stream",
     "text": [
      "0\n",
      "1\n",
      "1\n",
      "2\n",
      "3\n",
      "5\n",
      "8\n",
      "13\n",
      "21\n",
      "34\n",
      "55\n",
      "89\n"
     ]
    }
   ],
   "source": [
    "#febonacci\n",
    "n=0\n",
    "m=1\n",
    "print(n)\n",
    "print(m)\n",
    "for x in range(10):\n",
    "    l = n + m\n",
    "    print(l)\n",
    "    n,m=m,l"
   ]
  },
  {
   "cell_type": "code",
   "execution_count": 19,
   "id": "a76a055f",
   "metadata": {},
   "outputs": [
    {
     "name": "stdout",
     "output_type": "stream",
     "text": [
      "Enter the number of terms: 15\n",
      "0 1 1 2 3 5 8 13 21 34 55 89 144 233 377 "
     ]
    }
   ],
   "source": [
    "#febonacci\n",
    "n=int(input(\"Enter the number of terms: \"))\n",
    "a=0\n",
    "b=1\n",
    "if n<=0:\n",
    "    print(\"The febonacci series is\",a)\n",
    "else:\n",
    "    print(a,b,end=\" \")\n",
    "    for x in range(2,n):\n",
    "        c=a+b\n",
    "        print(c,end=\" \")\n",
    "        a=b\n",
    "        b=c"
   ]
  },
  {
   "cell_type": "code",
   "execution_count": 20,
   "id": "a0af1fc2",
   "metadata": {},
   "outputs": [
    {
     "name": "stdout",
     "output_type": "stream",
     "text": [
      "Enter a word: niyin\n",
      "niyin is a palindrome.\n",
      "niyin is a palindrome.\n",
      "niyin is a palindrome.\n",
      "niyin is a palindrome.\n",
      "niyin is a palindrome.\n"
     ]
    }
   ],
   "source": [
    "#palindrom\n",
    "word = input(\"Enter a word: \")\n",
    "word = word.lower()\n",
    "length_word = int(len(word))\n",
    "for letter in range(len(word)):\n",
    "    if word[-length_word] == word[-1]:\n",
    "        print(word, \"is a palindrome.\")     \n",
    "    else:\n",
    "        print(word, \"is not a palindrome.\")"
   ]
  },
  {
   "cell_type": "code",
   "execution_count": 42,
   "id": "73313966",
   "metadata": {},
   "outputs": [
    {
     "name": "stdout",
     "output_type": "stream",
     "text": [
      "5\n",
      "4\n",
      "8\n",
      "4\n",
      "45\n",
      "57\n",
      "8\n",
      "2\n",
      "85\n"
     ]
    }
   ],
   "source": [
    "l=[5,4,8,'niyatu','h',[4,45,[8,2,85,],57]]\n",
    "for i in l:\n",
    "    if type(i) == int:\n",
    "        print(i)\n",
    "for j in l[5]:\n",
    "    if type(j) == int:\n",
    "        print(j)\n",
    "for k in l[5][2]:\n",
    "    if type(k) == int:\n",
    "        print(k)\n",
    "        "
   ]
  },
  {
   "cell_type": "markdown",
   "id": "263c57dc",
   "metadata": {},
   "source": [
    "# while loop\n"
   ]
  },
  {
   "cell_type": "code",
   "execution_count": 4,
   "id": "a7932465",
   "metadata": {},
   "outputs": [
    {
     "name": "stdout",
     "output_type": "stream",
     "text": [
      "1\n",
      "1\n",
      "2\n",
      "3\n",
      "4\n",
      "5\n",
      "6\n"
     ]
    }
   ],
   "source": [
    "a = int(input())\n",
    "while a<=6 :\n",
    "    print(a)\n",
    "    a =a +1 #counter"
   ]
  },
  {
   "cell_type": "code",
   "execution_count": 1,
   "id": "d35e89a5",
   "metadata": {},
   "outputs": [
    {
     "name": "stdout",
     "output_type": "stream",
     "text": [
      "1\n",
      "2\n",
      "3\n",
      "4\n",
      "5\n",
      "6\n",
      "7\n",
      "8\n"
     ]
    }
   ],
   "source": [
    "a = 1\n",
    "while a<=10 :\n",
    "    print(a)\n",
    "    #a =a +1\n",
    "    if a ==8 :\n",
    "        break\n",
    "    a =a+1    "
   ]
  },
  {
   "cell_type": "code",
   "execution_count": 2,
   "id": "69b59f38",
   "metadata": {},
   "outputs": [
    {
     "name": "stdout",
     "output_type": "stream",
     "text": [
      "10\n",
      "9\n",
      "8\n",
      "7\n",
      "6\n",
      "5\n",
      "4\n",
      "3\n",
      "2\n",
      "1\n"
     ]
    }
   ],
   "source": [
    "a=10\n",
    "while a>0:\n",
    "    print(a)\n",
    "    a =a-1"
   ]
  },
  {
   "cell_type": "code",
   "execution_count": 3,
   "id": "68ce079b",
   "metadata": {},
   "outputs": [
    {
     "name": "stdout",
     "output_type": "stream",
     "text": [
      "Enter the number (-1 to quit):5\n",
      "Enter a number (-1 to quit blahblah):0\n"
     ]
    }
   ],
   "source": [
    "a = int(input(\"Enter the number (-1 to quit):\"))\n",
    "while a > 0:\n",
    "    a = int(input(\"Enter a number (-1 to quit blahblah):\"))"
   ]
  },
  {
   "cell_type": "code",
   "execution_count": 4,
   "id": "170f579d",
   "metadata": {
    "scrolled": false
   },
   "outputs": [
    {
     "name": "stdout",
     "output_type": "stream",
     "text": [
      "Enter any string (Its correct):sjsuhf\n"
     ]
    }
   ],
   "source": [
    "a = input(\"Enter any string (Its correct):\")\n",
    "while a == str():\n",
    "    a = input(\"Enter any string(Its not correct):\")"
   ]
  },
  {
   "cell_type": "code",
   "execution_count": 6,
   "id": "0b50a25e",
   "metadata": {},
   "outputs": [
    {
     "name": "stdout",
     "output_type": "stream",
     "text": [
      "Enter the value of n:10\n",
      "Sum of 10 Natural numbers is: 55\n"
     ]
    }
   ],
   "source": [
    "#sum of all natural num\n",
    "num = int(input(\"Enter the value of n:\"))\n",
    "sum =0\n",
    "hold = num\n",
    "if num<=0:\n",
    "    print(\"Enter whole positive number!\")\n",
    "else:\n",
    "    while num > 0:\n",
    "        sum = sum +num\n",
    "        num = num -1;\n",
    "    print(\"Sum of\",hold,\"Natural numbers is:\",sum)    "
   ]
  },
  {
   "cell_type": "code",
   "execution_count": 3,
   "id": "fd638050",
   "metadata": {},
   "outputs": [
    {
     "name": "stdout",
     "output_type": "stream",
     "text": [
      "Inside loop\n",
      "Inside loop\n",
      "Inside loop\n",
      "Inside else\n"
     ]
    }
   ],
   "source": [
    "couter = 0\n",
    "\n",
    "while couter < 3:\n",
    "    print(\"Inside loop\")\n",
    "    couter = couter + 1\n",
    "else:\n",
    "    print(\"Inside else\")"
   ]
  },
  {
   "cell_type": "code",
   "execution_count": 8,
   "id": "9a97d90d",
   "metadata": {},
   "outputs": [
    {
     "name": "stdout",
     "output_type": "stream",
     "text": [
      "     \n",
      "    * \n",
      "   * * \n",
      "  * * * \n",
      " * * * * \n",
      "* * * * * \n"
     ]
    }
   ],
   "source": [
    "n=5\n",
    "i=0\n",
    "while(i<=n):\n",
    "    print(\" \" * (n-i)+\"* \"*i)\n",
    "    i=i+1"
   ]
  },
  {
   "cell_type": "code",
   "execution_count": null,
   "id": "4ae9c1fc",
   "metadata": {},
   "outputs": [],
   "source": []
  }
 ],
 "metadata": {
  "kernelspec": {
   "display_name": "Python 3 (ipykernel)",
   "language": "python",
   "name": "python3"
  },
  "language_info": {
   "codemirror_mode": {
    "name": "ipython",
    "version": 3
   },
   "file_extension": ".py",
   "mimetype": "text/x-python",
   "name": "python",
   "nbconvert_exporter": "python",
   "pygments_lexer": "ipython3",
   "version": "3.10.9"
  }
 },
 "nbformat": 4,
 "nbformat_minor": 5
}
