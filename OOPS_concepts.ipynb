{
 "cells": [
  {
   "cell_type": "markdown",
   "id": "25848e68",
   "metadata": {},
   "source": [
    "# OOPS (Object Oriented Programming)\n",
    "\n",
    "Python is an object oriented programming language.\n",
    "Almost everything in Python is an object, with its properties and methods.\n",
    "A Class is like an object constructor, or a \"blueprint\" for creating objects."
   ]
  },
  {
   "cell_type": "code",
   "execution_count": 1,
   "id": "49c8b03c",
   "metadata": {},
   "outputs": [],
   "source": [
    "class test:\n",
    "    def func(niyati):\n",
    "        return \"hello world\""
   ]
  },
  {
   "cell_type": "code",
   "execution_count": 2,
   "id": "d98bd190",
   "metadata": {},
   "outputs": [],
   "source": [
    "obj = test()"
   ]
  },
  {
   "cell_type": "code",
   "execution_count": 3,
   "id": "f5483bc3",
   "metadata": {},
   "outputs": [
    {
     "data": {
      "text/plain": [
       "'hello world'"
      ]
     },
     "execution_count": 3,
     "metadata": {},
     "output_type": "execute_result"
    }
   ],
   "source": [
    "obj.func()"
   ]
  },
  {
   "cell_type": "code",
   "execution_count": 10,
   "id": "083d2fb7",
   "metadata": {},
   "outputs": [
    {
     "name": "stdout",
     "output_type": "stream",
     "text": [
      "hello world\n",
      "hello world123\n"
     ]
    }
   ],
   "source": [
    "class test:\n",
    "    def func(niyati):\n",
    "        return \"hello world\"\n",
    "    def func1(niya):\n",
    "        return \"hello world123\"\n",
    "obj = test()  \n",
    "print(obj.func())\n",
    "print(obj.func1())"
   ]
  },
  {
   "cell_type": "code",
   "execution_count": 24,
   "id": "03321603",
   "metadata": {
    "scrolled": true
   },
   "outputs": [
    {
     "name": "stdout",
     "output_type": "stream",
     "text": [
      "8\n",
      "12\n"
     ]
    }
   ],
   "source": [
    "class add:\n",
    "    def func(self,a,b):\n",
    "        return a+b\n",
    "    def func2(self,a,b):\n",
    "        return a*b\n",
    "obj = add()\n",
    "print(obj.func(3,5))\n",
    "print(obj.func2(3,4))"
   ]
  },
  {
   "cell_type": "code",
   "execution_count": 26,
   "id": "9efe459e",
   "metadata": {},
   "outputs": [
    {
     "name": "stdout",
     "output_type": "stream",
     "text": [
      "5\n",
      "10\n",
      "15\n",
      "50\n",
      "-5\n",
      "0.5\n"
     ]
    }
   ],
   "source": [
    "class add:\n",
    "    def func1(self,a,b):\n",
    "        return a+b\n",
    "    def func2(self,a,b):\n",
    "        return a*b\n",
    "    def func3(self,a,b):\n",
    "        return a-b\n",
    "    def func4(self,a,b):\n",
    "        return a/b\n",
    "    \n",
    "a= int(input())\n",
    "b= int(input())    \n",
    "\n",
    "obj = add()\n",
    "print(obj.func1(a,b))\n",
    "print(obj.func2(a,b))\n",
    "print(obj.func3(a,b))\n",
    "print(obj.func4(a,b))"
   ]
  },
  {
   "cell_type": "markdown",
   "id": "2e823cad",
   "metadata": {},
   "source": [
    "# The __init__()\n",
    "\n",
    "The examples above are classes and objects in their simplest form, and are not really useful in real life applications.\n",
    "\n",
    "To understand the meaning of classes we have to understand the built-in __init__() function.\n",
    "\n",
    "All classes have a function called __init__(), which is always executed when the class is being initiated.\n",
    "\n",
    " "
   ]
  },
  {
   "cell_type": "code",
   "execution_count": 3,
   "id": "e8bb5aa4",
   "metadata": {},
   "outputs": [
    {
     "data": {
      "text/plain": [
       "('niyati', 10, 23)"
      ]
     },
     "execution_count": 3,
     "metadata": {},
     "output_type": "execute_result"
    }
   ],
   "source": [
    "class person:\n",
    "    def __init__(self,id,age,name):\n",
    "        self.id = id\n",
    "        self.age = age\n",
    "        self.name = name\n",
    "    def test(self):\n",
    "        return \"My name is \",self.name\n",
    "    def test1(self):\n",
    "        return \"My id number is \",self.id\n",
    "    def test2(self):\n",
    "        return \"My age is \",self.age\n",
    "    def test3(self):\n",
    "        return self.name, self.id, self.age\n",
    "    \n",
    "obj= person(10,23,'niyati')    \n",
    "obj.test3()\n"
   ]
  },
  {
   "cell_type": "code",
   "execution_count": 5,
   "id": "a963c0f5",
   "metadata": {},
   "outputs": [
    {
     "data": {
      "text/plain": [
       "('black', 4, 10000)"
      ]
     },
     "execution_count": 5,
     "metadata": {},
     "output_type": "execute_result"
    }
   ],
   "source": [
    "class car:\n",
    "    def __init__(self,windows, colour, hpower):\n",
    "        self.windows = windows\n",
    "        self.colour = colour\n",
    "        self.hpower = hpower\n",
    "    def test(self):\n",
    "        return \"Windows are: \",self.windows\n",
    "    def test1(self):\n",
    "        return \"hpower is: \",self.hpower\n",
    "    def test2(self):\n",
    "        return \"colour is: \",self.colour\n",
    "    def test3(self):\n",
    "        return self.colour, self.windows, self.hpower \n",
    "    \n",
    "obj = car(4,'black',10000)   \n",
    "obj.test3()"
   ]
  },
  {
   "cell_type": "code",
   "execution_count": 18,
   "id": "a16ac99b",
   "metadata": {},
   "outputs": [],
   "source": [
    "import logging\n",
    "\n",
    "logging.basicConfig(filename = \"test001.log\",level = logging.DEBUG,format ='%(asctime)s %(levelname)s %(message)s')"
   ]
  },
  {
   "cell_type": "code",
   "execution_count": 6,
   "id": "cfb25ebd",
   "metadata": {},
   "outputs": [],
   "source": [
    "logging.shutdown()"
   ]
  },
  {
   "cell_type": "code",
   "execution_count": 21,
   "id": "bfa6099b",
   "metadata": {},
   "outputs": [
    {
     "name": "stdout",
     "output_type": "stream",
     "text": [
      "Enter your weight in kilograms: 60\n",
      "Enter your height in meters: 20\n",
      "0.15\n"
     ]
    }
   ],
   "source": [
    "#bmi using class\n",
    "import logging\n",
    "logging.basicConfig(filename = \"test001.log\",level = logging.DEBUG,format ='%(asctime)s %(levelname)s %(message)s')\n",
    "class BMI():\n",
    "    \"\"\"This is a program for to calculate body mass index for person\"\"\"\n",
    "    def __init__(self,w,h):\n",
    "        self.w=w\n",
    "        self.h=h\n",
    "    def bmi_cal(self):\n",
    "        try:\n",
    "            bmi = self.w/((self.h)*(self.h))\n",
    "            print(bmi)\n",
    "        except Exception as e:\n",
    "            logging.error(\"Error has happend \")\n",
    "            logging.exception(\"Exception occured \" + str(e) )\n",
    "       \n",
    "                \n",
    "try:    \n",
    "    w = float(input(\"Enter your weight in kilograms: \"))\n",
    "    h = float(input(\"Enter your height in meters: \"))\n",
    "    obj =BMI(w,h)    \n",
    "    obj.bmi_cal()\n",
    "    \n",
    "except Exception as e:\n",
    "    logging.error(\"Error has happend \")\n",
    "    logging.exception(\"Exception occured \" + str(e) )\n",
    "    \n",
    "    \n",
    "    "
   ]
  },
  {
   "cell_type": "code",
   "execution_count": 2,
   "id": "410ee2a8",
   "metadata": {},
   "outputs": [
    {
     "name": "stdout",
     "output_type": "stream",
     "text": [
      "enter temp in cel: 605\n",
      "1121.0\n"
     ]
    }
   ],
   "source": [
    "import logging\n",
    "logging.basicConfig(filename = \"test002.log\",level = logging.DEBUG,format ='%(asctime)s %(levelname)s %(message)s')\n",
    "\n",
    "class TEMP():\n",
    "    \"\"\"This is a program for convert cel to fen\"\"\"\n",
    "    def __init__(self,c):\n",
    "        self.c=c\n",
    "    try:\n",
    "        def cel(self):\n",
    "            fen = (c*(9/5))+32\n",
    "            print(fen)\n",
    "    except Exception as e:\n",
    "        print(e)\n",
    "\n",
    "try:\n",
    "    c=float(input(\"enter temp in cel: \"))\n",
    "    obj =TEMP(c)    \n",
    "    obj.cel()\n",
    "except Exception as e:\n",
    "    logging.error(\"Error has happend \")\n",
    "    logging.exception(\"Exception occured \" + str(e) )    "
   ]
  },
  {
   "cell_type": "code",
   "execution_count": 4,
   "id": "c02ebc51",
   "metadata": {},
   "outputs": [],
   "source": [
    "logging.shutdown()"
   ]
  },
  {
   "cell_type": "code",
   "execution_count": 25,
   "id": "837e583a",
   "metadata": {},
   "outputs": [],
   "source": [
    "#calcultor using keys-0123"
   ]
  },
  {
   "cell_type": "markdown",
   "id": "132b5042",
   "metadata": {},
   "source": [
    "# Inheritance\n",
    "Inheritance allows us to define a class that inherits all the methods and properties from another class.\n",
    "\n",
    "Parent class is the class being inherited from, also called base class.\n",
    "Child class is the class that inherits from another class, also called derived class\n",
    "\n",
    "1. Single inheritance\n",
    "2. Multilevel inheritance\n",
    "3. Multiple inheritance\n"
   ]
  },
  {
   "cell_type": "code",
   "execution_count": 7,
   "id": "41c79852",
   "metadata": {},
   "outputs": [],
   "source": [
    "class A:\n",
    "    def fun1(self):\n",
    "        return \"this is my function of class A\"\n",
    "class B(A):\n",
    "    def fun2(self):\n",
    "        return \"this is my function of class B\""
   ]
  },
  {
   "cell_type": "code",
   "execution_count": 10,
   "id": "cc040cc9",
   "metadata": {},
   "outputs": [
    {
     "data": {
      "text/plain": [
       "'this is my function of class A'"
      ]
     },
     "execution_count": 10,
     "metadata": {},
     "output_type": "execute_result"
    }
   ],
   "source": [
    "obj = B()\n",
    "obj.fun1()"
   ]
  },
  {
   "cell_type": "code",
   "execution_count": 13,
   "id": "7c0c5652",
   "metadata": {},
   "outputs": [
    {
     "data": {
      "text/plain": [
       "'this is my function of class D'"
      ]
     },
     "execution_count": 13,
     "metadata": {},
     "output_type": "execute_result"
    }
   ],
   "source": [
    "class parent:\n",
    "    def fun1(self):\n",
    "        return \"this is my function of class A\"\n",
    "    def fun2(self):\n",
    "        return \"this is my function of class B\"\n",
    "class child(parent):\n",
    "    def fun3(self):\n",
    "        return \"this is my function of class C\" \n",
    "    def fun4(self):\n",
    "        return \"this is my function of class D\"\n",
    "    \n",
    "obj = child()\n",
    "obj.fun4()"
   ]
  },
  {
   "cell_type": "code",
   "execution_count": 9,
   "id": "94f5f9e1",
   "metadata": {},
   "outputs": [
    {
     "data": {
      "text/plain": [
       "(10000, 1999)"
      ]
     },
     "execution_count": 9,
     "metadata": {},
     "output_type": "execute_result"
    }
   ],
   "source": [
    "#method inwalking\n",
    "class parent:\n",
    "    def __init__(self,windows, colour):\n",
    "        self.windows = windows\n",
    "        self.colour = colour\n",
    "    def test1(self):\n",
    "        return self.windows,self.colour\n",
    "    \n",
    "class child(parent):\n",
    "    def __init__(self,windows,colour,hpower,year,):\n",
    "        parent.__init__(self,hpower,year)\n",
    "        self.hpower = hpower\n",
    "        self.year = year\n",
    "    def test2(self):\n",
    "        return self.hpower, self.year\n",
    "    \n",
    "    \n",
    "obj = child(10,'black',10000,1999)   \n",
    "obj.test2()"
   ]
  },
  {
   "cell_type": "code",
   "execution_count": 5,
   "id": "54184504",
   "metadata": {},
   "outputs": [],
   "source": [
    "#now use try and exception also logging"
   ]
  },
  {
   "cell_type": "code",
   "execution_count": 11,
   "id": "30d23185",
   "metadata": {},
   "outputs": [
    {
     "name": "stdout",
     "output_type": "stream",
     "text": [
      "Enter the number:5\n",
      "Enter the number:5\n",
      "Enter your choice:4\n",
      "1.0\n",
      "Enter your choice:0\n",
      "Exiting.\n"
     ]
    }
   ],
   "source": [
    "import logging\n",
    "logging.basicConfig(filename = \"test003.log\",level = logging.DEBUG,format ='%(asctime)s %(levelname)s %(message)s')\n",
    "class Calculator:\n",
    "    def __init__(self,a,b):\n",
    "        self.a=a\n",
    "        self.b=b\n",
    "\n",
    "    try:\n",
    "        def addition(self):\n",
    "            return self.a+self.b\n",
    "\n",
    "        def subtraction(self):\n",
    "            return self.a-self.b\n",
    "\n",
    "        def multiplication(self):\n",
    "            return self.a*self.b\n",
    "\n",
    "        def division(self):\n",
    "            return self.a/self.b\n",
    "    except Exception as e:\n",
    "        print(e)    \n",
    "\n",
    "try:\n",
    "a = int(input(\"Enter the number:\"))\n",
    "b = int(input(\"Enter the number:\"))\n",
    "\n",
    "obj = Calculator(a,b)\n",
    "\n",
    "choice = 1\n",
    "while choice != 0:\n",
    "    choice = int(input(\"Enter your choice:\"))\n",
    "    if choice == 1:\n",
    "        print(obj.addition())\n",
    "    elif choice == 2:\n",
    "        print(obj.subtraction())\n",
    "    elif choice == 3:\n",
    "        print(obj.multiplication())\n",
    "    elif choice == 4:\n",
    "        print(obj.division())\n",
    "    elif choice == 0:\n",
    "        print(\"Exiting.\")\n",
    "    else:\n",
    "        print(\"Invalid choice!!\")\n",
    "       \n",
    "    \n",
    "except Exception as e:\n",
    "    logging.error(\"Error has happend \")\n",
    "    logging.exception(\"Exception occured \" + str(e) )    "
   ]
  },
  {
   "cell_type": "code",
   "execution_count": 3,
   "id": "2de0a599",
   "metadata": {},
   "outputs": [
    {
     "name": "stdout",
     "output_type": "stream",
     "text": [
      "Enter the number:5\n",
      "Enter the number:5\n",
      "Enter your choice:10\n",
      "Invalid choice!!\n",
      "Enter your choice:0\n",
      "Exiting.\n"
     ]
    }
   ],
   "source": [
    "import logging\n",
    "logging.basicConfig(filename = \"test003.log\",level = logging.DEBUG,format ='%(asctime)s %(levelname)s %(message)s')\n",
    "class Calculator:\n",
    "    def __init__(self,a,b):\n",
    "        self.a=a\n",
    "        self.b=b\n",
    "\n",
    "    try:\n",
    "        def addition(self):\n",
    "            return self.a+self.b\n",
    "\n",
    "        def subtraction(self):\n",
    "            return self.a-self.b\n",
    "\n",
    "        def multiplication(self):\n",
    "            return self.a*self.b\n",
    "\n",
    "        def division(self):\n",
    "            return self.a/self.b\n",
    "    except Exception as e:\n",
    "        print(e)    \n",
    "\n",
    "try:\n",
    "    a = int(input(\"Enter the number:\"))\n",
    "    b = int(input(\"Enter the number:\"))\n",
    "\n",
    "    obj = Calculator(a,b)\n",
    "    choice = 1\n",
    "    while choice != 0:\n",
    "        choice = int(input(\"Enter your choice:\"))\n",
    "        if choice == 1:\n",
    "            print(obj.addition())\n",
    "        elif choice == 2:\n",
    "            print(obj.subtraction())\n",
    "        elif choice == 3:\n",
    "            print(obj.multiplication())\n",
    "        elif choice == 4:\n",
    "            print(obj.division())\n",
    "        elif choice == 0:\n",
    "            print(\"Exiting.\")\n",
    "        else:\n",
    "            print(\"Invalid choice!!\")\n",
    "       \n",
    "    \n",
    "except Exception as e:\n",
    "    logging.error(\"Error has happend \")\n",
    "    logging.exception(\"Exception occured \" + str(e) )    "
   ]
  },
  {
   "cell_type": "code",
   "execution_count": 4,
   "id": "bcaaddba",
   "metadata": {},
   "outputs": [],
   "source": [
    "logging.shutdown()"
   ]
  },
  {
   "cell_type": "code",
   "execution_count": 27,
   "id": "cfc60529",
   "metadata": {},
   "outputs": [
    {
     "data": {
      "text/plain": [
       "(10, 'black')"
      ]
     },
     "execution_count": 27,
     "metadata": {},
     "output_type": "execute_result"
    }
   ],
   "source": [
    "class parent:\n",
    "    def __init__(self,windows, colour):\n",
    "        self.windows = windows\n",
    "        self.colour = colour\n",
    "    def test1(self):\n",
    "        return self.windows,self.colour\n",
    "    \n",
    "class child1(parent):\n",
    "    def __init__(self,windows,colour,year):\n",
    "        parent.__init__(self,windows,colour)\n",
    "        self.year = year\n",
    "    def test2(self):\n",
    "        return self.year\n",
    "    \n",
    "class child2(child1):\n",
    "    def __init__(self,windows,colour,year,name):\n",
    "        child1.__init__(self,windows,colour,year)\n",
    "        self.name = name\n",
    "    def test3(self):\n",
    "        return self.name\n",
    "    \n",
    "    \n",
    "obj = child2(10,'black',1999,'niya')   \n",
    "obj.test1()\n",
    "    "
   ]
  },
  {
   "cell_type": "code",
   "execution_count": 2,
   "id": "27804f00",
   "metadata": {},
   "outputs": [],
   "source": [
    "#Multilevel Inheritance"
   ]
  },
  {
   "cell_type": "code",
   "execution_count": 1,
   "id": "a29ee2af",
   "metadata": {},
   "outputs": [],
   "source": [
    "import logging\n",
    "logging.basicConfig(filename = \"test003.log\",level = logging.DEBUG,format ='%(asctime)s %(levelname)s %(message)s')\n",
    "class parent:\n",
    "    def __init__(self,windows, colour):\n",
    "        self.windows = windows\n",
    "        self.colour = colour\n",
    "    try:\n",
    "        def test1(self):\n",
    "            return self.windows,self.colour\n",
    "    except Exception as e:\n",
    "        logging.error(\"Error has happend \")\n",
    "        logging.exception(\"Exception occured \" + str(e) ) \n",
    "    \n",
    "class child1(parent):\n",
    "    def __init__(self,windows,colour,year):\n",
    "        parent.__init__(self,windows,colour)\n",
    "        self.year = year\n",
    "    try:\n",
    "        def test2(self):\n",
    "            return self.year\n",
    "    except Exception as e:\n",
    "        logging.error(\"Error has happend \")\n",
    "        logging.exception(\"Exception occured \" + str(e) ) \n",
    "    \n",
    "class child2(child1):\n",
    "    def __init__(self,windows,colour,year,name):\n",
    "        child1.__init__(self,windows,colour,year)\n",
    "        self.name = name\n",
    "    try:\n",
    "        def test3(self):\n",
    "            return self.name\n",
    "    except Exception as e:\n",
    "        logging.error(\"Error has happend \")\n",
    "        logging.exception(\"Exception occured \" + str(e) ) \n",
    "    \n",
    "try:    \n",
    "    obj = child2(10,'black',1999,'niya')   \n",
    "    obj.test55()\n",
    "except Exception as e:\n",
    "        logging.error(\"Error has happend \")\n",
    "        logging.exception(\"Exception occured \" + str(e) )     \n",
    "    \n",
    "    \n",
    "logging.shutdown()"
   ]
  },
  {
   "cell_type": "code",
   "execution_count": 13,
   "id": "6f99b757",
   "metadata": {},
   "outputs": [],
   "source": [
    "#Multiple Inheritance"
   ]
  },
  {
   "cell_type": "code",
   "execution_count": 14,
   "id": "a54bd39c",
   "metadata": {},
   "outputs": [
    {
     "ename": "SyntaxError",
     "evalue": "incomplete input (1130302169.py, line 5)",
     "output_type": "error",
     "traceback": [
      "\u001b[1;36m  Cell \u001b[1;32mIn[14], line 5\u001b[1;36m\u001b[0m\n\u001b[1;33m    \u001b[0m\n\u001b[1;37m    ^\u001b[0m\n\u001b[1;31mSyntaxError\u001b[0m\u001b[1;31m:\u001b[0m incomplete input\n"
     ]
    }
   ],
   "source": [
    "import logging\n",
    "logging.basicConfig(filename = \"test004.log\",level = logging.DEBUG,format ='%(asctime)s %(levelname)s %(message)s')\n",
    "class A():\n",
    "    def __init__(self,name,year,colour1):\n",
    "        "
   ]
  },
  {
   "cell_type": "markdown",
   "id": "7014ca1e",
   "metadata": {},
   "source": [
    "# Encapsulation"
   ]
  },
  {
   "cell_type": "code",
   "execution_count": 21,
   "id": "f6da6584",
   "metadata": {},
   "outputs": [
    {
     "name": "stdout",
     "output_type": "stream",
     "text": [
      "This is my third test method of xyz class 10\n"
     ]
    },
    {
     "data": {
      "text/plain": [
       "10"
      ]
     },
     "execution_count": 21,
     "metadata": {},
     "output_type": "execute_result"
    }
   ],
   "source": [
    "class xyz:\n",
    "    def __init__(self,a,b,c):\n",
    "        self._a = a #protected\n",
    "        self.b = b #public\n",
    "        self.__c = c #private\n",
    "        \n",
    "    def test(self):\n",
    "        print(\"This is my first test method of xyz class\",self._a)\n",
    "        \n",
    "    def test1(self):\n",
    "        print(\"This is my second test method of xyz class\",self.b)\n",
    "        \n",
    "    def test2(self):\n",
    "        print(\"This is my third test method of xyz class\",self.__c)\n",
    "        \n",
    "class abc(xyz):\n",
    "    def test3(self):\n",
    "        print(\"This is my third test method of xyz class\",self.__C)\n",
    "        \n",
    "obj=xyz(1,2,10)\n",
    "obj.test2()\n",
    "\n",
    "obj._xyz__c\n",
    "    "
   ]
  },
  {
   "cell_type": "code",
   "execution_count": 1,
   "id": "7c697776",
   "metadata": {},
   "outputs": [],
   "source": [
    "#create your own class for to achive multiple, multilevel inheritance"
   ]
  },
  {
   "cell_type": "code",
   "execution_count": 3,
   "id": "050837ea",
   "metadata": {},
   "outputs": [
    {
     "name": "stdout",
     "output_type": "stream",
     "text": [
      "xyz 24 Baroda\n"
     ]
    }
   ],
   "source": [
    "#Multilevel Inheritance\n",
    "\n",
    "class Parent:\n",
    "    def __init__(self,name):\n",
    "        self.name = name\n",
    "    def test1(self):\n",
    "        return self.name\n",
    "class Child(Parent):\n",
    "    def __init__(self,name,age):\n",
    "        Parent.__init__(self,name)\n",
    "        self.age = age\n",
    "    def test2(self):\n",
    "        return self.age\n",
    "class Grandchild(Child):\n",
    "    def __init__(self,name,age,location):\n",
    "        Child.__init__(self,name,age)\n",
    "        self.location=location\n",
    "    def test3(self):\n",
    "        return self.location\n",
    "gc = Grandchild(\"xyz\",24,\"Baroda\")\n",
    "print(gc.test1(), gc.test2(), gc.test3()) "
   ]
  },
  {
   "cell_type": "code",
   "execution_count": 2,
   "id": "44f52683",
   "metadata": {
    "scrolled": false
   },
   "outputs": [
    {
     "ename": "TypeError",
     "evalue": "Grandchild.__init__() takes 3 positional arguments but 4 were given",
     "output_type": "error",
     "traceback": [
      "\u001b[1;31m---------------------------------------------------------------------------\u001b[0m",
      "\u001b[1;31mTypeError\u001b[0m                                 Traceback (most recent call last)",
      "Cell \u001b[1;32mIn[2], line 20\u001b[0m\n\u001b[0;32m     18\u001b[0m     \u001b[38;5;28;01mdef\u001b[39;00m \u001b[38;5;21mtest3\u001b[39m(\u001b[38;5;28mself\u001b[39m):\n\u001b[0;32m     19\u001b[0m         \u001b[38;5;28;01mreturn\u001b[39;00m \u001b[38;5;28mself\u001b[39m\u001b[38;5;241m.\u001b[39mlocation\n\u001b[1;32m---> 20\u001b[0m obj \u001b[38;5;241m=\u001b[39m \u001b[43mGrandchild\u001b[49m\u001b[43m(\u001b[49m\u001b[38;5;124;43m'\u001b[39;49m\u001b[38;5;124;43mNiya\u001b[39;49m\u001b[38;5;124;43m'\u001b[39;49m\u001b[43m,\u001b[49m\u001b[38;5;241;43m24\u001b[39;49m\u001b[43m,\u001b[49m\u001b[38;5;124;43m'\u001b[39;49m\u001b[38;5;124;43mBaroda\u001b[39;49m\u001b[38;5;124;43m'\u001b[39;49m\u001b[43m)\u001b[49m\n\u001b[0;32m     21\u001b[0m obj\u001b[38;5;241m.\u001b[39mtest3()\n",
      "\u001b[1;31mTypeError\u001b[0m: Grandchild.__init__() takes 3 positional arguments but 4 were given"
     ]
    }
   ],
   "source": [
    "#Multiple Inheritance\n",
    "\n",
    "class Parent:\n",
    "    def __init__(self,name):\n",
    "        self.name = name\n",
    "    def test1(self):\n",
    "        return self.name\n",
    "class Child(Parent):\n",
    "    def __init__(self,name,age):\n",
    "        Parent.__init__(self,name)\n",
    "        self.age = age\n",
    "    def test2(self):\n",
    "        return self.age\n",
    "class Grandchild(Parent):\n",
    "    def __init__(self,name,location):\n",
    "        Child.__init__(self,name,location)\n",
    "        self.location=location\n",
    "    def test3(self):\n",
    "        return self.location\n",
    "obj = Grandchild('Niya',24,'Baroda')\n",
    "obj.test3()"
   ]
  },
  {
   "cell_type": "code",
   "execution_count": 2,
   "id": "e935c644",
   "metadata": {},
   "outputs": [],
   "source": [
    "import logging\n",
    "logging.basicConfig(filename = \"test004.log\",level = logging.DEBUG,format ='%(asctime)s %(levelname)s %(message)s')\n",
    "class parent:\n",
    "    def __init__(self,child,car):\n",
    "        self.child = child\n",
    "        self.car = car\n",
    "    try:\n",
    "        def test1(self):\n",
    "            return self.child,self.car\n",
    "    except Exception as e:\n",
    "        logging.error(\"Error has happend \")\n",
    "        logging.exception(\"Exception occured \" + str(e) ) \n",
    "    \n",
    "class child1(parent):\n",
    "    def __init__(self,child,car,salary):\n",
    "        parent.__init__(self,child,car)\n",
    "        self.salary = salary\n",
    "    try:\n",
    "        def test2(self):\n",
    "            return self.salary\n",
    "    except Exception as e:\n",
    "        logging.error(\"Error has happend \")\n",
    "        logging.exception(\"Exception occured \" + str(e) ) \n",
    "    \n",
    "class child2(parent):\n",
    "    def __init__(self,child,car,home):\n",
    "        child1.__init__(self,child,car)\n",
    "        self.home = home\n",
    "    try:\n",
    "        def test3(self):\n",
    "            return self.home\n",
    "    except Exception as e:\n",
    "        logging.error(\"Error has happend \")\n",
    "        logging.exception(\"Exception occured \" + str(e) ) \n",
    "    \n",
    "try:    \n",
    "    obj1 = child2(2,4,2)\n",
    "    obj2 = child1(2,2,50000)\n",
    "    obj.test55()\n",
    "except Exception as e:\n",
    "        logging.error(\"Error has happend \")\n",
    "        logging.exception(\"Exception occured \" + str(e) )     \n",
    "    \n",
    "    \n",
    "logging.shutdown()"
   ]
  },
  {
   "cell_type": "code",
   "execution_count": null,
   "id": "f98d1f3d",
   "metadata": {},
   "outputs": [],
   "source": []
  }
 ],
 "metadata": {
  "kernelspec": {
   "display_name": "Python 3 (ipykernel)",
   "language": "python",
   "name": "python3"
  },
  "language_info": {
   "codemirror_mode": {
    "name": "ipython",
    "version": 3
   },
   "file_extension": ".py",
   "mimetype": "text/x-python",
   "name": "python",
   "nbconvert_exporter": "python",
   "pygments_lexer": "ipython3",
   "version": "3.10.9"
  }
 },
 "nbformat": 4,
 "nbformat_minor": 5
}
