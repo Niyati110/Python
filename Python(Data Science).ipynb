{
 "cells": [
  {
   "cell_type": "code",
   "execution_count": 4,
   "id": "0087f437",
   "metadata": {},
   "outputs": [
    {
     "name": "stdout",
     "output_type": "stream",
     "text": [
      "Hello World\n"
     ]
    }
   ],
   "source": [
    "print(\"Hello World\")"
   ]
  },
  {
   "cell_type": "code",
   "execution_count": 5,
   "id": "3e830707",
   "metadata": {},
   "outputs": [
    {
     "data": {
      "text/plain": [
       "'NiyatiVyas'"
      ]
     },
     "execution_count": 5,
     "metadata": {},
     "output_type": "execute_result"
    }
   ],
   "source": [
    "a='Niyati'\n",
    "b='Vyas'\n",
    "a+b"
   ]
  },
  {
   "cell_type": "code",
   "execution_count": 6,
   "id": "69fea762",
   "metadata": {},
   "outputs": [
    {
     "data": {
      "text/plain": [
       "'Niyati Vyas'"
      ]
     },
     "execution_count": 6,
     "metadata": {},
     "output_type": "execute_result"
    }
   ],
   "source": [
    "a='Niyati '\n",
    "b='Vyas'\n",
    "a+b"
   ]
  },
  {
   "cell_type": "code",
   "execution_count": 26,
   "id": "bb06bf08",
   "metadata": {},
   "outputs": [
    {
     "name": "stdout",
     "output_type": "stream",
     "text": [
      "Niyati is a good person\n"
     ]
    }
   ],
   "source": [
    "a = \"Niyati\"\n",
    "print(f\"{a} is a good person\")"
   ]
  },
  {
   "cell_type": "code",
   "execution_count": 7,
   "id": "217edae9",
   "metadata": {},
   "outputs": [
    {
     "data": {
      "text/plain": [
       "6"
      ]
     },
     "execution_count": 7,
     "metadata": {},
     "output_type": "execute_result"
    }
   ],
   "source": [
    "a=4\n",
    "b=2\n",
    "a+b"
   ]
  },
  {
   "cell_type": "code",
   "execution_count": 8,
   "id": "fa343e88",
   "metadata": {},
   "outputs": [
    {
     "data": {
      "text/plain": [
       "2"
      ]
     },
     "execution_count": 8,
     "metadata": {},
     "output_type": "execute_result"
    }
   ],
   "source": [
    "a-b\n"
   ]
  },
  {
   "cell_type": "code",
   "execution_count": 9,
   "id": "07f105d6",
   "metadata": {},
   "outputs": [
    {
     "data": {
      "text/plain": [
       "8"
      ]
     },
     "execution_count": 9,
     "metadata": {},
     "output_type": "execute_result"
    }
   ],
   "source": [
    "a*b"
   ]
  },
  {
   "cell_type": "code",
   "execution_count": 10,
   "id": "08406969",
   "metadata": {},
   "outputs": [
    {
     "data": {
      "text/plain": [
       "2.0"
      ]
     },
     "execution_count": 10,
     "metadata": {},
     "output_type": "execute_result"
    }
   ],
   "source": [
    "a/b"
   ]
  },
  {
   "cell_type": "code",
   "execution_count": 28,
   "id": "1e8fff5f",
   "metadata": {
    "scrolled": true
   },
   "outputs": [
    {
     "name": "stdout",
     "output_type": "stream",
     "text": [
      "14 -4 45 0.5555555555555556\n"
     ]
    }
   ],
   "source": [
    "a=5\n",
    "b=9\n",
    "print(a+b,a-b,a*b,a/b)"
   ]
  },
  {
   "cell_type": "code",
   "execution_count": 29,
   "id": "d20d2c2d",
   "metadata": {},
   "outputs": [
    {
     "name": "stdout",
     "output_type": "stream",
     "text": [
      "13\n",
      "-3\n",
      "40\n",
      "0.625\n"
     ]
    }
   ],
   "source": [
    "a=5\n",
    "b=8\n",
    "print(a+b)\n",
    "print(a-b)\n",
    "print(a*b)\n",
    "print(a/b)"
   ]
  },
  {
   "cell_type": "code",
   "execution_count": 11,
   "id": "144aefe3",
   "metadata": {},
   "outputs": [
    {
     "data": {
      "text/plain": [
       "int"
      ]
     },
     "execution_count": 11,
     "metadata": {},
     "output_type": "execute_result"
    }
   ],
   "source": [
    "type(a)"
   ]
  },
  {
   "cell_type": "code",
   "execution_count": 12,
   "id": "6cafa012",
   "metadata": {},
   "outputs": [
    {
     "data": {
      "text/plain": [
       "str"
      ]
     },
     "execution_count": 12,
     "metadata": {},
     "output_type": "execute_result"
    }
   ],
   "source": [
    "a='niyati'\n",
    "type(a)"
   ]
  },
  {
   "cell_type": "code",
   "execution_count": 13,
   "id": "f0cdd141",
   "metadata": {},
   "outputs": [
    {
     "data": {
      "text/plain": [
       "complex"
      ]
     },
     "execution_count": 13,
     "metadata": {},
     "output_type": "execute_result"
    }
   ],
   "source": [
    "b=8+8j\n",
    "type(b)"
   ]
  },
  {
   "cell_type": "code",
   "execution_count": 31,
   "id": "5becad19",
   "metadata": {},
   "outputs": [],
   "source": [
    "c=5.8"
   ]
  },
  {
   "cell_type": "code",
   "execution_count": 32,
   "id": "bd66a647",
   "metadata": {},
   "outputs": [
    {
     "data": {
      "text/plain": [
       "float"
      ]
     },
     "execution_count": 32,
     "metadata": {},
     "output_type": "execute_result"
    }
   ],
   "source": [
    "type(c)"
   ]
  },
  {
   "cell_type": "code",
   "execution_count": 30,
   "id": "98d93618",
   "metadata": {},
   "outputs": [],
   "source": [
    "a='jhgdhkgsdgkudgf'"
   ]
  },
  {
   "cell_type": "code",
   "execution_count": 15,
   "id": "aa7e41f5",
   "metadata": {},
   "outputs": [
    {
     "data": {
      "text/plain": [
       "15"
      ]
     },
     "execution_count": 15,
     "metadata": {},
     "output_type": "execute_result"
    }
   ],
   "source": [
    "len(a)"
   ]
  },
  {
   "cell_type": "code",
   "execution_count": 16,
   "id": "80e2c8a5",
   "metadata": {},
   "outputs": [
    {
     "data": {
      "text/plain": [
       "'n'"
      ]
     },
     "execution_count": 16,
     "metadata": {},
     "output_type": "execute_result"
    }
   ],
   "source": [
    "a='niyati'\n",
    "a[0]"
   ]
  },
  {
   "cell_type": "code",
   "execution_count": 17,
   "id": "8200c324",
   "metadata": {},
   "outputs": [
    {
     "data": {
      "text/plain": [
       "'niyat'"
      ]
     },
     "execution_count": 17,
     "metadata": {},
     "output_type": "execute_result"
    }
   ],
   "source": [
    "a[0:5]"
   ]
  },
  {
   "cell_type": "code",
   "execution_count": 18,
   "id": "254c41d7",
   "metadata": {},
   "outputs": [
    {
     "data": {
      "text/plain": [
       "'nyt'"
      ]
     },
     "execution_count": 18,
     "metadata": {},
     "output_type": "execute_result"
    }
   ],
   "source": [
    "a[0:5:2]"
   ]
  },
  {
   "cell_type": "code",
   "execution_count": 19,
   "id": "1dcdd75b",
   "metadata": {},
   "outputs": [
    {
     "data": {
      "text/plain": [
       "'itayin'"
      ]
     },
     "execution_count": 19,
     "metadata": {},
     "output_type": "execute_result"
    }
   ],
   "source": [
    "a[::-1]"
   ]
  },
  {
   "cell_type": "code",
   "execution_count": 22,
   "id": "0d34fadd",
   "metadata": {},
   "outputs": [
    {
     "data": {
      "text/plain": [
       "True"
      ]
     },
     "execution_count": 22,
     "metadata": {},
     "output_type": "execute_result"
    }
   ],
   "source": [
    "5<6\n"
   ]
  },
  {
   "cell_type": "code",
   "execution_count": 23,
   "id": "27c22b4b",
   "metadata": {},
   "outputs": [
    {
     "data": {
      "text/plain": [
       "False"
      ]
     },
     "execution_count": 23,
     "metadata": {},
     "output_type": "execute_result"
    }
   ],
   "source": [
    "5>6"
   ]
  },
  {
   "cell_type": "code",
   "execution_count": 24,
   "id": "139de684",
   "metadata": {},
   "outputs": [
    {
     "data": {
      "text/plain": [
       "False"
      ]
     },
     "execution_count": 24,
     "metadata": {},
     "output_type": "execute_result"
    }
   ],
   "source": [
    "a=5\n",
    "b=5\n",
    "a<b"
   ]
  },
  {
   "cell_type": "code",
   "execution_count": 25,
   "id": "0105e4ba",
   "metadata": {
    "scrolled": true
   },
   "outputs": [
    {
     "data": {
      "text/plain": [
       "False"
      ]
     },
     "execution_count": 25,
     "metadata": {},
     "output_type": "execute_result"
    }
   ],
   "source": [
    "a>b"
   ]
  },
  {
   "cell_type": "code",
   "execution_count": 11,
   "id": "924a8da0",
   "metadata": {
    "scrolled": true
   },
   "outputs": [
    {
     "name": "stdout",
     "output_type": "stream",
     "text": [
      "hfvgtgh\n",
      "niyuti\n",
      "both first letters are not same\n"
     ]
    }
   ],
   "source": [
    "a=str(input())\n",
    "b=str(input())\n",
    "if a[0]==b[0]:\n",
    "    print('both first letters are same')\n",
    "else:\n",
    "    print('both first letters are not same')\n",
    "    "
   ]
  },
  {
   "cell_type": "code",
   "execution_count": 2,
   "id": "132aa557",
   "metadata": {},
   "outputs": [
    {
     "name": "stdout",
     "output_type": "stream",
     "text": [
      "jdglhjfvjkh\n",
      "niyatu\n",
      "b is less than a\n"
     ]
    }
   ],
   "source": [
    "a=str(input())\n",
    "b=str(input())\n",
    "if len(a)==len(b):\n",
    "    print('b is grater than a')\n",
    "else:\n",
    "    print(\"b is less than a\")"
   ]
  },
  {
   "cell_type": "code",
   "execution_count": 1,
   "id": "3b550df2",
   "metadata": {},
   "outputs": [
    {
     "name": "stdout",
     "output_type": "stream",
     "text": [
      "b is less than a\n"
     ]
    }
   ],
   "source": [
    "a=5\n",
    "b=6\n",
    "if a > b:\n",
    "    print('b is grater than a')\n",
    "else:\n",
    "    print(\"b is less than a\")\n",
    "    "
   ]
  },
  {
   "cell_type": "code",
   "execution_count": 3,
   "id": "93f44875",
   "metadata": {},
   "outputs": [
    {
     "name": "stdout",
     "output_type": "stream",
     "text": [
      "5\n",
      "b is positive\n"
     ]
    }
   ],
   "source": [
    "b=int(input())\n",
    "if(b>0):\n",
    "    print('b is positive')\n",
    "else:\n",
    "    print('b is not positive')"
   ]
  },
  {
   "cell_type": "code",
   "execution_count": 5,
   "id": "a8517526",
   "metadata": {},
   "outputs": [
    {
     "name": "stdout",
     "output_type": "stream",
     "text": [
      "Enter the value of b:-5\n",
      "b is negative\n"
     ]
    }
   ],
   "source": [
    "#nested if else condition\n",
    "b=int(input(\"Enter the value of b:\"))\n",
    "if b <= 0:\n",
    "    if b<0:\n",
    "        print('b is negative')\n",
    "    else:\n",
    "        print('zero')\n",
    "else:\n",
    "    print('b is positive')"
   ]
  },
  {
   "cell_type": "code",
   "execution_count": 8,
   "id": "5ae81c30",
   "metadata": {},
   "outputs": [
    {
     "name": "stdout",
     "output_type": "stream",
     "text": [
      "Enter the value of b:5\n",
      "b is positive\n"
     ]
    }
   ],
   "source": [
    "#multipal condition\n",
    "b=int(input(\"Enter the value of b:\"))\n",
    "if b<0:\n",
    "        print('b is negative')\n",
    "elif b==0:        \n",
    "        print('zero')\n",
    "else:\n",
    "    print('b is positive')"
   ]
  },
  {
   "cell_type": "code",
   "execution_count": 8,
   "id": "b8353d27",
   "metadata": {},
   "outputs": [
    {
     "name": "stdout",
     "output_type": "stream",
     "text": [
      "5\n",
      "b is odd number\n"
     ]
    }
   ],
   "source": [
    "b=int(input())\n",
    "if b%2 == 0:\n",
    "    print('b is even number')\n",
    "else:\n",
    "    print('b is odd number')"
   ]
  },
  {
   "cell_type": "code",
   "execution_count": 34,
   "id": "1332f3f6",
   "metadata": {},
   "outputs": [
    {
     "name": "stdout",
     "output_type": "stream",
     "text": [
      "8\n",
      "5\n",
      "a is large\n"
     ]
    }
   ],
   "source": [
    "a=int(input())\n",
    "b=int(input())\n",
    "if(a>b):\n",
    "    print('a is large')\n",
    "else:\n",
    "    print('b is small')"
   ]
  },
  {
   "cell_type": "code",
   "execution_count": 16,
   "id": "86dade06",
   "metadata": {},
   "outputs": [
    {
     "name": "stdout",
     "output_type": "stream",
     "text": [
      "5\n",
      "2\n",
      "5\n",
      "a is larger than b\n"
     ]
    }
   ],
   "source": [
    "a=int(input())\n",
    "b=int(input())\n",
    "c=int(input())\n",
    "if(a>b):\n",
    "    print('a is larger than b')\n",
    "elif (b>c):\n",
    "    print('b is larger than c')\n",
    "else:\n",
    "    print(\"both are same\")\n",
    "    "
   ]
  },
  {
   "cell_type": "code",
   "execution_count": 35,
   "id": "abba3c2f",
   "metadata": {
    "scrolled": true
   },
   "outputs": [
    {
     "data": {
      "text/plain": [
       "13"
      ]
     },
     "execution_count": 35,
     "metadata": {},
     "output_type": "execute_result"
    }
   ],
   "source": [
    "a +b"
   ]
  },
  {
   "cell_type": "code",
   "execution_count": 14,
   "id": "5b081e9b",
   "metadata": {
    "scrolled": true
   },
   "outputs": [
    {
     "name": "stdout",
     "output_type": "stream",
     "text": [
      "eye\n",
      "a is a palindrom\n"
     ]
    }
   ],
   "source": [
    "#PALINDROM WORD\n",
    "a=str(input())\n",
    "if a==a[::-1]:\n",
    "    print('a is a palindrom word')\n",
    "else:\n",
    "    print('a is not a palindrom word')"
   ]
  },
  {
   "cell_type": "code",
   "execution_count": 13,
   "id": "3f0c2221",
   "metadata": {
    "scrolled": true
   },
   "outputs": [
    {
     "name": "stdout",
     "output_type": "stream",
     "text": [
      "enter the value of a : 698\n",
      "enter the value of b : 2\n",
      "b is less than a\n"
     ]
    }
   ],
   "source": [
    "a = int(input(\"enter the value of a : \"))\n",
    "b = int(input(\"enter the value of b : \"))\n",
    "if a <= b:\n",
    "    if a == b:\n",
    "        print(\"both are same\")\n",
    "    else:\n",
    "        print(\"a is less than b\")\n",
    "else:\n",
    "    print(\"b is less than a\")"
   ]
  },
  {
   "cell_type": "code",
   "execution_count": 14,
   "id": "5fa5850d",
   "metadata": {},
   "outputs": [
    {
     "name": "stdout",
     "output_type": "stream",
     "text": [
      "enter the value of a : 5\n",
      "enter the value of b : 5\n",
      "both are same\n"
     ]
    }
   ],
   "source": [
    "a = int(input(\"enter the value of a : \"))\n",
    "b = int(input(\"enter the value of b : \"))\n",
    "if a < b:\n",
    "    print(\"a is less than b\")\n",
    "elif a == b:\n",
    "        print(\"both are same\")\n",
    "else:\n",
    "        print(\"a is less than b\")"
   ]
  },
  {
   "cell_type": "code",
   "execution_count": 11,
   "id": "30313747",
   "metadata": {},
   "outputs": [
    {
     "name": "stdout",
     "output_type": "stream",
     "text": [
      "enter the value of a:100\n",
      "a is distiction\n"
     ]
    }
   ],
   "source": [
    "marks= int(input(\"enter the value of a:\"))\n",
    "if marks < 40:\n",
    "    print(\"a is fail\")\n",
    "elif marks < 50:\n",
    "    print(\"a is pass\")\n",
    "elif marks <60:\n",
    "    print(\"a is second class\")\n",
    "elif marks < 70:\n",
    "    print(\"a is first class\")\n",
    "else:\n",
    "    print(\"a is distiction\")\n",
    "\n",
    "    "
   ]
  },
  {
   "cell_type": "code",
   "execution_count": 17,
   "id": "69db6578",
   "metadata": {},
   "outputs": [
    {
     "name": "stdout",
     "output_type": "stream",
     "text": [
      "enter the value6874\n",
      "discount is 20% 1374.8000000000002\n"
     ]
    }
   ],
   "source": [
    "salary =float(input(\"enter the value\"))\n",
    "if salary <10000:\n",
    "    print(\"discount is 20%\",salary*0.20)\n",
    "elif salary < 20000:\n",
    "    print(\"discount is 10%\",salary*0.10)\n",
    "elif salary < 30000:\n",
    "    print(\"discount is 5%\",salary*0.5)\n",
    "else:\n",
    "    print(\"no discount\")    \n",
    "    "
   ]
  },
  {
   "cell_type": "markdown",
   "id": "43158929",
   "metadata": {},
   "source": [
    "# list in []"
   ]
  },
  {
   "cell_type": "code",
   "execution_count": 19,
   "id": "49ee235f",
   "metadata": {},
   "outputs": [],
   "source": [
    "l=[2,3,4,5,'niyati',5.6,4+4j,[4,5,6]]"
   ]
  },
  {
   "cell_type": "code",
   "execution_count": 4,
   "id": "59ca18fa",
   "metadata": {},
   "outputs": [
    {
     "data": {
      "text/plain": [
       "6"
      ]
     },
     "execution_count": 4,
     "metadata": {},
     "output_type": "execute_result"
    }
   ],
   "source": [
    "l[-1][2]"
   ]
  },
  {
   "cell_type": "code",
   "execution_count": 7,
   "id": "a7a024d6",
   "metadata": {},
   "outputs": [],
   "source": [
    "s=[2,3,4,5,[4,5,7.8,[6,7],5.6],(4+4j),[4,5,6]]"
   ]
  },
  {
   "cell_type": "code",
   "execution_count": 9,
   "id": "789dae90",
   "metadata": {},
   "outputs": [
    {
     "data": {
      "text/plain": [
       "[[4, 5, 6], (4+4j), [4, 5, 7.8, [900, 7], 5.6], 5, 4, 3, 2]"
      ]
     },
     "execution_count": 9,
     "metadata": {},
     "output_type": "execute_result"
    }
   ],
   "source": [
    "s[::-1]"
   ]
  },
  {
   "cell_type": "code",
   "execution_count": 18,
   "id": "875dfabe",
   "metadata": {},
   "outputs": [],
   "source": [
    "s[4][3][0]=900"
   ]
  },
  {
   "cell_type": "markdown",
   "id": "0aa738b7",
   "metadata": {},
   "source": [
    "# tuple in ()\n",
    "t = (4,2,6,'niyati','xyz',9,[3,7,2])"
   ]
  },
  {
   "cell_type": "code",
   "execution_count": 11,
   "id": "d4f7e942",
   "metadata": {},
   "outputs": [],
   "source": [
    "t=(4,2,6,'niyati','xyz',9,[3,7,2])"
   ]
  },
  {
   "cell_type": "code",
   "execution_count": 12,
   "id": "6950260d",
   "metadata": {},
   "outputs": [
    {
     "data": {
      "text/plain": [
       "[3, 7, 2]"
      ]
     },
     "execution_count": 12,
     "metadata": {},
     "output_type": "execute_result"
    }
   ],
   "source": [
    "t[-1]"
   ]
  },
  {
   "cell_type": "code",
   "execution_count": 13,
   "id": "6bb9f14c",
   "metadata": {
    "scrolled": true
   },
   "outputs": [],
   "source": [
    "t[-1][2]=100"
   ]
  },
  {
   "cell_type": "code",
   "execution_count": 14,
   "id": "1f25f635",
   "metadata": {},
   "outputs": [
    {
     "data": {
      "text/plain": [
       "(4, 2, 6, 'niyati', 'xyz', 9, [3, 7, 100])"
      ]
     },
     "execution_count": 14,
     "metadata": {},
     "output_type": "execute_result"
    }
   ],
   "source": [
    "t"
   ]
  },
  {
   "cell_type": "code",
   "execution_count": 20,
   "id": "11a3cb68",
   "metadata": {},
   "outputs": [],
   "source": [
    "n=[3,4,5,6,'niyati',8.8,(5+5j),[5,85,[9,700,'x,y,z'],7,99]]"
   ]
  },
  {
   "cell_type": "code",
   "execution_count": 21,
   "id": "0fd787b4",
   "metadata": {},
   "outputs": [
    {
     "data": {
      "text/plain": [
       "700"
      ]
     },
     "execution_count": 21,
     "metadata": {},
     "output_type": "execute_result"
    }
   ],
   "source": [
    "n[7][2][1]"
   ]
  },
  {
   "cell_type": "markdown",
   "id": "4b613163",
   "metadata": {},
   "source": [
    "# sets in []\n",
    "s={6,3,7,6,'niyati',1,5}"
   ]
  },
  {
   "cell_type": "code",
   "execution_count": 2,
   "id": "c176c947",
   "metadata": {},
   "outputs": [],
   "source": [
    "s={6,3,7,6,'niyati',1,5}"
   ]
  },
  {
   "cell_type": "code",
   "execution_count": 5,
   "id": "c8048dd9",
   "metadata": {
    "scrolled": true
   },
   "outputs": [
    {
     "data": {
      "text/plain": [
       "{1, 3, 5, 6, 7, 'niyati'}"
      ]
     },
     "execution_count": 5,
     "metadata": {},
     "output_type": "execute_result"
    }
   ],
   "source": [
    "s"
   ]
  },
  {
   "cell_type": "code",
   "execution_count": 6,
   "id": "47a14e6e",
   "metadata": {
    "scrolled": true
   },
   "outputs": [
    {
     "ename": "TypeError",
     "evalue": "unhashable type: 'list'",
     "output_type": "error",
     "traceback": [
      "\u001b[1;31m---------------------------------------------------------------------------\u001b[0m",
      "\u001b[1;31mTypeError\u001b[0m                                 Traceback (most recent call last)",
      "Cell \u001b[1;32mIn[6], line 1\u001b[0m\n\u001b[1;32m----> 1\u001b[0m s \u001b[38;5;241m=\u001b[39m{\u001b[38;5;241m5\u001b[39m,\u001b[38;5;241m78\u001b[39m,\u001b[38;5;241m6\u001b[39m,(\u001b[38;5;241m5\u001b[39m,\u001b[38;5;241m3\u001b[39m,\u001b[38;5;241m6\u001b[39m),\u001b[38;5;124m'\u001b[39m\u001b[38;5;124mvyas\u001b[39m\u001b[38;5;124m'\u001b[39m,[\u001b[38;5;241m5\u001b[39m,\u001b[38;5;241m8\u001b[39m,\u001b[38;5;241m5\u001b[39m]}\n",
      "\u001b[1;31mTypeError\u001b[0m: unhashable type: 'list'"
     ]
    }
   ],
   "source": [
    "s ={5,78,6,(5,3,6),'vyas',[5,8,5]}"
   ]
  },
  {
   "cell_type": "code",
   "execution_count": 7,
   "id": "6344c328",
   "metadata": {},
   "outputs": [],
   "source": [
    "n={5,78,6,(5,3,6),'vyas',5}"
   ]
  },
  {
   "cell_type": "code",
   "execution_count": 8,
   "id": "eb94be09",
   "metadata": {},
   "outputs": [
    {
     "data": {
      "text/plain": [
       "{(5, 3, 6), 5, 6, 78, 'vyas'}"
      ]
     },
     "execution_count": 8,
     "metadata": {},
     "output_type": "execute_result"
    }
   ],
   "source": [
    "n"
   ]
  },
  {
   "cell_type": "code",
   "execution_count": 11,
   "id": "6e98933d",
   "metadata": {},
   "outputs": [],
   "source": [
    "b=[5,78,6,{5,3,6},'vyas',5]"
   ]
  },
  {
   "cell_type": "code",
   "execution_count": 12,
   "id": "1d7db966",
   "metadata": {},
   "outputs": [
    {
     "data": {
      "text/plain": [
       "[5, 78, 6, {3, 5, 6}, 'vyas', 5]"
      ]
     },
     "execution_count": 12,
     "metadata": {},
     "output_type": "execute_result"
    }
   ],
   "source": [
    "b"
   ]
  },
  {
   "cell_type": "markdown",
   "id": "ece41b79",
   "metadata": {},
   "source": [
    "# directory\n",
    "dict1 = {1: 'niyati',2: 'vyas',3:'xyz','a':54,'p':73}"
   ]
  },
  {
   "cell_type": "code",
   "execution_count": 13,
   "id": "ff7339a9",
   "metadata": {},
   "outputs": [],
   "source": [
    "dict1 = {1: 'niyati',2: 'vyas',3:'xyz','a':54,'p':73}"
   ]
  },
  {
   "cell_type": "code",
   "execution_count": 20,
   "id": "c4186828",
   "metadata": {},
   "outputs": [
    {
     "data": {
      "text/plain": [
       "84"
      ]
     },
     "execution_count": 20,
     "metadata": {},
     "output_type": "execute_result"
    }
   ],
   "source": [
    "dict1[3]"
   ]
  },
  {
   "cell_type": "code",
   "execution_count": 15,
   "id": "e0e7ba0a",
   "metadata": {},
   "outputs": [
    {
     "data": {
      "text/plain": [
       "73"
      ]
     },
     "execution_count": 15,
     "metadata": {},
     "output_type": "execute_result"
    }
   ],
   "source": [
    "dict1['p']"
   ]
  },
  {
   "cell_type": "code",
   "execution_count": 16,
   "id": "943864aa",
   "metadata": {},
   "outputs": [
    {
     "data": {
      "text/plain": [
       "dict_keys([1, 2, 3, 'a', 'p'])"
      ]
     },
     "execution_count": 16,
     "metadata": {},
     "output_type": "execute_result"
    }
   ],
   "source": [
    "dict1.keys()"
   ]
  },
  {
   "cell_type": "code",
   "execution_count": 21,
   "id": "d033c13c",
   "metadata": {},
   "outputs": [
    {
     "data": {
      "text/plain": [
       "dict_values(['niyati', 'vyas', 84, 54, 73])"
      ]
     },
     "execution_count": 21,
     "metadata": {},
     "output_type": "execute_result"
    }
   ],
   "source": [
    "dict1.values()"
   ]
  },
  {
   "cell_type": "markdown",
   "id": "4caeb1e6",
   "metadata": {},
   "source": [
    "# json\n",
    "dict2 = {1:\"jalpa\",\"B\":\"utkarsh\",3:\"meruf\",4:\"vivek\",\"C\":\"nilansi\",5:[3,5,6],6:{5,\"j\",56},7:{'j':\"hj\",1:\"y\",2:\"x\",3:[4,5]}}"
   ]
  },
  {
   "cell_type": "code",
   "execution_count": null,
   "id": "a11206fe",
   "metadata": {},
   "outputs": [],
   "source": [
    "#javascript object notes"
   ]
  },
  {
   "cell_type": "code",
   "execution_count": 23,
   "id": "0f426e48",
   "metadata": {},
   "outputs": [],
   "source": [
    "dict2 = {1:\"jalpa\",\"B\":\"utkarsh\",3:\"meruf\",4:\"vivek\",\"C\":\"nilansi\",5:[3,5,6],6:{5,\"j\",56},7:{'j':\"hj\",1:\"y\",2:\"x\",3:[4,5]}}"
   ]
  },
  {
   "cell_type": "code",
   "execution_count": 24,
   "id": "3bd9aace",
   "metadata": {
    "scrolled": true
   },
   "outputs": [
    {
     "data": {
      "text/plain": [
       "4"
      ]
     },
     "execution_count": 24,
     "metadata": {},
     "output_type": "execute_result"
    }
   ],
   "source": [
    "dict2[7][3][0]"
   ]
  },
  {
   "cell_type": "code",
   "execution_count": 38,
   "id": "ff2886fc",
   "metadata": {},
   "outputs": [],
   "source": [
    "dict9 = {1:'hbkjf',2:'jh',3:'mvhg',5:[5,'hf',5],4:(5,5,'jsg')}"
   ]
  },
  {
   "cell_type": "code",
   "execution_count": 41,
   "id": "560d18e3",
   "metadata": {},
   "outputs": [
    {
     "data": {
      "text/plain": [
       "dict_values(['hbkjf', 'jh', 'mvhg', [5, 'hf', 5], (5, 5, 'jsg')])"
      ]
     },
     "execution_count": 41,
     "metadata": {},
     "output_type": "execute_result"
    }
   ],
   "source": [
    "dict9.values()"
   ]
  },
  {
   "cell_type": "code",
   "execution_count": 25,
   "id": "be59f069",
   "metadata": {},
   "outputs": [],
   "source": [
    "y={\n",
    "\t\"id\": \"0001\",\n",
    "\t\"type\": \"donut\",\n",
    "\t\"name\": \"Cake\",\n",
    "\t\"ppu\": 0.55,\n",
    "\t\"batters\":\n",
    "\t\t{\n",
    "\t\t\t\"batter\":\n",
    "\t\t\t\t[\n",
    "\t\t\t\t\t{ \"id\": \"1001\", \"type\": \"Regular\" },\n",
    "\t\t\t\t\t{ \"id\": \"1002\", \"type\": \"Chocolate\" },\n",
    "\t\t\t\t\t{ \"id\": \"1003\", \"type\": \"Blueberry\" },\n",
    "\t\t\t\t\t{ \"id\": \"1004\", \"type\": \"Devil's Food\" }\n",
    "\t\t\t\t]\n",
    "\t\t},\n",
    "\t\"topping\":\n",
    "\t\t[\n",
    "\t\t\t{ \"id\": \"5001\", \"type\": \"None\" },\n",
    "\t\t\t{ \"id\": \"5002\", \"type\": \"Glazed\" },\n",
    "\t\t\t{ \"id\": \"5005\", \"type\": \"Sugar\" },\n",
    "\t\t\t{ \"id\": \"5007\", \"type\": \"Powdered Sugar\" },\n",
    "\t\t\t{ \"id\": \"5006\", \"type\": \"Chocolate with Sprinkles\" },\n",
    "\t\t\t{ \"id\": \"5003\", \"type\": \"Chocolate\" }]}"
   ]
  },
  {
   "cell_type": "code",
   "execution_count": 26,
   "id": "a80993f8",
   "metadata": {},
   "outputs": [
    {
     "data": {
      "text/plain": [
       "'Chocolate with Sprinkles'"
      ]
     },
     "execution_count": 26,
     "metadata": {},
     "output_type": "execute_result"
    }
   ],
   "source": [
    "y[\"topping\"][4][\"type\"]"
   ]
  },
  {
   "cell_type": "code",
   "execution_count": 27,
   "id": "3ea862e7",
   "metadata": {},
   "outputs": [],
   "source": [
    "s= {\t\"id\": \"0001\",\n",
    "\t\"type\": \"donut\",\n",
    "\t\"name\": \"Cake\",\n",
    "\t\"image\":\n",
    "\t\t{\n",
    "\t\t\t\"url\": \"images/0001.jpg\",\n",
    "\t\t\t\"width\": 200,\n",
    "\t\t\t\"height\": 200\n",
    "\t\t},\n",
    "\t\"thumbnail\":\n",
    "\t\t{\n",
    "\t\t\t\"url\": \"images/thumbnails/0001.jpg\",\n",
    "\t\t\t\"width\": 32,\n",
    "\t\t\t\"height\": 32\n",
    "\t\t}\n",
    "}"
   ]
  },
  {
   "cell_type": "code",
   "execution_count": 2,
   "id": "487c834f",
   "metadata": {
    "scrolled": true
   },
   "outputs": [],
   "source": [
    "x1={\"widget\": {\n",
    "    \"debug\": \"on\",\n",
    "    \"window\": {\n",
    "        \"title\": \"Sample Konfabulator Widget\",\n",
    "        \"name\": \"main_window\",\n",
    "        \"width\": 500,\n",
    "        \"height\": 500\n",
    "    },\n",
    "    \"image\": { \n",
    "        \"src\": \"Images/Sun.png\",\n",
    "        \"name\": \"sun1\",\n",
    "        \"hOffset\": 250,\n",
    "        \"vOffset\": 250,\n",
    "        \"alignment\": \"center\"\n",
    "    },\n",
    "    \"text\": {\n",
    "        \"data\": \"Click Here\",\n",
    "        \"size\": 36,\n",
    "        \"style\": \"bold\",\n",
    "        \"name\": \"text1\",\n",
    "        \"hOffset\": 250,\n",
    "        \"vOffset\": 100,\n",
    "        \"alignment\": \"center\",\n",
    "        \"onMouseUp\": \"sun1.opacity = (sun1.opacity / 100) * 90;\"\n",
    "    }\n",
    "}}    "
   ]
  },
  {
   "cell_type": "code",
   "execution_count": 4,
   "id": "342cc3e6",
   "metadata": {},
   "outputs": [
    {
     "data": {
      "text/plain": [
       "'Images/Sun.png'"
      ]
     },
     "execution_count": 4,
     "metadata": {},
     "output_type": "execute_result"
    }
   ],
   "source": [
    "x1[\"widget\"][\"image\"][\"src\"]"
   ]
  },
  {
   "cell_type": "code",
   "execution_count": 28,
   "id": "2ee8015b",
   "metadata": {},
   "outputs": [
    {
     "data": {
      "text/plain": [
       "200"
      ]
     },
     "execution_count": 28,
     "metadata": {},
     "output_type": "execute_result"
    }
   ],
   "source": [
    "s[\"image\"][\"height\"]"
   ]
  },
  {
   "cell_type": "code",
   "execution_count": 6,
   "id": "65109805",
   "metadata": {},
   "outputs": [],
   "source": [
    "l = [4,5,'niyati',7.45]"
   ]
  },
  {
   "cell_type": "code",
   "execution_count": 7,
   "id": "1719dbce",
   "metadata": {},
   "outputs": [
    {
     "data": {
      "text/plain": [
       "[4, 5, 'niyati', 7.45]"
      ]
     },
     "execution_count": 7,
     "metadata": {},
     "output_type": "execute_result"
    }
   ],
   "source": [
    "l"
   ]
  },
  {
   "cell_type": "code",
   "execution_count": 9,
   "id": "64b561e2",
   "metadata": {},
   "outputs": [
    {
     "name": "stdout",
     "output_type": "stream",
     "text": [
      "element is integer\n"
     ]
    }
   ],
   "source": [
    "l = [4,5,'niyati',7.45]\n",
    "if type(l[0]==int):\n",
    "    print(\"element is integer\")\n",
    "elif type(l[-1]==float):\n",
    "    print(\"it is a float\")\n",
    "else:\n",
    "    print(\"this string\")\n",
    "    \n",
    "    \n",
    "    "
   ]
  },
  {
   "cell_type": "code",
   "execution_count": 27,
   "id": "db4407a2",
   "metadata": {
    "scrolled": true
   },
   "outputs": [
    {
     "name": "stdout",
     "output_type": "stream",
     "text": [
      "Enter the height in m: 1.77\n",
      "Enter the weight in kg: 50\n",
      "Your Body Mass Index is 15.959653994701394\n",
      "the person is weak.\n"
     ]
    }
   ],
   "source": [
    "height = float(input(\"Enter the height in m: \"))  \n",
    "weight = float(input(\"Enter the weight in kg: \"))  \n",
    "BMI = weight / (height)**2  \n",
    "print(\"Your Body Mass Index is\",BMI)    \n",
    "if BMI < 18:  \n",
    "    print(\"the person is weak.\")  \n",
    "elif BMI < 24:  \n",
    "    print(\"the person is healthy.\")  \n",
    "elif BMI < 30:  \n",
    "    print(\"the person is weight.\")  \n",
    "else:\n",
    "    print(\"the person is obse\")"
   ]
  },
  {
   "cell_type": "markdown",
   "id": "8e825f87",
   "metadata": {},
   "source": [
    "# for loop\n"
   ]
  },
  {
   "cell_type": "code",
   "execution_count": 1,
   "id": "7ae121ec",
   "metadata": {},
   "outputs": [],
   "source": [
    "l=['x','y',12,13]"
   ]
  },
  {
   "cell_type": "code",
   "execution_count": 2,
   "id": "68bd3ebd",
   "metadata": {},
   "outputs": [
    {
     "data": {
      "text/plain": [
       "['x', 'y', 12, 13]"
      ]
     },
     "execution_count": 2,
     "metadata": {},
     "output_type": "execute_result"
    }
   ],
   "source": [
    "l"
   ]
  },
  {
   "cell_type": "code",
   "execution_count": 3,
   "id": "8439db0f",
   "metadata": {},
   "outputs": [
    {
     "name": "stdout",
     "output_type": "stream",
     "text": [
      "x\n",
      "y\n",
      "12\n",
      "13\n"
     ]
    }
   ],
   "source": [
    "for i in l:\n",
    "    print(i)"
   ]
  },
  {
   "cell_type": "code",
   "execution_count": 4,
   "id": "39681cac",
   "metadata": {},
   "outputs": [
    {
     "data": {
      "text/plain": [
       "range(0, 13)"
      ]
     },
     "execution_count": 4,
     "metadata": {},
     "output_type": "execute_result"
    }
   ],
   "source": [
    "range(i)"
   ]
  },
  {
   "cell_type": "code",
   "execution_count": 9,
   "id": "669c2b7d",
   "metadata": {},
   "outputs": [
    {
     "data": {
      "text/plain": [
       "range(0, 5)"
      ]
     },
     "execution_count": 9,
     "metadata": {},
     "output_type": "execute_result"
    }
   ],
   "source": [
    "range(5)"
   ]
  },
  {
   "cell_type": "code",
   "execution_count": 10,
   "id": "92baf036",
   "metadata": {},
   "outputs": [
    {
     "data": {
      "text/plain": [
       "range(0, 10)"
      ]
     },
     "execution_count": 10,
     "metadata": {},
     "output_type": "execute_result"
    }
   ],
   "source": [
    "range(0,10)"
   ]
  },
  {
   "cell_type": "code",
   "execution_count": 11,
   "id": "99ce66fb",
   "metadata": {},
   "outputs": [
    {
     "data": {
      "text/plain": [
       "[0, 1, 2, 3, 4, 5, 6, 7, 8, 9]"
      ]
     },
     "execution_count": 11,
     "metadata": {},
     "output_type": "execute_result"
    }
   ],
   "source": [
    "list(range(10))"
   ]
  },
  {
   "cell_type": "code",
   "execution_count": 12,
   "id": "7e9a1576",
   "metadata": {},
   "outputs": [
    {
     "data": {
      "text/plain": [
       "[1, 3, 5, 7, 9]"
      ]
     },
     "execution_count": 12,
     "metadata": {},
     "output_type": "execute_result"
    }
   ],
   "source": [
    "list(range(1,10,2))"
   ]
  },
  {
   "cell_type": "code",
   "execution_count": 13,
   "id": "56aaeb89",
   "metadata": {},
   "outputs": [
    {
     "data": {
      "text/plain": [
       "[10, 9, 8, 7, 6, 5, 4, 3, 2, 1]"
      ]
     },
     "execution_count": 13,
     "metadata": {},
     "output_type": "execute_result"
    }
   ],
   "source": [
    "list(range(10,0,-1))"
   ]
  },
  {
   "cell_type": "code",
   "execution_count": 5,
   "id": "3b2e41b0",
   "metadata": {},
   "outputs": [
    {
     "name": "stdout",
     "output_type": "stream",
     "text": [
      "0\n",
      "1\n",
      "2\n",
      "3\n",
      "4\n"
     ]
    }
   ],
   "source": [
    "for i in range(5):\n",
    "    print(i)"
   ]
  },
  {
   "cell_type": "code",
   "execution_count": 18,
   "id": "58d1ceb5",
   "metadata": {
    "scrolled": true
   },
   "outputs": [
    {
     "name": "stdout",
     "output_type": "stream",
     "text": [
      "0\n",
      "1\n",
      "2\n",
      "3\n",
      "4\n",
      "5\n",
      "6\n",
      "7\n",
      "8\n",
      "9\n"
     ]
    }
   ],
   "source": [
    "for i in range(0,10):\n",
    "    print(i)"
   ]
  },
  {
   "cell_type": "code",
   "execution_count": 21,
   "id": "e70eebe8",
   "metadata": {
    "scrolled": true
   },
   "outputs": [
    {
     "name": "stdout",
     "output_type": "stream",
     "text": [
      "10\n",
      "9\n",
      "8\n",
      "7\n",
      "6\n",
      "5\n",
      "4\n",
      "3\n",
      "2\n",
      "1\n"
     ]
    }
   ],
   "source": [
    "for i in range(10,0,-1):\n",
    "    print(i)"
   ]
  },
  {
   "cell_type": "code",
   "execution_count": 22,
   "id": "2af434d1",
   "metadata": {
    "scrolled": true
   },
   "outputs": [
    {
     "name": "stdout",
     "output_type": "stream",
     "text": [
      "58\n",
      "niyati\n",
      "6\n",
      "8\n",
      "5\n"
     ]
    }
   ],
   "source": [
    "l1=[5,8,6,'niyati',58]\n",
    "for i in l1[::-1]:\n",
    "    print(i)"
   ]
  },
  {
   "cell_type": "code",
   "execution_count": 23,
   "id": "d572e6f5",
   "metadata": {},
   "outputs": [
    {
     "name": "stdout",
     "output_type": "stream",
     "text": [
      "i\n",
      "t\n",
      "a\n",
      "y\n",
      "i\n",
      "n\n"
     ]
    }
   ],
   "source": [
    "a='niyati'\n",
    "for i in a[::-1]:\n",
    "    print(i)"
   ]
  },
  {
   "cell_type": "code",
   "execution_count": 7,
   "id": "e90fc69a",
   "metadata": {},
   "outputs": [
    {
     "name": "stdout",
     "output_type": "stream",
     "text": [
      "jalpa\n",
      "anushka\n"
     ]
    }
   ],
   "source": [
    "l=[\"jalpa\",\"anushka\",\"taksh\",\"niyati\",\"parvati\"]\n",
    "for x in l:\n",
    "    if x == \"taksh\":\n",
    "        break\n",
    "    print(x)"
   ]
  },
  {
   "cell_type": "code",
   "execution_count": 8,
   "id": "d9788847",
   "metadata": {},
   "outputs": [
    {
     "name": "stdout",
     "output_type": "stream",
     "text": [
      "jalpa\n",
      "anushka\n",
      "niyati\n",
      "parvati\n"
     ]
    }
   ],
   "source": [
    "l=[\"jalpa\",\"anushka\",\"taksh\",\"niyati\",\"parvati\"]\n",
    "for x in l:\n",
    "    if x == \"taksh\":\n",
    "        continue\n",
    "    print(x)"
   ]
  },
  {
   "cell_type": "code",
   "execution_count": 5,
   "id": "95fd1f86",
   "metadata": {},
   "outputs": [
    {
     "name": "stdout",
     "output_type": "stream",
     "text": [
      "jalpa\n",
      "anushka\n",
      "taksh\n",
      "niyati\n",
      "parvati\n"
     ]
    }
   ],
   "source": [
    "l=[\"jalpa\",\"anushka\",\"taksh\",\"niyati\",\"parvati\"]\n",
    "for x in l:\n",
    "    if x == \"taksh\":\n",
    "        pass\n",
    "    print(x)"
   ]
  },
  {
   "cell_type": "code",
   "execution_count": 6,
   "id": "01cb7acf",
   "metadata": {
    "scrolled": true
   },
   "outputs": [
    {
     "name": "stdout",
     "output_type": "stream",
     "text": [
      "4\n",
      "5\n",
      "8\n"
     ]
    }
   ],
   "source": [
    "l=[4,5,8,'niyati','zyx','u']\n",
    "for i in l:\n",
    "    if i =='niyati':\n",
    "        break\n",
    "    print(i)    "
   ]
  },
  {
   "cell_type": "code",
   "execution_count": 46,
   "id": "09ad93d6",
   "metadata": {},
   "outputs": [
    {
     "name": "stdout",
     "output_type": "stream",
     "text": [
      "2\n",
      "6\n",
      "2\n"
     ]
    }
   ],
   "source": [
    "l=[2,7,6,9,5.5,2]\n",
    "for x in l:\n",
    "    if x%2 == 0:        \n",
    "        print(x)"
   ]
  },
  {
   "cell_type": "code",
   "execution_count": 49,
   "id": "172e80cc",
   "metadata": {},
   "outputs": [
    {
     "name": "stdout",
     "output_type": "stream",
     "text": [
      "2\n",
      "6\n"
     ]
    },
    {
     "ename": "TypeError",
     "evalue": "not all arguments converted during string formatting",
     "output_type": "error",
     "traceback": [
      "\u001b[1;31m---------------------------------------------------------------------------\u001b[0m",
      "\u001b[1;31mTypeError\u001b[0m                                 Traceback (most recent call last)",
      "Cell \u001b[1;32mIn[49], line 3\u001b[0m\n\u001b[0;32m      1\u001b[0m l\u001b[38;5;241m=\u001b[39m[\u001b[38;5;241m2\u001b[39m,\u001b[38;5;241m7\u001b[39m,\u001b[38;5;241m6\u001b[39m,\u001b[38;5;241m9\u001b[39m,\u001b[38;5;124m'\u001b[39m\u001b[38;5;124mniyati\u001b[39m\u001b[38;5;124m'\u001b[39m,\u001b[38;5;241m5.5\u001b[39m,\u001b[38;5;241m2\u001b[39m]\n\u001b[0;32m      2\u001b[0m \u001b[38;5;28;01mfor\u001b[39;00m x \u001b[38;5;129;01min\u001b[39;00m l:\n\u001b[1;32m----> 3\u001b[0m     \u001b[38;5;28;01mif\u001b[39;00m \u001b[43mx\u001b[49m\u001b[38;5;241;43m%\u001b[39;49m\u001b[38;5;241;43m2\u001b[39;49m \u001b[38;5;241m==\u001b[39m \u001b[38;5;241m0\u001b[39m:  \n\u001b[0;32m      4\u001b[0m         \u001b[38;5;28;01mif\u001b[39;00m \u001b[38;5;28mtype\u001b[39m(x) \u001b[38;5;241m==\u001b[39m\u001b[38;5;28mstr\u001b[39m:\n\u001b[0;32m      5\u001b[0m             \u001b[38;5;28;01mpass\u001b[39;00m\n",
      "\u001b[1;31mTypeError\u001b[0m: not all arguments converted during string formatting"
     ]
    }
   ],
   "source": [
    "# This for understanding\n",
    "l=[2,7,6,9,'niyati',5.5,2]\n",
    "for x in l:\n",
    "    if x%2 == 0:  \n",
    "        if type(x) ==str:\n",
    "            pass\n",
    "        print(x)"
   ]
  },
  {
   "cell_type": "code",
   "execution_count": 24,
   "id": "8432acea",
   "metadata": {
    "scrolled": false
   },
   "outputs": [
    {
     "name": "stdout",
     "output_type": "stream",
     "text": [
      "5\n",
      "4\n",
      "8\n"
     ]
    }
   ],
   "source": [
    "l=[5,4,8,'niyatu','h',5.5,6+6j]\n",
    "for i in l:\n",
    "    if type(i) == int:\n",
    "        print(i)"
   ]
  },
  {
   "cell_type": "code",
   "execution_count": 25,
   "id": "17e2cd44",
   "metadata": {},
   "outputs": [
    {
     "name": "stdout",
     "output_type": "stream",
     "text": [
      "niyatu\n",
      "h\n"
     ]
    }
   ],
   "source": [
    "l=[5,4,8,'niyatu','h',[4,45,5]]\n",
    "for i in l:\n",
    "    if type(i) == str:\n",
    "        print(i)\n",
    "        \n",
    "        "
   ]
  },
  {
   "cell_type": "code",
   "execution_count": 38,
   "id": "b595f88b",
   "metadata": {
    "scrolled": true
   },
   "outputs": [
    {
     "name": "stdout",
     "output_type": "stream",
     "text": [
      "5\n",
      "4\n",
      "8\n",
      "4\n",
      "45\n",
      "5\n"
     ]
    }
   ],
   "source": [
    "l=[5,4,8,'niyatu','h',[4,45,5]]\n",
    "for i in l:\n",
    "    if type(i) == int:\n",
    "        print(i)\n",
    "for j in l[5]:\n",
    "    if type(j) == int:\n",
    "        print(j)        \n",
    "        "
   ]
  },
  {
   "cell_type": "code",
   "execution_count": 26,
   "id": "cf7bf129",
   "metadata": {
    "scrolled": true
   },
   "outputs": [
    {
     "name": "stdout",
     "output_type": "stream",
     "text": [
      "Enter the list l1:\n",
      "Enter the list l2:\n",
      "length of both list is same\n"
     ]
    }
   ],
   "source": [
    "l1=input(\"Enter the list l1:\")\n",
    "l2=input(\"Enter the list l2:\")\n",
    "if len(l1) == len(l2):\n",
    "    print(\"length of both list is same\")\n",
    "else:\n",
    "    print(\"length of both list is not same\")"
   ]
  },
  {
   "cell_type": "code",
   "execution_count": 27,
   "id": "f0afd808",
   "metadata": {},
   "outputs": [
    {
     "name": "stdout",
     "output_type": "stream",
     "text": [
      "Enter the list l1:\n",
      "Enter the list l2:\n",
      "type of both list is same\n"
     ]
    }
   ],
   "source": [
    "l1=input(\"Enter the list l1:\")\n",
    "l2=input(\"Enter the list l2:\")\n",
    "if type(l1) == type(l2):\n",
    "    print(\"type of both list is same\")\n",
    "else:\n",
    "    print(\"type of both list is not same\")"
   ]
  },
  {
   "cell_type": "code",
   "execution_count": 29,
   "id": "e8b3322e",
   "metadata": {
    "scrolled": true
   },
   "outputs": [
    {
     "name": "stdout",
     "output_type": "stream",
     "text": [
      "Enter the list l1:8,88,9,9,\n",
      "Enter the list l2:8,55,68,5\n",
      "first element of both list is same\n"
     ]
    }
   ],
   "source": [
    "l1=input(\"Enter the list l1:\")\n",
    "l2=input(\"Enter the list l2:\")\n",
    "if l1[0] == l2[0]:\n",
    "    print(\"first element of both list is same\")\n",
    "else:\n",
    "    print(\"first element of both list is not same\")"
   ]
  },
  {
   "cell_type": "code",
   "execution_count": 34,
   "id": "548e2c60",
   "metadata": {
    "scrolled": false
   },
   "outputs": [
    {
     "name": "stdout",
     "output_type": "stream",
     "text": [
      "Enter the number for table: 1\n",
      "1 x 1 = 1\n",
      "1 x 2 = 2\n",
      "1 x 3 = 3\n",
      "1 x 4 = 4\n",
      "1 x 5 = 5\n",
      "1 x 6 = 6\n",
      "1 x 7 = 7\n",
      "1 x 8 = 8\n",
      "1 x 9 = 9\n",
      "1 x 10 = 10\n"
     ]
    }
   ],
   "source": [
    "num = int(input (\"Enter the number for table: \"))        \n",
    "for i in range(1, 11):      \n",
    "   print (num, 'x', i, '=', num * i)    "
   ]
  },
  {
   "cell_type": "code",
   "execution_count": 5,
   "id": "44133933",
   "metadata": {
    "scrolled": false
   },
   "outputs": [
    {
     "name": "stdout",
     "output_type": "stream",
     "text": [
      "enter the value of n :5\n",
      " *  \n",
      "\n",
      " *   *  \n",
      "\n",
      " *   *   *  \n",
      "\n",
      " *   *   *   *  \n",
      "\n",
      " *   *   *   *   *  \n",
      "\n"
     ]
    }
   ],
   "source": [
    "n = int(input(\"enter the value of n :\"))\n",
    "for i in range(n):\n",
    "    for j in range(0,i+1):\n",
    "        print(\" * \", end = \" \")\n",
    "    print('\\n')    "
   ]
  },
  {
   "cell_type": "code",
   "execution_count": 20,
   "id": "d5652e78",
   "metadata": {
    "scrolled": true
   },
   "outputs": [
    {
     "name": "stdout",
     "output_type": "stream",
     "text": [
      "enter the value of n :5\n",
      " *   *   *   *   *  \n",
      "\n",
      " *   *   *   *  \n",
      "\n",
      " *   *   *  \n",
      "\n",
      " *   *  \n",
      "\n",
      " *  \n",
      "\n"
     ]
    }
   ],
   "source": [
    "n = int(input(\"enter the value of n :\"))\n",
    "for i in range(n,0,-1):\n",
    "    for j in range(0,i):\n",
    "        print(\" * \", end = \" \")\n",
    "    print('\\n') "
   ]
  },
  {
   "cell_type": "code",
   "execution_count": 4,
   "id": "44463100",
   "metadata": {
    "scrolled": true
   },
   "outputs": [
    {
     "name": "stdout",
     "output_type": "stream",
     "text": [
      "enter the value of n :5\n",
      " *   *   *   *   *  \n",
      "\n",
      " *   *   *   *   *  \n",
      "\n",
      " *   *   *   *   *  \n",
      "\n",
      " *   *   *   *   *  \n",
      "\n",
      " *   *   *   *   *  \n",
      "\n"
     ]
    }
   ],
   "source": [
    "n = int(input(\"enter the value of n :\"))\n",
    "for i in range(n):\n",
    "    for j in range(i,i+n):\n",
    "        print(\" * \", end = \" \")\n",
    "    print('\\n')    "
   ]
  },
  {
   "cell_type": "code",
   "execution_count": 3,
   "id": "f15e40db",
   "metadata": {},
   "outputs": [
    {
     "name": "stdout",
     "output_type": "stream",
     "text": [
      "enter the value of n :6\n",
      "\n",
      "\n",
      "1 \n",
      "\n",
      "1 2 \n",
      "\n",
      "1 2 3 \n",
      "\n",
      "1 2 3 4 \n",
      "\n",
      "1 2 3 4 5 \n",
      "\n"
     ]
    }
   ],
   "source": [
    "n = int(input(\"enter the value of n :\"))\n",
    "for i in range(n):\n",
    "    for j in range(1,i+1):\n",
    "        print(j, end = \" \")\n",
    "    print('\\n')    "
   ]
  },
  {
   "cell_type": "code",
   "execution_count": 6,
   "id": "25f6fe09",
   "metadata": {
    "scrolled": true
   },
   "outputs": [
    {
     "name": "stdout",
     "output_type": "stream",
     "text": [
      "enter the value of n :5\n",
      "\n",
      "\n",
      "1 \n",
      "\n",
      "2 2 \n",
      "\n",
      "3 3 3 \n",
      "\n",
      "4 4 4 4 \n",
      "\n"
     ]
    }
   ],
   "source": [
    "n = int(input(\"enter the value of n :\"))\n",
    "for i in range(n):\n",
    "    for j in range(1,i+1):\n",
    "        print(i, end = \" \")\n",
    "    print('\\n')    "
   ]
  },
  {
   "cell_type": "code",
   "execution_count": 8,
   "id": "ba891767",
   "metadata": {},
   "outputs": [
    {
     "name": "stdout",
     "output_type": "stream",
     "text": [
      "enter the value of n :5\n",
      "A \n",
      "\n",
      "A B \n",
      "\n",
      "A B C \n",
      "\n",
      "A B C D \n",
      "\n"
     ]
    }
   ],
   "source": [
    "n = int(input(\"enter the value of n :\"))\n",
    "for i in range(1,n):\n",
    "    for j in range(65,65+i):\n",
    "        print(chr(j), end = \" \")\n",
    "    print('\\n')    "
   ]
  },
  {
   "cell_type": "code",
   "execution_count": 7,
   "id": "c8853d53",
   "metadata": {
    "scrolled": false
   },
   "outputs": [
    {
     "name": "stdout",
     "output_type": "stream",
     "text": [
      "enter the value of n :5\n",
      "a \n",
      "\n",
      "a b \n",
      "\n",
      "a b c \n",
      "\n",
      "a b c d \n",
      "\n"
     ]
    }
   ],
   "source": [
    "n = int(input(\"enter the value of n :\"))\n",
    "for i in range(1,n):\n",
    "    for j in range(97,97+i):\n",
    "        print(chr(j), end = \" \")\n",
    "    print('\\n')    "
   ]
  },
  {
   "cell_type": "code",
   "execution_count": 2,
   "id": "2252e4be",
   "metadata": {
    "scrolled": true
   },
   "outputs": [
    {
     "name": "stdout",
     "output_type": "stream",
     "text": [
      "enter number of rows: 5\n",
      "A \n",
      "\n",
      "B B \n",
      "\n",
      "C C C \n",
      "\n",
      "D D D D \n",
      "\n",
      "E E E E E \n",
      "\n"
     ]
    }
   ],
   "source": [
    "rows = int(input(\"enter number of rows: \"))\n",
    "\n",
    "ascii_value =65\n",
    "\n",
    "for i in range(rows):\n",
    "    for j in range(i+1):\n",
    "        alphabet = chr(ascii_value)\n",
    "        print(alphabet, end = \" \")\n",
    "    ascii_value = ascii_value+1\n",
    "    print('\\n')    "
   ]
  },
  {
   "cell_type": "code",
   "execution_count": 11,
   "id": "8fba5d55",
   "metadata": {
    "scrolled": true
   },
   "outputs": [
    {
     "name": "stdout",
     "output_type": "stream",
     "text": [
      "enter number of rows: 5\n",
      "a \n",
      "\n",
      "b b \n",
      "\n",
      "c c c \n",
      "\n",
      "d d d d \n",
      "\n",
      "e e e e e \n",
      "\n"
     ]
    }
   ],
   "source": [
    "rows = int(input(\"enter number of rows: \"))\n",
    "\n",
    "ascii_value =97\n",
    "\n",
    "for i in range(rows):\n",
    "    for j in range(i+1):\n",
    "        alphabet = chr(ascii_value)\n",
    "        print(alphabet, end = \" \")\n",
    "    ascii_value = ascii_value+1\n",
    "    print('\\n')"
   ]
  },
  {
   "cell_type": "code",
   "execution_count": 10,
   "id": "d67558b4",
   "metadata": {},
   "outputs": [],
   "source": [
    "# hollow squre\n",
    "# alphabet\n",
    "# prime no. / 1-100 found\n",
    "# febonacii\n",
    "# list "
   ]
  },
  {
   "cell_type": "code",
   "execution_count": 1,
   "id": "386e3890",
   "metadata": {},
   "outputs": [
    {
     "name": "stdout",
     "output_type": "stream",
     "text": [
      " 2   3   5   7   11   13   17   19   23   29   31   37   41   43   47   53   59   61   67   71   73   79   83   89   97  "
     ]
    }
   ],
   "source": [
    "# prime no. 1-100\n",
    "for Number in range (1, 101):\n",
    "    count = 0\n",
    "    for i in range(2, (Number//2 + 1)):\n",
    "        if(Number % i == 0):\n",
    "            count = count + 1\n",
    "            break\n",
    "\n",
    "    if (count == 0 and Number != 1):\n",
    "        print(\" %d\" %Number, end = '  ')"
   ]
  },
  {
   "cell_type": "code",
   "execution_count": 14,
   "id": "466fabc0",
   "metadata": {},
   "outputs": [
    {
     "name": "stdout",
     "output_type": "stream",
     "text": [
      "Enter a number: 547674\n",
      "547674 is not a prime number\n",
      "2 times 273837 is 547674\n"
     ]
    }
   ],
   "source": [
    "#check prime no.\n",
    "num = int(input(\"Enter a number: \"))\n",
    "\n",
    "if num == 1:\n",
    "    print(num, \"is not a prime number\")\n",
    "elif num > 1:\n",
    "    for i in range(2,num):\n",
    "        if (num % i) == 0:\n",
    "            print(num,\"is not a prime number\")\n",
    "            print(i,\"times\",num//i,\"is\",num)\n",
    "            break\n",
    "    else:\n",
    "        print(num,\"is a prime number\")\n",
    "else:\n",
    "    print(num,\"is not a prime number\")"
   ]
  },
  {
   "cell_type": "code",
   "execution_count": 3,
   "id": "b6546cfc",
   "metadata": {},
   "outputs": [
    {
     "name": "stdout",
     "output_type": "stream",
     "text": [
      "Enter length of Fibonacci series: 10\n",
      "0 1 1 2 3 5 8 13 21 34 "
     ]
    }
   ],
   "source": [
    "#fibonacci series\n",
    "n = int(input(\"Enter length of Fibonacci series: \"))\n",
    "num1 = 0\n",
    "num2 = 1\n",
    "next_number = 0\n",
    "count = 1\n",
    "while(count <= n):\n",
    "    print(next_number, end=\" \")\n",
    "    count += 1\n",
    "    num1 = num2\n",
    "    num2 = next_number\n",
    "    next_number = num1 + num2\n",
    "    t_number = num1 + num2"
   ]
  },
  {
   "cell_type": "code",
   "execution_count": 1,
   "id": "eec4ea9c",
   "metadata": {},
   "outputs": [
    {
     "name": "stdout",
     "output_type": "stream",
     "text": [
      "* * * * * \n",
      "*       * \n",
      "*       * \n",
      "*       * \n",
      "* * * * * \n"
     ]
    }
   ],
   "source": [
    "#hollow square\n",
    "for raw in range(5):\n",
    "    for col in range(5):\n",
    "        if (raw in (0,4)):\n",
    "            print(\"*\",end=' ')\n",
    "        elif (raw in (1,2,3,4)) and (col in (0,4)):\n",
    "            print(\"*\",end=' ')\n",
    "        else:\n",
    "            print(\" \",end=' ')\n",
    "    print()        \n",
    "           "
   ]
  },
  {
   "cell_type": "code",
   "execution_count": 4,
   "id": "cd60c8e3",
   "metadata": {},
   "outputs": [
    {
     "name": "stdout",
     "output_type": "stream",
     "text": [
      "* * * * * \n",
      "* n n n * \n",
      "* n n n * \n",
      "* n n n * \n",
      "* * * * * \n"
     ]
    }
   ],
   "source": [
    "for raw in range(5):\n",
    "    for col in range(5):\n",
    "        if (raw in (0,4)):\n",
    "            print(\"*\",end=' ')\n",
    "        elif (raw in (1,2,3,4)) and (col in (0,4)):\n",
    "            print(\"*\",end=' ')\n",
    "        else:\n",
    "            print(\"n\",end=' ')\n",
    "    print()  "
   ]
  },
  {
   "cell_type": "code",
   "execution_count": 2,
   "id": "a7d39525",
   "metadata": {},
   "outputs": [
    {
     "name": "stdout",
     "output_type": "stream",
     "text": [
      "* * * * * \n",
      "*       * \n",
      "*   n   * \n",
      "*       * \n",
      "* * * * * \n"
     ]
    }
   ],
   "source": [
    "#alphabet in hollow square\n",
    "for raw in range(5):\n",
    "    for col in range(5):\n",
    "        if (raw in (0,4)):\n",
    "            print(\"*\",end=' ')\n",
    "        elif (raw in (1,2,3,4)) and (col in (0,4)):\n",
    "            print(\"*\",end=' ')\n",
    "        elif (raw in (0,2)) and (col in (0,2)):\n",
    "            print(\"n\",end=' ')  \n",
    "        else:\n",
    "            print(\" \",end=' ')\n",
    "    print()  "
   ]
  },
  {
   "cell_type": "code",
   "execution_count": 3,
   "id": "4c498734",
   "metadata": {},
   "outputs": [
    {
     "name": "stdout",
     "output_type": "stream",
     "text": [
      "  * * *   \n",
      "*       * \n",
      "*       * \n",
      "* * * * * \n",
      "*       * \n",
      "*       * \n",
      "*       * \n"
     ]
    }
   ],
   "source": [
    "for r in range(7):\n",
    "    for c in range(5):\n",
    "        if r==0 and c in {1,2,3}:\n",
    "            print('*', end=\" \")\n",
    "        elif r in {1,2,3,4,5,6} and c in {0,4}:\n",
    "            print('*', end=\" \")\n",
    "        elif r == 3:\n",
    "            print('*', end=\" \")\n",
    "        else:\n",
    "            print(' ', end=\" \")\n",
    "    print()       \n",
    "            "
   ]
  },
  {
   "cell_type": "code",
   "execution_count": 5,
   "id": "06522ab0",
   "metadata": {},
   "outputs": [
    {
     "name": "stdout",
     "output_type": "stream",
     "text": [
      "*       * \n",
      "* *     * \n",
      "*   *   * \n",
      "*     * * \n",
      "*       * \n"
     ]
    }
   ],
   "source": [
    "for r in range(5):\n",
    "    for c in range(5):\n",
    "        if r in {0,1,2,3,4} and c ==0:\n",
    "            print('*', end=\" \")\n",
    "        elif r == 1 and c == 1:\n",
    "             print('*', end=\" \")\n",
    "        elif r == 2 and c == 2:\n",
    "             print('*', end=\" \") \n",
    "        elif r == 3 and c == 3:\n",
    "             print('*', end=\" \")\n",
    "        elif r in {0,1,2,3,4} and c ==4:\n",
    "            print('*', end=\" \") \n",
    "        else:\n",
    "            print(' ', end=\" \")   \n",
    "    print()       \n",
    "                "
   ]
  },
  {
   "cell_type": "code",
   "execution_count": 21,
   "id": "fe1e5e0a",
   "metadata": {
    "scrolled": true
   },
   "outputs": [
    {
     "name": "stdout",
     "output_type": "stream",
     "text": [
      "1  \n",
      "2 3  \n",
      "4 5 6  \n",
      "7 8 9 10  \n",
      "11 12 13 14 15  \n"
     ]
    }
   ],
   "source": [
    "    num=1\n",
    "    n=5\n",
    "    for i in range(0,n):\n",
    "        for j in range(0,i+1):\n",
    "            print(num, end = \" \")\n",
    "            num=num+1\n",
    "        print(\" \") "
   ]
  },
  {
   "cell_type": "code",
   "execution_count": 3,
   "id": "0109b708",
   "metadata": {
    "scrolled": false
   },
   "outputs": [
    {
     "name": "stdout",
     "output_type": "stream",
     "text": [
      "Enter number of rows required:5\n",
      "        * \n",
      "\n",
      "      * * * \n",
      "\n",
      "    * * * * * \n",
      "\n",
      "  * * * * * * * \n",
      "\n",
      "* * * * * * * * * \n",
      "\n"
     ]
    }
   ],
   "source": [
    "n = int(input('Enter number of rows required:'))\n",
    "\n",
    "for i in range(n):\n",
    "    for j in range(n-i-1):\n",
    "        print(\" \",end=\" \")\n",
    "   \n",
    "    for j in range(2*i+1):    \n",
    "        print(\"*\",end=\" \")\n",
    "    print('\\n')    \n",
    "        \n",
    "    "
   ]
  },
  {
   "cell_type": "code",
   "execution_count": 4,
   "id": "ca2390f5",
   "metadata": {},
   "outputs": [
    {
     "name": "stdout",
     "output_type": "stream",
     "text": [
      "Enter number of rows required:5\n",
      "        * \n",
      "\n",
      "      * * \n",
      "\n",
      "    * * * \n",
      "\n",
      "  * * * * \n",
      "\n",
      "* * * * * \n",
      "\n"
     ]
    }
   ],
   "source": [
    "n = int(input('Enter number of rows required:'))\n",
    "\n",
    "for i in range(n):\n",
    "    for j in range(n-i-1):\n",
    "        print(\" \",end=\" \")\n",
    "   \n",
    "    for j in range(i+1):    \n",
    "        print(\"*\",end=\" \")\n",
    "    print('\\n')"
   ]
  },
  {
   "cell_type": "code",
   "execution_count": 21,
   "id": "9fc3f7dd",
   "metadata": {},
   "outputs": [
    {
     "name": "stdout",
     "output_type": "stream",
     "text": [
      "Enter number of rows required:5\n",
      "        *    \n",
      "\n",
      "      *    *    \n",
      "\n",
      "    *    *    *    \n",
      "\n",
      "  *    *    *    *    \n",
      "\n",
      "*    *    *    *    *    \n",
      "\n"
     ]
    }
   ],
   "source": [
    "n = int(input('Enter number of rows required:'))\n",
    "\n",
    "for i in range(n):\n",
    "    for j in range(n-i-1):\n",
    "        print(\" \",end=\" \")\n",
    "   \n",
    "    for j in range(i+1):    \n",
    "        print(\"*\",end=\"    \")\n",
    "    print('\\n')"
   ]
  },
  {
   "cell_type": "code",
   "execution_count": 14,
   "id": "52b28ffb",
   "metadata": {},
   "outputs": [
    {
     "name": "stdout",
     "output_type": "stream",
     "text": [
      "Enter number of rows required:5\n",
      "\n",
      "\n",
      "*  \n",
      "\n",
      "*  *  \n",
      "\n",
      "*  *  *  \n",
      "\n",
      "*  *  *  *  \n",
      "\n"
     ]
    }
   ],
   "source": [
    "n = int(input('Enter number of rows required:'))\n",
    "\n",
    "for i in range(n):\n",
    "    for j in range(i-1-n):\n",
    "        print(\"  \",end=\" \")\n",
    "   \n",
    "    for j in range(i):    \n",
    "        print(\"*\",end=\"  \")\n",
    "    print('\\n')"
   ]
  },
  {
   "cell_type": "code",
   "execution_count": 2,
   "id": "5378c6d4",
   "metadata": {
    "scrolled": true
   },
   "outputs": [
    {
     "name": "stdout",
     "output_type": "stream",
     "text": [
      "Enter diamond's height: 5\n",
      "      *\n",
      "     ***\n",
      "    *****\n",
      "   *******\n",
      "  *********\n",
      "   *******\n",
      "    *****\n",
      "     ***\n",
      "      *\n"
     ]
    }
   ],
   "source": [
    "n= eval(input(\"Enter diamond's height: \"))\n",
    "for x in range(n):\n",
    "    print(\" \"  * (n - x), \"*\" * (2*x + 1))\n",
    "for x in range(n - 2, -1, -1):\n",
    "    print(\" \"  * (n - x), \"*\" * (2*x + 1))"
   ]
  },
  {
   "cell_type": "code",
   "execution_count": 3,
   "id": "efb7f4f5",
   "metadata": {
    "scrolled": true
   },
   "outputs": [
    {
     "name": "stdout",
     "output_type": "stream",
     "text": [
      "Enter number of rows required:5\n",
      "            *  \n",
      "         *  *  *  \n",
      "      *  *  *  *  *  \n",
      "   *  *  *  *  *  *  *  \n",
      "*  *  *  *  *  *  *  *  *  \n",
      "   *  *  *  *  *  *  *  \n",
      "      *  *  *  *  *  \n",
      "         *  *  *  \n",
      "            *  \n"
     ]
    }
   ],
   "source": [
    "d = int(input('Enter number of rows required:'))\n",
    "\n",
    "for i in range(0,d):\n",
    "    for j in range(0,d-i-1):\n",
    "        print(\" \",end='  ')\n",
    "    for l in range(0,2*i+1):    \n",
    "        print(\"*\",end='  ')\n",
    "    print()\n",
    "for i in range(d-1,0,-1):\n",
    "    for j in range(d,i,-1):    \n",
    "        print(\" \",end=\"  \")\n",
    "    for l in range(2*i-1,0,-1): \n",
    "        print(\"*\",end='  ')\n",
    "    print()"
   ]
  },
  {
   "cell_type": "code",
   "execution_count": null,
   "id": "1e3f6bea",
   "metadata": {},
   "outputs": [],
   "source": [
    "#even odd\n",
    "#count all even odd numbers\n",
    "#palindrom or not\n",
    "#dublicate values check[2,5,5,9,7]==mean 2 value =5\n",
    "#febonacci"
   ]
  },
  {
   "cell_type": "code",
   "execution_count": 11,
   "id": "15968638",
   "metadata": {},
   "outputs": [
    {
     "name": "stdout",
     "output_type": "stream",
     "text": [
      "2\n",
      "3\n",
      "8\n"
     ]
    }
   ],
   "source": [
    "#dublicate value\n",
    "l= [1, 2, 3, 4, 2, 8,8,5, 3];        \n",
    "for i in range(0, len(l)):    \n",
    "    for j in range(i+1, len(l)):    \n",
    "        if(l[i] == l[j]):    \n",
    "            print(l[j]);  "
   ]
  },
  {
   "cell_type": "code",
   "execution_count": 25,
   "id": "a53b60a6",
   "metadata": {},
   "outputs": [
    {
     "name": "stdout",
     "output_type": "stream",
     "text": [
      "Even numbers in the list:  3\n",
      "Odd numbers in the list:  4\n"
     ]
    }
   ],
   "source": [
    "#even odd num count\n",
    "list1 = [10, 21, 4, 45, 66, 93, 1]\n",
    "even, odd = 0, 0\n",
    "for num in list1:\n",
    "    if num % 2 == 0:\n",
    "        even += 1\n",
    "    else:\n",
    "        odd += 1\n",
    "print(\"Even numbers in the list: \", even)\n",
    "print(\"Odd numbers in the list: \", odd)"
   ]
  },
  {
   "cell_type": "code",
   "execution_count": 18,
   "id": "d9de3595",
   "metadata": {},
   "outputs": [
    {
     "name": "stdout",
     "output_type": "stream",
     "text": [
      "0\n",
      "1\n",
      "1\n",
      "2\n",
      "3\n",
      "5\n",
      "8\n",
      "13\n",
      "21\n",
      "34\n",
      "55\n",
      "89\n"
     ]
    }
   ],
   "source": [
    "#febonacci\n",
    "n=0\n",
    "m=1\n",
    "print(n)\n",
    "print(m)\n",
    "for x in range(10):\n",
    "    l = n + m\n",
    "    print(l)\n",
    "    n,m=m,l"
   ]
  },
  {
   "cell_type": "code",
   "execution_count": 19,
   "id": "a76a055f",
   "metadata": {},
   "outputs": [
    {
     "name": "stdout",
     "output_type": "stream",
     "text": [
      "Enter the number of terms: 15\n",
      "0 1 1 2 3 5 8 13 21 34 55 89 144 233 377 "
     ]
    }
   ],
   "source": [
    "#febonacci\n",
    "n=int(input(\"Enter the number of terms: \"))\n",
    "a=0\n",
    "b=1\n",
    "if n<=0:\n",
    "    print(\"The febonacci series is\",a)\n",
    "else:\n",
    "    print(a,b,end=\" \")\n",
    "    for x in range(2,n):\n",
    "        c=a+b\n",
    "        print(c,end=\" \")\n",
    "        a=b\n",
    "        b=c"
   ]
  },
  {
   "cell_type": "code",
   "execution_count": 20,
   "id": "a0af1fc2",
   "metadata": {},
   "outputs": [
    {
     "name": "stdout",
     "output_type": "stream",
     "text": [
      "Enter a word: niyin\n",
      "niyin is a palindrome.\n",
      "niyin is a palindrome.\n",
      "niyin is a palindrome.\n",
      "niyin is a palindrome.\n",
      "niyin is a palindrome.\n"
     ]
    }
   ],
   "source": [
    "#palindrom\n",
    "word = input(\"Enter a word: \")\n",
    "word = word.lower()\n",
    "length_word = int(len(word))\n",
    "for letter in range(len(word)):\n",
    "    if word[-length_word] == word[-1]:\n",
    "        print(word, \"is a palindrome.\")     \n",
    "    else:\n",
    "        print(word, \"is not a palindrome.\")"
   ]
  },
  {
   "cell_type": "code",
   "execution_count": 42,
   "id": "73313966",
   "metadata": {},
   "outputs": [
    {
     "name": "stdout",
     "output_type": "stream",
     "text": [
      "5\n",
      "4\n",
      "8\n",
      "4\n",
      "45\n",
      "57\n",
      "8\n",
      "2\n",
      "85\n"
     ]
    }
   ],
   "source": [
    "l=[5,4,8,'niyatu','h',[4,45,[8,2,85,],57]]\n",
    "for i in l:\n",
    "    if type(i) == int:\n",
    "        print(i)\n",
    "for j in l[5]:\n",
    "    if type(j) == int:\n",
    "        print(j)\n",
    "for k in l[5][2]:\n",
    "    if type(k) == int:\n",
    "        print(k)\n",
    "        "
   ]
  },
  {
   "cell_type": "markdown",
   "id": "263c57dc",
   "metadata": {},
   "source": [
    "# while loop\n"
   ]
  },
  {
   "cell_type": "code",
   "execution_count": 4,
   "id": "a7932465",
   "metadata": {},
   "outputs": [
    {
     "name": "stdout",
     "output_type": "stream",
     "text": [
      "1\n",
      "1\n",
      "2\n",
      "3\n",
      "4\n",
      "5\n",
      "6\n"
     ]
    }
   ],
   "source": [
    "a = int(input())\n",
    "while a<=6 :\n",
    "    print(a)\n",
    "    a =a +1 #counter"
   ]
  },
  {
   "cell_type": "code",
   "execution_count": 1,
   "id": "d35e89a5",
   "metadata": {},
   "outputs": [
    {
     "name": "stdout",
     "output_type": "stream",
     "text": [
      "1\n",
      "2\n",
      "3\n",
      "4\n",
      "5\n",
      "6\n",
      "7\n",
      "8\n"
     ]
    }
   ],
   "source": [
    "a = 1\n",
    "while a<=10 :\n",
    "    print(a)\n",
    "    #a =a +1\n",
    "    if a ==8 :\n",
    "        break\n",
    "    a =a+1    "
   ]
  },
  {
   "cell_type": "code",
   "execution_count": 2,
   "id": "69b59f38",
   "metadata": {},
   "outputs": [
    {
     "name": "stdout",
     "output_type": "stream",
     "text": [
      "10\n",
      "9\n",
      "8\n",
      "7\n",
      "6\n",
      "5\n",
      "4\n",
      "3\n",
      "2\n",
      "1\n"
     ]
    }
   ],
   "source": [
    "a=10\n",
    "while a>0:\n",
    "    print(a)\n",
    "    a =a-1"
   ]
  },
  {
   "cell_type": "code",
   "execution_count": 3,
   "id": "68ce079b",
   "metadata": {},
   "outputs": [
    {
     "name": "stdout",
     "output_type": "stream",
     "text": [
      "Enter the number (-1 to quit):5\n",
      "Enter a number (-1 to quit blahblah):0\n"
     ]
    }
   ],
   "source": [
    "a = int(input(\"Enter the number (-1 to quit):\"))\n",
    "while a > 0:\n",
    "    a = int(input(\"Enter a number (-1 to quit blahblah):\"))"
   ]
  },
  {
   "cell_type": "code",
   "execution_count": 4,
   "id": "170f579d",
   "metadata": {
    "scrolled": false
   },
   "outputs": [
    {
     "name": "stdout",
     "output_type": "stream",
     "text": [
      "Enter any string (Its correct):sjsuhf\n"
     ]
    }
   ],
   "source": [
    "a = input(\"Enter any string (Its correct):\")\n",
    "while a == str():\n",
    "    a = input(\"Enter any string(Its not correct):\")"
   ]
  },
  {
   "cell_type": "code",
   "execution_count": 6,
   "id": "0b50a25e",
   "metadata": {},
   "outputs": [
    {
     "name": "stdout",
     "output_type": "stream",
     "text": [
      "Enter the value of n:10\n",
      "Sum of 10 Natural numbers is: 55\n"
     ]
    }
   ],
   "source": [
    "#sum of all natural num\n",
    "num = int(input(\"Enter the value of n:\"))\n",
    "sum =0\n",
    "hold = num\n",
    "if num<=0:\n",
    "    print(\"Enter whole positive number!\")\n",
    "else:\n",
    "    while num > 0:\n",
    "        sum = sum +num\n",
    "        num = num -1;\n",
    "    print(\"Sum of\",hold,\"Natural numbers is:\",sum)    "
   ]
  },
  {
   "cell_type": "code",
   "execution_count": 3,
   "id": "fd638050",
   "metadata": {},
   "outputs": [
    {
     "name": "stdout",
     "output_type": "stream",
     "text": [
      "Inside loop\n",
      "Inside loop\n",
      "Inside loop\n",
      "Inside else\n"
     ]
    }
   ],
   "source": [
    "couter = 0\n",
    "\n",
    "while couter < 3:\n",
    "    print(\"Inside loop\")\n",
    "    couter = couter + 1\n",
    "else:\n",
    "    print(\"Inside else\")"
   ]
  },
  {
   "cell_type": "code",
   "execution_count": 8,
   "id": "9a97d90d",
   "metadata": {},
   "outputs": [
    {
     "name": "stdout",
     "output_type": "stream",
     "text": [
      "     \n",
      "    * \n",
      "   * * \n",
      "  * * * \n",
      " * * * * \n",
      "* * * * * \n"
     ]
    }
   ],
   "source": [
    "n=5\n",
    "i=0\n",
    "while(i<=n):\n",
    "    print(\" \" * (n-i)+\"* \"*i)\n",
    "    i=i+1"
   ]
  },
  {
   "cell_type": "markdown",
   "id": "81985708",
   "metadata": {},
   "source": [
    "# Functions \n"
   ]
  },
  {
   "cell_type": "code",
   "execution_count": 21,
   "id": "e002a002",
   "metadata": {},
   "outputs": [],
   "source": [
    "def test():\n",
    "    print(\"Hello World\")"
   ]
  },
  {
   "cell_type": "code",
   "execution_count": 22,
   "id": "93ee31d1",
   "metadata": {},
   "outputs": [
    {
     "name": "stdout",
     "output_type": "stream",
     "text": [
      "Hello World\n"
     ]
    }
   ],
   "source": [
    "test()"
   ]
  },
  {
   "cell_type": "code",
   "execution_count": 9,
   "id": "45b2ef3a",
   "metadata": {},
   "outputs": [
    {
     "name": "stdout",
     "output_type": "stream",
     "text": [
      "You have BIKE:True\n",
      "You have CAR:True\n",
      "You can travel 100 KMs:True\n",
      "\n",
      "You have BIKE:True\n",
      "You have CAR:False\n",
      "You can travel 100 KMs:True\n",
      "\n",
      "You have BIKE:False\n",
      "You have CAR:True\n",
      "You can travel 100 KMs:True\n",
      "\n",
      "You have BIKE:False\n",
      "You have CAR:False\n",
      "You can travel 100 KMs:False\n",
      "\n"
     ]
    }
   ],
   "source": [
    "# bolck One\n",
    "BIKE = True\n",
    "CAR = True\n",
    "\n",
    "TRAVEL_100_KM = BIKE or CAR\n",
    "\n",
    "print(f\"You have BIKE:{BIKE}\")\n",
    "print(f\"You have CAR:{CAR}\")\n",
    "print(f\"You can travel 100 KMs:{TRAVEL_100_KM}\\n\")\n",
    "\n",
    "# Block Two\n",
    "BIKE = True\n",
    "CAR = False\n",
    "\n",
    "TRAVEL_100_KM = BIKE or CAR\n",
    "\n",
    "print(f\"You have BIKE:{BIKE}\")\n",
    "print(f\"You have CAR:{CAR}\")\n",
    "print(f\"You can travel 100 KMs:{TRAVEL_100_KM}\\n\")\n",
    "\n",
    "#Block Three\n",
    "BIKE = False\n",
    "CAR = True\n",
    "\n",
    "TRAVEL_100_KM = BIKE or CAR\n",
    "\n",
    "print(f\"You have BIKE:{BIKE}\")\n",
    "print(f\"You have CAR:{CAR}\")\n",
    "print(f\"You can travel 100 KMs:{TRAVEL_100_KM}\\n\")\n",
    "\n",
    "#Block Four\n",
    "BIKE = False\n",
    "CAR = False\n",
    "\n",
    "TRAVEL_100_KM = BIKE or CAR\n",
    "\n",
    "print(f\"You have BIKE:{BIKE}\")\n",
    "print(f\"You have CAR:{CAR}\")\n",
    "print(f\"You can travel 100 KMs:{TRAVEL_100_KM}\\n\")"
   ]
  },
  {
   "cell_type": "code",
   "execution_count": 17,
   "id": "c5b00f98",
   "metadata": {},
   "outputs": [
    {
     "name": "stdout",
     "output_type": "stream",
     "text": [
      "You have BIKE:False\n",
      "You have CAR:True\n",
      "You can travel 100 KMs:True\n",
      "\n",
      "You have BIKE:False\n",
      "You have CAR:True\n",
      "You can travel 100 KMs:True\n",
      "\n",
      "You have BIKE:True\n",
      "You have CAR:False\n",
      "You can travel 100 KMs:True\n",
      "\n",
      "You have BIKE:True\n",
      "You have CAR:True\n",
      "You can travel 100 KMs:True\n",
      "\n"
     ]
    }
   ],
   "source": [
    "def travel_or_not(BIKE,CAR):\n",
    "    TRAVEL_100_KM = BIKE or CAR\n",
    "    \n",
    "    print(f\"You have BIKE:{BIKE}\")\n",
    "    print(f\"You have CAR:{CAR}\")\n",
    "    print(f\"You can travel 100 KMs:{TRAVEL_100_KM}\\n\")\n",
    "    \n",
    "travel_or_not(False,True)\n",
    "\n",
    "travel_or_not(False, True)\n",
    "\n",
    "travel_or_not(True,False)\n",
    "\n",
    "travel_or_not(True,True)"
   ]
  },
  {
   "cell_type": "code",
   "execution_count": 20,
   "id": "3ca14b9e",
   "metadata": {
    "scrolled": true
   },
   "outputs": [
    {
     "name": "stdout",
     "output_type": "stream",
     "text": [
      "You have BIKE:False\n",
      "You have CAR:False\n",
      "You can travel 100 KMs:False\n",
      "\n",
      "You have BIKE:False\n",
      "You have CAR:True\n",
      "You can travel 100 KMs:True\n",
      "\n",
      "You have BIKE:True\n",
      "You have CAR:False\n",
      "You can travel 100 KMs:True\n",
      "\n",
      "You have BIKE:True\n",
      "You have CAR:True\n",
      "You can travel 100 KMs:True\n",
      "\n"
     ]
    }
   ],
   "source": [
    "#using for loop\n",
    "def travel_or_not(BIKE,CAR):\n",
    "    TRAVEL_100_KM = BIKE or CAR\n",
    "    \n",
    "    print(f\"You have BIKE:{BIKE}\")\n",
    "    print(f\"You have CAR:{CAR}\")\n",
    "    print(f\"You can travel 100 KMs:{TRAVEL_100_KM}\\n\")\n",
    "    \n",
    "BIKE = [False, False, True, True]    \n",
    "CAR = [False, True, False, True]\n",
    "\n",
    "for bike, car in zip(BIKE, CAR):\n",
    "    travel_or_not(bike,car)"
   ]
  },
  {
   "cell_type": "code",
   "execution_count": 1,
   "id": "e3a4285a",
   "metadata": {},
   "outputs": [
    {
     "name": "stdout",
     "output_type": "stream",
     "text": [
      "You have BIKE:False\n",
      "You have CAR:False\n",
      "You can travel 100 KMs:False\n",
      "\n",
      "You have BIKE:False\n",
      "You have CAR:True\n",
      "You can travel 100 KMs:False\n",
      "\n",
      "You have BIKE:True\n",
      "You have CAR:False\n",
      "You can travel 100 KMs:False\n",
      "\n",
      "You have BIKE:True\n",
      "You have CAR:True\n",
      "You can travel 100 KMs:True\n",
      "\n"
     ]
    }
   ],
   "source": [
    "def travel_or_not(BIKE,CAR):\n",
    "    TRAVEL_100_KM = BIKE and CAR\n",
    "    \n",
    "    print(f\"You have BIKE:{BIKE}\")\n",
    "    print(f\"You have CAR:{CAR}\")\n",
    "    print(f\"You can travel 100 KMs:{TRAVEL_100_KM}\\n\")\n",
    "    \n",
    "BIKE = [False, False, True, True]    \n",
    "CAR = [False, True, False, True]\n",
    "\n",
    "for bike, car in zip(BIKE, CAR):\n",
    "    travel_or_not(bike,car)"
   ]
  },
  {
   "cell_type": "code",
   "execution_count": 29,
   "id": "fb6791e1",
   "metadata": {},
   "outputs": [
    {
     "data": {
      "text/plain": [
       "'hello world'"
      ]
     },
     "execution_count": 29,
     "metadata": {},
     "output_type": "execute_result"
    }
   ],
   "source": [
    "def test():\n",
    "    return \"hello world\"\n",
    "test()"
   ]
  },
  {
   "cell_type": "code",
   "execution_count": 30,
   "id": "3c2d5929",
   "metadata": {},
   "outputs": [
    {
     "data": {
      "text/plain": [
       "3"
      ]
     },
     "execution_count": 30,
     "metadata": {},
     "output_type": "execute_result"
    }
   ],
   "source": [
    "def test1(a,b):\n",
    "    c = a%b\n",
    "    return c\n",
    "test1(3,4)"
   ]
  },
  {
   "cell_type": "code",
   "execution_count": 23,
   "id": "f5323db6",
   "metadata": {},
   "outputs": [
    {
     "data": {
      "text/plain": [
       "(7, -1, 12, 0.75)"
      ]
     },
     "execution_count": 23,
     "metadata": {},
     "output_type": "execute_result"
    }
   ],
   "source": [
    "def test1(a,b):\n",
    "    \"\"\"this is the fuction for four arithmatic oparations\"\"\"\n",
    "    return a+b,a-b,a*b,a/b\n",
    "test1(3,4)"
   ]
  },
  {
   "cell_type": "markdown",
   "id": "d38a3dc4",
   "metadata": {},
   "source": [
    "# Default argument\n"
   ]
  },
  {
   "cell_type": "code",
   "execution_count": 8,
   "id": "79fe0194",
   "metadata": {},
   "outputs": [
    {
     "ename": "SyntaxError",
     "evalue": "non-default argument follows default argument (1921699660.py, line 1)",
     "output_type": "error",
     "traceback": [
      "\u001b[1;36m  Cell \u001b[1;32mIn[8], line 1\u001b[1;36m\u001b[0m\n\u001b[1;33m    def test(a=10,b):\u001b[0m\n\u001b[1;37m                  ^\u001b[0m\n\u001b[1;31mSyntaxError\u001b[0m\u001b[1;31m:\u001b[0m non-default argument follows default argument\n"
     ]
    }
   ],
   "source": [
    "def test(a=10,b):\n",
    "    return a+b\n",
    "test(30)"
   ]
  },
  {
   "cell_type": "code",
   "execution_count": 11,
   "id": "5953845c",
   "metadata": {},
   "outputs": [
    {
     "data": {
      "text/plain": [
       "(30, 10)"
      ]
     },
     "execution_count": 11,
     "metadata": {},
     "output_type": "execute_result"
    }
   ],
   "source": [
    "def test(a,b=10):\n",
    "    return a,b\n",
    "test(30)"
   ]
  },
  {
   "cell_type": "code",
   "execution_count": 6,
   "id": "a990f913",
   "metadata": {},
   "outputs": [
    {
     "name": "stdout",
     "output_type": "stream",
     "text": [
      "You have BIKE:True\n",
      "You have CAR:False\n",
      "You can travel 100 KMs:True\n",
      "\n"
     ]
    }
   ],
   "source": [
    "def travel_or_not(BIKE=True,CAR=False):\n",
    "    TRAVEL_100_KM = BIKE or CAR\n",
    "    \n",
    "    print(f\"You have BIKE:{BIKE}\")\n",
    "    print(f\"You have CAR:{CAR}\")\n",
    "    print(f\"You can travel 100 KMs:{TRAVEL_100_KM}\\n\")\n",
    "    \n",
    "travel_or_not()\n",
    "\n",
    "    "
   ]
  },
  {
   "cell_type": "code",
   "execution_count": 19,
   "id": "77c024dd",
   "metadata": {},
   "outputs": [
    {
     "name": "stdout",
     "output_type": "stream",
     "text": [
      "Enter the height in m: 5\n",
      "Enter the weight in kg: 5\n",
      "the person is weak.\n"
     ]
    },
    {
     "data": {
      "text/plain": [
       "0.2"
      ]
     },
     "execution_count": 19,
     "metadata": {},
     "output_type": "execute_result"
    }
   ],
   "source": [
    "def bmi(w,h):\n",
    "    bmi = (w/(h*h))   \n",
    "    \n",
    "    \"\"\"This funacton for bmi calculation\"\"\"\n",
    "   \n",
    "    if bmi < 18:  \n",
    "        print(\"the person is weak.\")  \n",
    "    elif bmi < 24:  \n",
    "        print(\"the person is healthy.\")  \n",
    "    elif bmi < 30:  \n",
    "        print(\"the person is weight.\")  \n",
    "    else:\n",
    "        print(\"the person is obse\")  \n",
    "    return bmi\n",
    "h = float(input(\"Enter the height in m: \"))  \n",
    "w = float(input(\"Enter the weight in kg: \"))  \n",
    "\n",
    "    \n",
    "bmi(w,h)    "
   ]
  },
  {
   "cell_type": "markdown",
   "id": "0d1a5abe",
   "metadata": {},
   "source": [
    "\n",
    "# Argument (*)"
   ]
  },
  {
   "cell_type": "code",
   "execution_count": 21,
   "id": "c3d75dba",
   "metadata": {},
   "outputs": [
    {
     "ename": "TypeError",
     "evalue": "test() missing 1 required keyword-only argument: 'b'",
     "output_type": "error",
     "traceback": [
      "\u001b[1;31m---------------------------------------------------------------------------\u001b[0m",
      "\u001b[1;31mTypeError\u001b[0m                                 Traceback (most recent call last)",
      "Cell \u001b[1;32mIn[21], line 3\u001b[0m\n\u001b[0;32m      1\u001b[0m \u001b[38;5;28;01mdef\u001b[39;00m \u001b[38;5;21mtest\u001b[39m(\u001b[38;5;241m*\u001b[39ma,b):\n\u001b[0;32m      2\u001b[0m     \u001b[38;5;28;01mreturn\u001b[39;00m a,b\n\u001b[1;32m----> 3\u001b[0m \u001b[43mtest\u001b[49m\u001b[43m(\u001b[49m\u001b[38;5;241;43m5\u001b[39;49m\u001b[43m,\u001b[49m\u001b[38;5;241;43m65\u001b[39;49m\u001b[43m,\u001b[49m\u001b[38;5;241;43m9\u001b[39;49m\u001b[43m,\u001b[49m\u001b[38;5;241;43m9\u001b[39;49m\u001b[43m,\u001b[49m\u001b[38;5;241;43m5\u001b[39;49m\u001b[43m)\u001b[49m\n",
      "\u001b[1;31mTypeError\u001b[0m: test() missing 1 required keyword-only argument: 'b'"
     ]
    }
   ],
   "source": [
    "#argument (This for understanding)\n",
    "def test(*a,b):\n",
    "    return a,b\n",
    "test(5,65,9,9,5)"
   ]
  },
  {
   "cell_type": "code",
   "execution_count": 22,
   "id": "5920b17d",
   "metadata": {},
   "outputs": [
    {
     "ename": "SyntaxError",
     "evalue": "invalid syntax (1648318818.py, line 1)",
     "output_type": "error",
     "traceback": [
      "\u001b[1;36m  Cell \u001b[1;32mIn[22], line 1\u001b[1;36m\u001b[0m\n\u001b[1;33m    def test(*a,*b):\u001b[0m\n\u001b[1;37m                ^\u001b[0m\n\u001b[1;31mSyntaxError\u001b[0m\u001b[1;31m:\u001b[0m invalid syntax\n"
     ]
    }
   ],
   "source": [
    "#For understanding\n",
    "def test(*a,*b):\n",
    "    return a,b\n",
    "test(5,65,9,9,5)"
   ]
  },
  {
   "cell_type": "code",
   "execution_count": 23,
   "id": "0cf3b71d",
   "metadata": {},
   "outputs": [
    {
     "data": {
      "text/plain": [
       "(5, (65, 9, 9, 5))"
      ]
     },
     "execution_count": 23,
     "metadata": {},
     "output_type": "execute_result"
    }
   ],
   "source": [
    "def test(a,*b):\n",
    "    return a,b\n",
    "test(5,65,9,9,5)"
   ]
  },
  {
   "cell_type": "code",
   "execution_count": 24,
   "id": "de64cd88",
   "metadata": {},
   "outputs": [
    {
     "data": {
      "text/plain": [
       "([5, 65, 9, 9, 5], (85, 5, 578, 5))"
      ]
     },
     "execution_count": 24,
     "metadata": {},
     "output_type": "execute_result"
    }
   ],
   "source": [
    "def test(a,*b):\n",
    "    return a,b\n",
    "test([5,65,9,9,5],85,5,578,5)"
   ]
  },
  {
   "cell_type": "code",
   "execution_count": 26,
   "id": "a65f90cc",
   "metadata": {},
   "outputs": [
    {
     "data": {
      "text/plain": [
       "{'x': 'niyati', 'y': 'jalpa'}"
      ]
     },
     "execution_count": 26,
     "metadata": {},
     "output_type": "execute_result"
    }
   ],
   "source": [
    "#key word argument = give result in dictiory\n",
    "def test(**a):\n",
    "    return a\n",
    "test(x='niyati',y=\"jalpa\")\n"
   ]
  },
  {
   "cell_type": "code",
   "execution_count": 1,
   "id": "f6c50f8a",
   "metadata": {},
   "outputs": [
    {
     "data": {
      "text/plain": [
       "(5, (54, 5), {'x': 'niyati', 'y': 'vyas'})"
      ]
     },
     "execution_count": 1,
     "metadata": {},
     "output_type": "execute_result"
    }
   ],
   "source": [
    "def test(a=10,*b,**c):\n",
    "    return a,b,c\n",
    "\n",
    "test(5,54,5,x='niyati',y='vyas')\n"
   ]
  },
  {
   "cell_type": "code",
   "execution_count": 45,
   "id": "4347c026",
   "metadata": {},
   "outputs": [
    {
     "name": "stdout",
     "output_type": "stream",
     "text": [
      "Score in Digital_Image_Processsing = 54\n",
      "Score in Microprocessing = 57\n",
      "Score in Signal_and_system = 25\n"
     ]
    }
   ],
   "source": [
    "def marks_in_subjects_of_semester(**kwargs):\n",
    "    for subject,marks in kwargs.items():\n",
    "        print(f\"Score in {subject} = {marks}\")\n",
    "marks_in_subjects_of_semester(Digital_Image_Processsing =54, Microprocessing= 57, Signal_and_system=25)        \n",
    "        "
   ]
  },
  {
   "cell_type": "code",
   "execution_count": 3,
   "id": "37f3d5ba",
   "metadata": {},
   "outputs": [
    {
     "ename": "SyntaxError",
     "evalue": "invalid syntax (1867950716.py, line 1)",
     "output_type": "error",
     "traceback": [
      "\u001b[1;36m  Cell \u001b[1;32mIn[3], line 1\u001b[1;36m\u001b[0m\n\u001b[1;33m    def test(a=10,*b,**c,d):\u001b[0m\n\u001b[1;37m                         ^\u001b[0m\n\u001b[1;31mSyntaxError\u001b[0m\u001b[1;31m:\u001b[0m invalid syntax\n"
     ]
    }
   ],
   "source": [
    "def test(a=10,*b,**c,d):\n",
    "    return a,b,c,d\n",
    "\n",
    "test(5,54,5,x='niyati',y='jhfsb',5454)"
   ]
  },
  {
   "cell_type": "markdown",
   "id": "09cc30e6",
   "metadata": {},
   "source": [
    "# Lambda Function"
   ]
  },
  {
   "cell_type": "code",
   "execution_count": 1,
   "id": "e814521c",
   "metadata": {},
   "outputs": [],
   "source": [
    "x = lambda a,b :a+b"
   ]
  },
  {
   "cell_type": "code",
   "execution_count": 2,
   "id": "a1939f18",
   "metadata": {},
   "outputs": [
    {
     "data": {
      "text/plain": [
       "9"
      ]
     },
     "execution_count": 2,
     "metadata": {},
     "output_type": "execute_result"
    }
   ],
   "source": [
    "x(4,5)"
   ]
  },
  {
   "cell_type": "code",
   "execution_count": 3,
   "id": "760dd607",
   "metadata": {},
   "outputs": [],
   "source": [
    "def test(a):\n",
    "    return a%2 ==0"
   ]
  },
  {
   "cell_type": "code",
   "execution_count": 4,
   "id": "f3613bcd",
   "metadata": {},
   "outputs": [
    {
     "data": {
      "text/plain": [
       "False"
      ]
     },
     "execution_count": 4,
     "metadata": {},
     "output_type": "execute_result"
    }
   ],
   "source": [
    "test(3)"
   ]
  },
  {
   "cell_type": "code",
   "execution_count": 5,
   "id": "445b8e88",
   "metadata": {},
   "outputs": [],
   "source": [
    "x = lambda a:a%2 ==0"
   ]
  },
  {
   "cell_type": "code",
   "execution_count": 6,
   "id": "f3c570b7",
   "metadata": {},
   "outputs": [
    {
     "data": {
      "text/plain": [
       "True"
      ]
     },
     "execution_count": 6,
     "metadata": {},
     "output_type": "execute_result"
    }
   ],
   "source": [
    "x(4)"
   ]
  },
  {
   "cell_type": "code",
   "execution_count": 9,
   "id": "dc9f14e1",
   "metadata": {},
   "outputs": [],
   "source": [
    "x = lambda a,b :(a+b,a-b,a*b,a/b)"
   ]
  },
  {
   "cell_type": "code",
   "execution_count": 10,
   "id": "902585ed",
   "metadata": {},
   "outputs": [
    {
     "data": {
      "text/plain": [
       "(11, -1, 30, 0.8333333333333334)"
      ]
     },
     "execution_count": 10,
     "metadata": {},
     "output_type": "execute_result"
    }
   ],
   "source": [
    "x(5,6)"
   ]
  },
  {
   "cell_type": "code",
   "execution_count": 11,
   "id": "78d07b6b",
   "metadata": {},
   "outputs": [
    {
     "name": "stdout",
     "output_type": "stream",
     "text": [
      "\n",
      "results:-\n",
      "You can travel 100 KMs: True\n",
      "\n"
     ]
    }
   ],
   "source": [
    "BIKE=True\n",
    "CAR=False\n",
    "\n",
    "result = lambda BIKE, CAR: f\"You can travel 100 KMs: {BIKE or CAR}\\n\"\n",
    "print(f\"\\nresults:-\\n{result(BIKE, CAR)}\")"
   ]
  },
  {
   "cell_type": "code",
   "execution_count": 13,
   "id": "9cb55632",
   "metadata": {},
   "outputs": [
    {
     "data": {
      "text/plain": [
       "25"
      ]
     },
     "execution_count": 13,
     "metadata": {},
     "output_type": "execute_result"
    }
   ],
   "source": [
    "result = lambda number, power: number**power\n",
    "result(5,2)"
   ]
  },
  {
   "cell_type": "code",
   "execution_count": 35,
   "id": "6c37f921",
   "metadata": {},
   "outputs": [
    {
     "data": {
      "text/plain": [
       "'v'"
      ]
     },
     "execution_count": 35,
     "metadata": {},
     "output_type": "execute_result"
    }
   ],
   "source": [
    "l=['vyas','niyati','jalpa']\n",
    "result = lambda l:l[0][0]\n",
    "result(l)"
   ]
  },
  {
   "cell_type": "code",
   "execution_count": 24,
   "id": "f2ae135f",
   "metadata": {},
   "outputs": [
    {
     "name": "stdout",
     "output_type": "stream",
     "text": [
      "n\n"
     ]
    }
   ],
   "source": [
    "l=['niyatu']\n",
    "for i in l:\n",
    "        print(i[0])"
   ]
  },
  {
   "cell_type": "code",
   "execution_count": 33,
   "id": "7da65b65",
   "metadata": {},
   "outputs": [
    {
     "data": {
      "text/plain": [
       "'n'"
      ]
     },
     "execution_count": 33,
     "metadata": {},
     "output_type": "execute_result"
    }
   ],
   "source": [
    "st=lambda str:str[0]\n",
    "st(\"niyati\")"
   ]
  },
  {
   "cell_type": "markdown",
   "id": "e9e0a51e",
   "metadata": {},
   "source": [
    "# Map Function\n",
    "#map(funct_name,iterable)"
   ]
  },
  {
   "cell_type": "code",
   "execution_count": 13,
   "id": "58522567",
   "metadata": {},
   "outputs": [
    {
     "data": {
      "text/plain": [
       "[False, False, True, True]"
      ]
     },
     "execution_count": 13,
     "metadata": {},
     "output_type": "execute_result"
    }
   ],
   "source": [
    "def test(a):\n",
    "    return a%2 ==0\n",
    "list(map(test,[5,3,8,4]))"
   ]
  },
  {
   "cell_type": "code",
   "execution_count": 44,
   "id": "126c627f",
   "metadata": {},
   "outputs": [
    {
     "data": {
      "text/plain": [
       "['niyati', 'vyas']"
      ]
     },
     "execution_count": 44,
     "metadata": {},
     "output_type": "execute_result"
    }
   ],
   "source": [
    "list(map(str,['niyati','vyas']))"
   ]
  },
  {
   "cell_type": "code",
   "execution_count": 45,
   "id": "4a538d84",
   "metadata": {},
   "outputs": [
    {
     "data": {
      "text/plain": [
       "['v', 'n', 'j']"
      ]
     },
     "execution_count": 45,
     "metadata": {},
     "output_type": "execute_result"
    }
   ],
   "source": [
    "l=['vyas','niyati','jalpa']\n",
    "result = lambda l:l[0][0]\n",
    "result(l)\n",
    "list(map(result,l))"
   ]
  },
  {
   "cell_type": "code",
   "execution_count": 46,
   "id": "8cf6aa1e",
   "metadata": {},
   "outputs": [],
   "source": [
    "def test(a):\n",
    "    return a[0][0]"
   ]
  },
  {
   "cell_type": "code",
   "execution_count": 47,
   "id": "912d721e",
   "metadata": {},
   "outputs": [
    {
     "data": {
      "text/plain": [
       "['n', 'v', 'j']"
      ]
     },
     "execution_count": 47,
     "metadata": {},
     "output_type": "execute_result"
    }
   ],
   "source": [
    "list(map(test,['niyati','vyas','jalpa']))"
   ]
  },
  {
   "cell_type": "code",
   "execution_count": 48,
   "id": "1a936c30",
   "metadata": {},
   "outputs": [
    {
     "data": {
      "text/plain": [
       "[25, 9, 64, 16]"
      ]
     },
     "execution_count": 48,
     "metadata": {},
     "output_type": "execute_result"
    }
   ],
   "source": [
    "def test(a):\n",
    "    return a*a\n",
    "list(map(test,[5,3,8,4]))"
   ]
  },
  {
   "cell_type": "code",
   "execution_count": 51,
   "id": "5fbccd2f",
   "metadata": {},
   "outputs": [
    {
     "data": {
      "text/plain": [
       "['Even', 'Even', 'j']"
      ]
     },
     "execution_count": 51,
     "metadata": {},
     "output_type": "execute_result"
    }
   ],
   "source": [
    "def inspect(a):\n",
    "    if len(a)%2==0:\n",
    "        return \"Even\"\n",
    "    else:\n",
    "        return a[0]\n",
    "name= ['niyati','vyas','jalpa']    \n",
    "list(map(inspect,name))    \n",
    "    "
   ]
  },
  {
   "cell_type": "code",
   "execution_count": 27,
   "id": "209ff571",
   "metadata": {},
   "outputs": [
    {
     "name": "stdout",
     "output_type": "stream",
     "text": [
      "['niyati', 6]\n"
     ]
    }
   ],
   "source": [
    "def fun():\n",
    "    str = \"niyati\"\n",
    "    x = 6\n",
    "    return [str, x]\n",
    " \n",
    "list = fun()\n",
    "print(list)"
   ]
  },
  {
   "cell_type": "code",
   "execution_count": 22,
   "id": "8e7b0121",
   "metadata": {},
   "outputs": [
    {
     "name": "stdout",
     "output_type": "stream",
     "text": [
      "The word with the longest length is: Jayminee  and length is  8\n"
     ]
    }
   ],
   "source": [
    "#Write a function called find_largest() which accepts multiple strings as argument and returns the length of the largest string\n",
    "def find_largest(words):\n",
    "    result=max(words,key=len)\n",
    "    print(\"The word with the longest length is:\", result,\n",
    "          \" and length is \", len(result))\n",
    " \n",
    "\n",
    "a = ['Niyati','Jaani','Hardi','Jayminee']\n",
    "find_largest(a)"
   ]
  },
  {
   "cell_type": "code",
   "execution_count": 28,
   "id": "610e5792",
   "metadata": {},
   "outputs": [
    {
     "name": "stdout",
     "output_type": "stream",
     "text": [
      "Enter Radius: 2\n",
      "Area:  12.588\n"
     ]
    }
   ],
   "source": [
    "#area of circle\n",
    "def cal_area(r):\n",
    "    pi=3.147\n",
    "    area= pi*r*r\n",
    "    return area\n",
    "\n",
    "radius=float(input(\"Enter Radius: \"))\n",
    "print(\"Area: \",cal_area(radius))\n"
   ]
  },
  {
   "cell_type": "markdown",
   "id": "c39c8d0d",
   "metadata": {},
   "source": [
    "# Filter Function\n",
    "(fun.name,iterable)"
   ]
  },
  {
   "cell_type": "code",
   "execution_count": 2,
   "id": "ea201f78",
   "metadata": {
    "scrolled": true
   },
   "outputs": [
    {
     "data": {
      "text/plain": [
       "[2, 4, 6, 8, 10]"
      ]
     },
     "execution_count": 2,
     "metadata": {},
     "output_type": "execute_result"
    }
   ],
   "source": [
    "def test(x):\n",
    "    return x%2==0\n",
    "list(filter(test,[1,2,3,4,5,6,7,8,9,10]))"
   ]
  },
  {
   "cell_type": "code",
   "execution_count": 3,
   "id": "81da4a80",
   "metadata": {},
   "outputs": [
    {
     "data": {
      "text/plain": [
       "['EVEN', 'EVEN', 'j']"
      ]
     },
     "execution_count": 3,
     "metadata": {},
     "output_type": "execute_result"
    }
   ],
   "source": [
    "list(map(lambda x:\"EVEN\" if len(x)%2==0 else x[0],['niyati','vyas','jalpa']))"
   ]
  },
  {
   "cell_type": "code",
   "execution_count": 4,
   "id": "d3dc9831",
   "metadata": {},
   "outputs": [
    {
     "name": "stdout",
     "output_type": "stream",
     "text": [
      "Enter name:niyati\n",
      "vowels are ['i', 'a', 'i']\n"
     ]
    }
   ],
   "source": [
    "x=input(\"Enter name:\")\n",
    "vowel=list(filter(lambda z:z in 'aeiou',x))\n",
    "if len(vowel)==0:\n",
    "    print(\"No vowel in name\")\n",
    "else:\n",
    "    print(\"vowels are\",vowel)"
   ]
  },
  {
   "cell_type": "code",
   "execution_count": 5,
   "id": "a8ac6045",
   "metadata": {},
   "outputs": [
    {
     "data": {
      "text/plain": [
       "[5, 6, 7]"
      ]
     },
     "execution_count": 5,
     "metadata": {},
     "output_type": "execute_result"
    }
   ],
   "source": [
    "d= lambda *a,b:[i+b for i in a]\n",
    "d(1,2,3,b=4)"
   ]
  },
  {
   "cell_type": "code",
   "execution_count": 12,
   "id": "fd5c5ce8",
   "metadata": {},
   "outputs": [
    {
     "name": "stdout",
     "output_type": "stream",
     "text": [
      "count of even numbers are: 4\n",
      "count of odd numbers are: 5\n"
     ]
    }
   ],
   "source": [
    "def test(l):\n",
    "    even=len(list(filter(lambda y:y%2==0,l)))\n",
    "    print(\"count of even numbers are:\",even)\n",
    "    print(\"count of odd numbers are:\",len(l)-even)\n",
    "test([1,2,3,4,5,6,7,8,9])    "
   ]
  },
  {
   "cell_type": "markdown",
   "id": "4d04e29a",
   "metadata": {},
   "source": [
    "# Local and Global\n",
    "value define inside the function its called local and define outside the function its called globle"
   ]
  },
  {
   "cell_type": "code",
   "execution_count": 14,
   "id": "136ced05",
   "metadata": {},
   "outputs": [
    {
     "data": {
      "text/plain": [
       "5"
      ]
     },
     "execution_count": 14,
     "metadata": {},
     "output_type": "execute_result"
    }
   ],
   "source": [
    "##local\n",
    "def test1():\n",
    "    a=5\n",
    "    return a\n",
    "test1()\n",
    "    "
   ]
  },
  {
   "cell_type": "code",
   "execution_count": 15,
   "id": "39752c3b",
   "metadata": {},
   "outputs": [
    {
     "data": {
      "text/plain": [
       "5"
      ]
     },
     "execution_count": 15,
     "metadata": {},
     "output_type": "execute_result"
    }
   ],
   "source": [
    "##globle\n",
    "def test2(a):\n",
    "    return a\n",
    "a=5\n",
    "test2(a)"
   ]
  },
  {
   "cell_type": "code",
   "execution_count": 2,
   "id": "a78e9178",
   "metadata": {},
   "outputs": [
    {
     "name": "stdout",
     "output_type": "stream",
     "text": [
      "I love\n",
      "1971313353520\n",
      "I love python\n",
      "1971312764080\n"
     ]
    }
   ],
   "source": [
    "a=\"I love python\"\n",
    "def test():\n",
    "    a=\"I love\"\n",
    "    print(a)\n",
    "    print(id(a))\n",
    "test()\n",
    "print(a)\n",
    "print(id(a))\n",
    "    "
   ]
  },
  {
   "cell_type": "code",
   "execution_count": 3,
   "id": "72d4a8e9",
   "metadata": {},
   "outputs": [],
   "source": [
    "##id referns to the memory location."
   ]
  },
  {
   "cell_type": "code",
   "execution_count": 6,
   "id": "d28ea142",
   "metadata": {},
   "outputs": [
    {
     "name": "stdout",
     "output_type": "stream",
     "text": [
      "string\n"
     ]
    }
   ],
   "source": [
    "def test1(x):\n",
    "    if type(x)==int:\n",
    "        print(x)\n",
    "    else:\n",
    "        print(\"string\")\n",
    "\n",
    "test1([1,2,3])        "
   ]
  },
  {
   "cell_type": "markdown",
   "id": "0e93a4fa",
   "metadata": {},
   "source": [
    "# Try and Exception \n",
    "It gives error and also modify the exception function"
   ]
  },
  {
   "cell_type": "code",
   "execution_count": 1,
   "id": "5645b13e",
   "metadata": {},
   "outputs": [
    {
     "name": "stdout",
     "output_type": "stream",
     "text": [
      "Error in your program\n"
     ]
    }
   ],
   "source": [
    "try:\n",
    "    a=5\n",
    "    a/0\n",
    "except:\n",
    "    print(\"Error in your program\")"
   ]
  },
  {
   "cell_type": "code",
   "execution_count": 16,
   "id": "97c182a3",
   "metadata": {},
   "outputs": [
    {
     "name": "stdout",
     "output_type": "stream",
     "text": [
      "division by zero\n"
     ]
    }
   ],
   "source": [
    "try:\n",
    "    a=5\n",
    "    a/0\n",
    "except Exception as e:\n",
    "    print(e)"
   ]
  },
  {
   "cell_type": "code",
   "execution_count": 6,
   "id": "165ebf74",
   "metadata": {},
   "outputs": [
    {
     "name": "stdout",
     "output_type": "stream",
     "text": [
      "niyati\n"
     ]
    },
    {
     "ename": "ValueError",
     "evalue": "invalid literal for int() with base 10: 'niyati'",
     "output_type": "error",
     "traceback": [
      "\u001b[1;31m---------------------------------------------------------------------------\u001b[0m",
      "\u001b[1;31mValueError\u001b[0m                                Traceback (most recent call last)",
      "Cell \u001b[1;32mIn[6], line 1\u001b[0m\n\u001b[1;32m----> 1\u001b[0m \u001b[38;5;28;43mint\u001b[39;49m\u001b[43m(\u001b[49m\u001b[38;5;28;43minput\u001b[39;49m\u001b[43m(\u001b[49m\u001b[43m)\u001b[49m\u001b[43m)\u001b[49m\n",
      "\u001b[1;31mValueError\u001b[0m: invalid literal for int() with base 10: 'niyati'"
     ]
    }
   ],
   "source": [
    "int(input())"
   ]
  },
  {
   "cell_type": "code",
   "execution_count": 14,
   "id": "c2fe1019",
   "metadata": {},
   "outputs": [
    {
     "name": "stdout",
     "output_type": "stream",
     "text": [
      "558\n"
     ]
    }
   ],
   "source": [
    "try:\n",
    "    int(input())\n",
    "except Exception as e:\n",
    "    print(e)      "
   ]
  },
  {
   "cell_type": "code",
   "execution_count": 13,
   "id": "746776c2",
   "metadata": {
    "scrolled": true
   },
   "outputs": [
    {
     "name": "stdout",
     "output_type": "stream",
     "text": [
      "hgfgh\n",
      "invalid literal for int() with base 10: 'hgfgh'\n"
     ]
    }
   ],
   "source": [
    "try:\n",
    "    int(input())\n",
    "except Exception as e:\n",
    "    print(e)  "
   ]
  },
  {
   "cell_type": "code",
   "execution_count": 12,
   "id": "6936c866",
   "metadata": {},
   "outputs": [
    {
     "name": "stdout",
     "output_type": "stream",
     "text": [
      "[Errno 2] No such file or directory: 'text11.txt'\n"
     ]
    }
   ],
   "source": [
    "try:\n",
    "    f = open(\"text11.txt\",\"r\")\n",
    "except Exception as e:\n",
    "    print(e)      "
   ]
  },
  {
   "cell_type": "code",
   "execution_count": 48,
   "id": "1f443852",
   "metadata": {},
   "outputs": [
    {
     "name": "stdout",
     "output_type": "stream",
     "text": [
      "10\n",
      "{1: 'niyati', 2: 'jalpa', 'y': 10}\n"
     ]
    }
   ],
   "source": [
    "try:\n",
    "    dict1 = {1:'niyati',2:'jalpa'}\n",
    "    dict1['y']=int(input())\n",
    "    print(dict1)\n",
    "except Exception as e:\n",
    "    print(e)"
   ]
  },
  {
   "cell_type": "code",
   "execution_count": 25,
   "id": "764f37f3",
   "metadata": {},
   "outputs": [
    {
     "name": "stdout",
     "output_type": "stream",
     "text": [
      "niyaty\n",
      "invalid literal for int() with base 10: 'niyaty'\n"
     ]
    }
   ],
   "source": [
    "try:\n",
    "    dict1 = {1:'niyati',2:'jalpa'}\n",
    "    dict1['y']=int(input())\n",
    "    print(dict1)\n",
    "except Exception as e:\n",
    "    print(e)"
   ]
  },
  {
   "cell_type": "code",
   "execution_count": 26,
   "id": "2929764a",
   "metadata": {},
   "outputs": [],
   "source": [
    "#bmi in try"
   ]
  },
  {
   "cell_type": "code",
   "execution_count": 4,
   "id": "37ec52b2",
   "metadata": {
    "scrolled": true
   },
   "outputs": [
    {
     "name": "stdout",
     "output_type": "stream",
     "text": [
      "Enter your weight in kilograms: niyti\n",
      "Enter a valid number.\n"
     ]
    }
   ],
   "source": [
    "try:\n",
    "    weight = float(input(\"Enter your weight in kilograms: \"))\n",
    "    height = float(input(\"Enter your height in meters: \"))\n",
    "    bmi = weight / (height ** 2)\n",
    "    print(\"Your BMI is:\", bmi)\n",
    "except:\n",
    "    print(\"Enter a valid number.\")"
   ]
  },
  {
   "cell_type": "code",
   "execution_count": 5,
   "id": "e6c0f60c",
   "metadata": {},
   "outputs": [
    {
     "name": "stdout",
     "output_type": "stream",
     "text": [
      "Enter your weight in kilograms: 5\n",
      "Enter your height in meters: 0\n",
      "float division by zero\n"
     ]
    }
   ],
   "source": [
    "try:\n",
    "    weight = float(input(\"Enter your weight in kilograms: \"))\n",
    "    height = float(input(\"Enter your height in meters: \"))\n",
    "    bmi = weight / (height ** 2)\n",
    "    print(\"Your BMI is:\", bmi)\n",
    "except Exception as e:\n",
    "    print(e)    \n"
   ]
  },
  {
   "cell_type": "code",
   "execution_count": 6,
   "id": "6cff8e29",
   "metadata": {},
   "outputs": [
    {
     "name": "stdout",
     "output_type": "stream",
     "text": [
      "Enter your weight in kilograms: 5\n",
      "Enter your height in meters: 0\n",
      "float division by zero\n"
     ]
    }
   ],
   "source": [
    "try:\n",
    "    def bmi (w,h):\n",
    "        BMI = w / (h*h)\n",
    "        print(BMI)\n",
    "except:\n",
    "    print('eroor in your code')\n",
    "try:    \n",
    "    w = float(input(\"Enter your weight in kilograms: \"))\n",
    "    h = float(input(\"Enter your height in meters: \"))\n",
    "    bmi(w,h)\n",
    "except Exception as e:\n",
    "    print(e) "
   ]
  },
  {
   "cell_type": "code",
   "execution_count": 2,
   "id": "428d8b26",
   "metadata": {},
   "outputs": [
    {
     "name": "stdout",
     "output_type": "stream",
     "text": [
      "Intersection of the two arrays: [4, 5]\n"
     ]
    }
   ],
   "source": [
    "array1 = [1, 2, 3, 4, 5]\n",
    "array2 = [4, 5, 6, 7, 8]\n",
    "\n",
    "intersection = list(filter(lambda l: l in array1, array2))\n",
    "\n",
    "print(\"Intersection of the two arrays:\", intersection)"
   ]
  },
  {
   "cell_type": "code",
   "execution_count": 21,
   "id": "16409613",
   "metadata": {},
   "outputs": [
    {
     "name": "stdout",
     "output_type": "stream",
     "text": [
      "['1niyati', '2vyas', '3nyt']\n"
     ]
    }
   ],
   "source": [
    "#check this one\n",
    "list_of_tuples = [(1,'niyati'), (2,'vyas'), (3,'nyt')]\n",
    "\n",
    "list_of_strings = list(map(lambda x: str(x[0]) + str(x[1]), list_of_tuples))\n",
    "\n",
    "print(list_of_strings)"
   ]
  },
  {
   "cell_type": "code",
   "execution_count": 37,
   "id": "66a27fee",
   "metadata": {
    "scrolled": true
   },
   "outputs": [
    {
     "name": "stdout",
     "output_type": "stream",
     "text": [
      "Enter the temperature: jhb\n",
      "could not convert string to float: 'jhb'\n"
     ]
    }
   ],
   "source": [
    "# convert celecius to fahrenheit\n",
    "def convert(c):\n",
    "    F = (9/5)*c + 32\n",
    "    return (F)\n",
    "\n",
    "try:\n",
    "    cel = float(input(\"Enter the temperature: \"))\n",
    "    Fah = convert(cel)\n",
    "    print (\"The temperature in Fahrenheit is \", Fah)\n",
    "except Exception as e:\n",
    "    print(e)"
   ]
  },
  {
   "cell_type": "code",
   "execution_count": 35,
   "id": "1e8e6fce",
   "metadata": {},
   "outputs": [
    {
     "name": "stdout",
     "output_type": "stream",
     "text": [
      "50\n"
     ]
    }
   ],
   "source": [
    "try:\n",
    "    def cel(c):\n",
    "        fen = (c*(9/5))+32\n",
    "        print(fen)\n",
    "    c = float(input())    \n",
    "except Exception as e:\n",
    "    print(e)"
   ]
  },
  {
   "cell_type": "code",
   "execution_count": 39,
   "id": "bb269571",
   "metadata": {},
   "outputs": [],
   "source": [
    "def interger():\n",
    "    \"\"\"Function asks for an interger unless provided otherwise\"\"\"\n",
    "    while True:\n",
    "        \n",
    "            try:\n",
    "                x = int(input())\n",
    "                break\n",
    "            except ValueError as e:\n",
    "                print(\"Enter the input again\",e)\n",
    "   "
   ]
  },
  {
   "cell_type": "code",
   "execution_count": 42,
   "id": "51168273",
   "metadata": {
    "scrolled": true
   },
   "outputs": [
    {
     "name": "stdout",
     "output_type": "stream",
     "text": [
      "ngdh\n",
      "Enter the input again invalid literal for int() with base 10: 'ngdh'\n",
      "khjgd\n",
      "Enter the input again invalid literal for int() with base 10: 'khjgd'\n",
      "10\n"
     ]
    }
   ],
   "source": [
    "interger()"
   ]
  },
  {
   "cell_type": "code",
   "execution_count": 43,
   "id": "3646ff6d",
   "metadata": {},
   "outputs": [],
   "source": [
    "#raise exception"
   ]
  },
  {
   "cell_type": "code",
   "execution_count": 44,
   "id": "45a53035",
   "metadata": {},
   "outputs": [],
   "source": [
    "def test(a):\n",
    "    if a == \"sjs\" :\n",
    "        raise ZeroDivisionError(\"you have entered a nagtive value \",a)\n",
    "    return a"
   ]
  },
  {
   "cell_type": "code",
   "execution_count": 45,
   "id": "167ebdcc",
   "metadata": {},
   "outputs": [
    {
     "data": {
      "text/plain": [
       "'sj'"
      ]
     },
     "execution_count": 45,
     "metadata": {},
     "output_type": "execute_result"
    }
   ],
   "source": [
    "test('sj')"
   ]
  },
  {
   "cell_type": "code",
   "execution_count": 46,
   "id": "62655b23",
   "metadata": {},
   "outputs": [
    {
     "ename": "ZeroDivisionError",
     "evalue": "('you have entered a nagtive value ', 'sjs')",
     "output_type": "error",
     "traceback": [
      "\u001b[1;31m---------------------------------------------------------------------------\u001b[0m",
      "\u001b[1;31mZeroDivisionError\u001b[0m                         Traceback (most recent call last)",
      "Cell \u001b[1;32mIn[46], line 1\u001b[0m\n\u001b[1;32m----> 1\u001b[0m \u001b[43mtest\u001b[49m\u001b[43m(\u001b[49m\u001b[38;5;124;43m'\u001b[39;49m\u001b[38;5;124;43msjs\u001b[39;49m\u001b[38;5;124;43m'\u001b[39;49m\u001b[43m)\u001b[49m\n",
      "Cell \u001b[1;32mIn[44], line 3\u001b[0m, in \u001b[0;36mtest\u001b[1;34m(a)\u001b[0m\n\u001b[0;32m      1\u001b[0m \u001b[38;5;28;01mdef\u001b[39;00m \u001b[38;5;21mtest\u001b[39m(a):\n\u001b[0;32m      2\u001b[0m     \u001b[38;5;28;01mif\u001b[39;00m a \u001b[38;5;241m==\u001b[39m \u001b[38;5;124m\"\u001b[39m\u001b[38;5;124msjs\u001b[39m\u001b[38;5;124m\"\u001b[39m :\n\u001b[1;32m----> 3\u001b[0m         \u001b[38;5;28;01mraise\u001b[39;00m \u001b[38;5;167;01mZeroDivisionError\u001b[39;00m(\u001b[38;5;124m\"\u001b[39m\u001b[38;5;124myou have entered a nagtive value \u001b[39m\u001b[38;5;124m\"\u001b[39m,a)\n\u001b[0;32m      4\u001b[0m     \u001b[38;5;28;01mreturn\u001b[39;00m a\n",
      "\u001b[1;31mZeroDivisionError\u001b[0m: ('you have entered a nagtive value ', 'sjs')"
     ]
    }
   ],
   "source": [
    "test('sjs')"
   ]
  },
  {
   "cell_type": "code",
   "execution_count": 49,
   "id": "6e8050fb",
   "metadata": {},
   "outputs": [
    {
     "name": "stdout",
     "output_type": "stream",
     "text": [
      "10\n",
      "{1: 'niyati', 2: 'jalpa', 'y': 10}\n"
     ]
    }
   ],
   "source": [
    "try:\n",
    "    dict1 = {1:'niyati',2:'jalpa'}\n",
    "    dict1['y']=int(input())\n",
    "    print(dict1)\n",
    "except Exception as e:\n",
    "    print(e)"
   ]
  },
  {
   "cell_type": "code",
   "execution_count": 56,
   "id": "5e387393",
   "metadata": {
    "scrolled": true
   },
   "outputs": [
    {
     "name": "stdout",
     "output_type": "stream",
     "text": [
      "hkjhh\n"
     ]
    },
    {
     "ename": "ValueError",
     "evalue": "invalid literal for int() with base 10: 'hkjhh'",
     "output_type": "error",
     "traceback": [
      "\u001b[1;31m---------------------------------------------------------------------------\u001b[0m",
      "\u001b[1;31mValueError\u001b[0m                                Traceback (most recent call last)",
      "Cell \u001b[1;32mIn[56], line 2\u001b[0m\n\u001b[0;32m      1\u001b[0m dict1 \u001b[38;5;241m=\u001b[39m {\u001b[38;5;241m1\u001b[39m:\u001b[38;5;124m'\u001b[39m\u001b[38;5;124mniyati\u001b[39m\u001b[38;5;124m'\u001b[39m,\u001b[38;5;241m2\u001b[39m:\u001b[38;5;124m'\u001b[39m\u001b[38;5;124mjalpa\u001b[39m\u001b[38;5;124m'\u001b[39m}\n\u001b[1;32m----> 2\u001b[0m dict1[\u001b[38;5;124m'\u001b[39m\u001b[38;5;124my\u001b[39m\u001b[38;5;124m'\u001b[39m]\u001b[38;5;241m=\u001b[39m\u001b[38;5;28;43mint\u001b[39;49m\u001b[43m(\u001b[49m\u001b[38;5;28;43minput\u001b[39;49m\u001b[43m(\u001b[49m\u001b[43m)\u001b[49m\u001b[43m)\u001b[49m\n\u001b[0;32m      3\u001b[0m \u001b[38;5;28;01mif\u001b[39;00m \u001b[38;5;28mtype\u001b[39m(dict1[\u001b[38;5;124m'\u001b[39m\u001b[38;5;124my\u001b[39m\u001b[38;5;124m'\u001b[39m]) \u001b[38;5;241m==\u001b[39m \u001b[38;5;28mint\u001b[39m:\n\u001b[0;32m      4\u001b[0m      \u001b[38;5;28;01mraise\u001b[39;00m \u001b[38;5;167;01mZeroDivisionError\u001b[39;00m(\u001b[38;5;124m\"\u001b[39m\u001b[38;5;124myou have entered a valid value \u001b[39m\u001b[38;5;124m\"\u001b[39m,dict1)\n",
      "\u001b[1;31mValueError\u001b[0m: invalid literal for int() with base 10: 'hkjhh'"
     ]
    }
   ],
   "source": [
    "#for understanding\n",
    "dict1 = {1:'niyati',2:'jalpa'}\n",
    "dict1['y']=int(input())\n",
    "if type(dict1['y']) == int:\n",
    "     raise ZeroDivisionError(\"you have entered a valid value \",dict1)\n",
    "\n",
    "    "
   ]
  },
  {
   "cell_type": "code",
   "execution_count": 57,
   "id": "148b12ed",
   "metadata": {},
   "outputs": [
    {
     "name": "stdout",
     "output_type": "stream",
     "text": [
      "10\n"
     ]
    },
    {
     "ename": "ZeroDivisionError",
     "evalue": "('you have entered a valid value ', {1: 'niyati', 2: 'jalpa', 'y': 10})",
     "output_type": "error",
     "traceback": [
      "\u001b[1;31m---------------------------------------------------------------------------\u001b[0m",
      "\u001b[1;31mZeroDivisionError\u001b[0m                         Traceback (most recent call last)",
      "Cell \u001b[1;32mIn[57], line 4\u001b[0m\n\u001b[0;32m      2\u001b[0m dict1[\u001b[38;5;124m'\u001b[39m\u001b[38;5;124my\u001b[39m\u001b[38;5;124m'\u001b[39m]\u001b[38;5;241m=\u001b[39m\u001b[38;5;28mint\u001b[39m(\u001b[38;5;28minput\u001b[39m())\n\u001b[0;32m      3\u001b[0m \u001b[38;5;28;01mif\u001b[39;00m \u001b[38;5;28mtype\u001b[39m(dict1[\u001b[38;5;124m'\u001b[39m\u001b[38;5;124my\u001b[39m\u001b[38;5;124m'\u001b[39m]) \u001b[38;5;241m==\u001b[39m \u001b[38;5;28mint\u001b[39m:\n\u001b[1;32m----> 4\u001b[0m      \u001b[38;5;28;01mraise\u001b[39;00m \u001b[38;5;167;01mZeroDivisionError\u001b[39;00m(\u001b[38;5;124m\"\u001b[39m\u001b[38;5;124myou have entered a valid value \u001b[39m\u001b[38;5;124m\"\u001b[39m,dict1)\n",
      "\u001b[1;31mZeroDivisionError\u001b[0m: ('you have entered a valid value ', {1: 'niyati', 2: 'jalpa', 'y': 10})"
     ]
    }
   ],
   "source": [
    "dict1 = {1:'niyati',2:'jalpa'}\n",
    "dict1['y']=int(input())\n",
    "if type(dict1['y']) == int:\n",
    "     raise ZeroDivisionError(\"you have entered a valid value \",dict1)"
   ]
  },
  {
   "cell_type": "code",
   "execution_count": 61,
   "id": "6a2b4a32",
   "metadata": {},
   "outputs": [],
   "source": [
    "def test():\n",
    "    dict1 = {1:'niyati',2:'jalpa'}\n",
    "    dict1['y']=int(input())\n",
    "    if type(dict1['y']) == int:\n",
    "        raise ZeroDivisionError(\"you have entered a valid value \")\n",
    "    return dict1"
   ]
  },
  {
   "cell_type": "code",
   "execution_count": 64,
   "id": "9feaa1c4",
   "metadata": {
    "scrolled": false
   },
   "outputs": [
    {
     "name": "stdout",
     "output_type": "stream",
     "text": [
      "10\n"
     ]
    },
    {
     "ename": "ZeroDivisionError",
     "evalue": "you have entered a valid value ",
     "output_type": "error",
     "traceback": [
      "\u001b[1;31m---------------------------------------------------------------------------\u001b[0m",
      "\u001b[1;31mZeroDivisionError\u001b[0m                         Traceback (most recent call last)",
      "Cell \u001b[1;32mIn[64], line 1\u001b[0m\n\u001b[1;32m----> 1\u001b[0m \u001b[43mtest\u001b[49m\u001b[43m(\u001b[49m\u001b[43m)\u001b[49m\n",
      "Cell \u001b[1;32mIn[61], line 5\u001b[0m, in \u001b[0;36mtest\u001b[1;34m()\u001b[0m\n\u001b[0;32m      3\u001b[0m dict1[\u001b[38;5;124m'\u001b[39m\u001b[38;5;124my\u001b[39m\u001b[38;5;124m'\u001b[39m]\u001b[38;5;241m=\u001b[39m\u001b[38;5;28mint\u001b[39m(\u001b[38;5;28minput\u001b[39m())\n\u001b[0;32m      4\u001b[0m \u001b[38;5;28;01mif\u001b[39;00m \u001b[38;5;28mtype\u001b[39m(dict1[\u001b[38;5;124m'\u001b[39m\u001b[38;5;124my\u001b[39m\u001b[38;5;124m'\u001b[39m]) \u001b[38;5;241m==\u001b[39m \u001b[38;5;28mint\u001b[39m:\n\u001b[1;32m----> 5\u001b[0m     \u001b[38;5;28;01mraise\u001b[39;00m \u001b[38;5;167;01mZeroDivisionError\u001b[39;00m(\u001b[38;5;124m\"\u001b[39m\u001b[38;5;124myou have entered a valid value \u001b[39m\u001b[38;5;124m\"\u001b[39m)\n\u001b[0;32m      6\u001b[0m \u001b[38;5;28;01mreturn\u001b[39;00m dict1\n",
      "\u001b[1;31mZeroDivisionError\u001b[0m: you have entered a valid value "
     ]
    }
   ],
   "source": [
    "test()"
   ]
  },
  {
   "cell_type": "code",
   "execution_count": 65,
   "id": "9eb73526",
   "metadata": {},
   "outputs": [
    {
     "name": "stdout",
     "output_type": "stream",
     "text": [
      "jhjkfh\n",
      "invalid literal for int() with base 10: 'jhjkfh'\n"
     ]
    }
   ],
   "source": [
    "try:\n",
    "    d= {1:\"niyati\",2:20,3:\"vyas\"}\n",
    "    d[\"key4\"] = int(input())\n",
    "    f = open(\"test2\",\"r\")\n",
    "\n",
    "except ValueError as xyz :\n",
    "    print(xyz)\n",
    "except FileNotFoundError as e:\n",
    "    print(e)\n",
    "except Exception as ee:\n",
    "    print(ee)"
   ]
  },
  {
   "cell_type": "markdown",
   "id": "39f658b7",
   "metadata": {},
   "source": [
    "# Logging(logbook)\n",
    "Debug, Info, Warning, Error, Critical"
   ]
  },
  {
   "cell_type": "code",
   "execution_count": 5,
   "id": "80261eaa",
   "metadata": {},
   "outputs": [],
   "source": [
    "import logging"
   ]
  },
  {
   "cell_type": "code",
   "execution_count": 6,
   "id": "79c4f11a",
   "metadata": {},
   "outputs": [],
   "source": [
    "logging.basicConfig(filename = \"test103.log\",level = logging.DEBUG,format ='%(asctime)s %(levelname)s %(message)s')"
   ]
  },
  {
   "cell_type": "code",
   "execution_count": 10,
   "id": "5c70a561",
   "metadata": {},
   "outputs": [],
   "source": [
    "logging.info('this is my info log')\n",
    "logging.warning('this is my warning log')\n",
    "logging.debug('this is my debug log')\n",
    "logging.error('this is my error log')"
   ]
  },
  {
   "cell_type": "code",
   "execution_count": 14,
   "id": "629fa5a7",
   "metadata": {},
   "outputs": [],
   "source": [
    "logging.shutdown()"
   ]
  },
  {
   "cell_type": "code",
   "execution_count": 10,
   "id": "512626e3",
   "metadata": {},
   "outputs": [],
   "source": [
    "import logging"
   ]
  },
  {
   "cell_type": "code",
   "execution_count": 11,
   "id": "888cfc02",
   "metadata": {},
   "outputs": [],
   "source": [
    "logging.basicConfig(filename = \"test101.log\",level = logging.INFO)"
   ]
  },
  {
   "cell_type": "code",
   "execution_count": 4,
   "id": "29c23029",
   "metadata": {},
   "outputs": [],
   "source": [
    "logging.info('this is my info log')\n",
    "logging.warning('this is my warning log')\n",
    "logging.error('this is my error log')"
   ]
  },
  {
   "cell_type": "code",
   "execution_count": 4,
   "id": "80949644",
   "metadata": {},
   "outputs": [],
   "source": [
    "logging.shutdown()"
   ]
  },
  {
   "cell_type": "code",
   "execution_count": 6,
   "id": "8afa63ed",
   "metadata": {},
   "outputs": [],
   "source": [
    "#eg of logging"
   ]
  },
  {
   "cell_type": "code",
   "execution_count": 4,
   "id": "d75bf138",
   "metadata": {},
   "outputs": [],
   "source": [
    "import logging\n",
    "def divbyzero(a,b):\n",
    "    logging.info(\"this is a start of my code and i am try to enter %s and %s\",a,b)\n",
    "    try:\n",
    "        div = a/b\n",
    "        logging.info(\"executed succ\")\n",
    "    except Exception as e :\n",
    "            logging.error(\"Error has happend\")\n",
    "            logging.exception(\"Exception occured\" + str(e))"
   ]
  },
  {
   "cell_type": "code",
   "execution_count": 6,
   "id": "59599c41",
   "metadata": {},
   "outputs": [],
   "source": [
    "divbyzero(4,0)"
   ]
  },
  {
   "cell_type": "code",
   "execution_count": 10,
   "id": "1dc237cc",
   "metadata": {},
   "outputs": [],
   "source": [
    "logging.shutdown()"
   ]
  },
  {
   "cell_type": "code",
   "execution_count": 7,
   "id": "17eb1ae7",
   "metadata": {},
   "outputs": [
    {
     "name": "stdout",
     "output_type": "stream",
     "text": [
      "eroor in your code\n",
      "Enter your weight in kilograms: 50\n",
      "Enter your height in meters: 0\n",
      "float division by zero\n"
     ]
    }
   ],
   "source": [
    "import logging\n",
    "try:\n",
    "    def bmi (w,h):\n",
    "        BMI = w / (h*h)\n",
    "        print(BMI)\n",
    "    logging.info(\"this is a start of my code and i am try to enter %s and %s\",a,b)       \n",
    "except:\n",
    "    print('eroor in your code')\n",
    "try:    \n",
    "    w = float(input(\"Enter your weight in kilograms: \"))\n",
    "    h = float(input(\"Enter your height in meters: \"))\n",
    "    bmi(w,h)\n",
    "    logging.info(\"executed succ\")\n",
    "except Exception as e:\n",
    "    print(e) "
   ]
  },
  {
   "cell_type": "code",
   "execution_count": 9,
   "id": "3c63606d",
   "metadata": {},
   "outputs": [
    {
     "name": "stdout",
     "output_type": "stream",
     "text": [
      "Enter a value:-3\n"
     ]
    }
   ],
   "source": [
    "import logging\n",
    "logging.basicConfig(level=logging.DEBUG,format='%(asctime)s - %(levelname)s - %(massage)s')\n",
    "\n",
    "def perform_opration(value) :\n",
    "    if value < 0:\n",
    "        raise ValueError(\"Invalid value: Value cannot be negative.\")\n",
    "    else   :\n",
    "        #continue with normal excution\n",
    "        logging.info(\"Oprtaion performed successfully.\")\n",
    "        \n",
    "try:\n",
    "    input_value = int(input(\"Enter a value:\"))\n",
    "    perform_opration(input_value)\n",
    "except ValueError as ve:\n",
    "    logging.exception(\"Exception occurred: %s\",str(ve))"
   ]
  },
  {
   "cell_type": "code",
   "execution_count": 1,
   "id": "d54342d5",
   "metadata": {},
   "outputs": [],
   "source": [
    "#2023 calendar monthwise\n",
    "#in html calender\n",
    "#write a program system shuttdown\n",
    "#date with time print\n",
    "#5 days date time print ---> +5, -5\n",
    "#convert into uper-lower case\n",
    "#file rename\n",
    "\n"
   ]
  },
  {
   "cell_type": "code",
   "execution_count": 2,
   "id": "46951e40",
   "metadata": {},
   "outputs": [
    {
     "name": "stdout",
     "output_type": "stream",
     "text": [
      "                                  2023\n",
      "\n",
      "      January                   February                   March\n",
      "Mo Tu We Th Fr Sa Su      Mo Tu We Th Fr Sa Su      Mo Tu We Th Fr Sa Su\n",
      "                   1             1  2  3  4  5             1  2  3  4  5\n",
      " 2  3  4  5  6  7  8       6  7  8  9 10 11 12       6  7  8  9 10 11 12\n",
      " 9 10 11 12 13 14 15      13 14 15 16 17 18 19      13 14 15 16 17 18 19\n",
      "16 17 18 19 20 21 22      20 21 22 23 24 25 26      20 21 22 23 24 25 26\n",
      "23 24 25 26 27 28 29      27 28                     27 28 29 30 31\n",
      "30 31\n",
      "\n",
      "       April                      May                       June\n",
      "Mo Tu We Th Fr Sa Su      Mo Tu We Th Fr Sa Su      Mo Tu We Th Fr Sa Su\n",
      "                1  2       1  2  3  4  5  6  7                1  2  3  4\n",
      " 3  4  5  6  7  8  9       8  9 10 11 12 13 14       5  6  7  8  9 10 11\n",
      "10 11 12 13 14 15 16      15 16 17 18 19 20 21      12 13 14 15 16 17 18\n",
      "17 18 19 20 21 22 23      22 23 24 25 26 27 28      19 20 21 22 23 24 25\n",
      "24 25 26 27 28 29 30      29 30 31                  26 27 28 29 30\n",
      "\n",
      "        July                     August                  September\n",
      "Mo Tu We Th Fr Sa Su      Mo Tu We Th Fr Sa Su      Mo Tu We Th Fr Sa Su\n",
      "                1  2          1  2  3  4  5  6                   1  2  3\n",
      " 3  4  5  6  7  8  9       7  8  9 10 11 12 13       4  5  6  7  8  9 10\n",
      "10 11 12 13 14 15 16      14 15 16 17 18 19 20      11 12 13 14 15 16 17\n",
      "17 18 19 20 21 22 23      21 22 23 24 25 26 27      18 19 20 21 22 23 24\n",
      "24 25 26 27 28 29 30      28 29 30 31               25 26 27 28 29 30\n",
      "31\n",
      "\n",
      "      October                   November                  December\n",
      "Mo Tu We Th Fr Sa Su      Mo Tu We Th Fr Sa Su      Mo Tu We Th Fr Sa Su\n",
      "                   1             1  2  3  4  5                   1  2  3\n",
      " 2  3  4  5  6  7  8       6  7  8  9 10 11 12       4  5  6  7  8  9 10\n",
      " 9 10 11 12 13 14 15      13 14 15 16 17 18 19      11 12 13 14 15 16 17\n",
      "16 17 18 19 20 21 22      20 21 22 23 24 25 26      18 19 20 21 22 23 24\n",
      "23 24 25 26 27 28 29      27 28 29 30               25 26 27 28 29 30 31\n",
      "30 31\n",
      "\n"
     ]
    }
   ],
   "source": [
    "#calendar\n",
    "import  logging\n",
    "logging.basicConfig(filename = \"test102.log\",level = logging.DEBUG,format ='%(asctime)s %(levelname)s %(message)s')\n",
    "yy = 2023\n",
    "print(calendar.calendar(yy))\n",
    "    \n"
   ]
  },
  {
   "cell_type": "code",
   "execution_count": 3,
   "id": "27dc8a7b",
   "metadata": {},
   "outputs": [
    {
     "name": "stdout",
     "output_type": "stream",
     "text": [
      "Current date and time : \n",
      "2023-08-06 18:46:41\n"
     ]
    }
   ],
   "source": [
    "import logging\n",
    "now = datetime.datetime.now()\n",
    "logging.basicConfig(filename = \"test102.log\",level = logging.DEBUG,format ='%(asctime)s %(levelname)s %(message)s')\n",
    "\n",
    "print (\"Current date and time : \")\n",
    "print (now.strftime(\"%Y-%m-%d %H:%M:%S\"))"
   ]
  },
  {
   "cell_type": "code",
   "execution_count": 4,
   "id": "82800788",
   "metadata": {},
   "outputs": [],
   "source": [
    "logging.shutdown()"
   ]
  },
  {
   "cell_type": "code",
   "execution_count": 5,
   "id": "833cccf9",
   "metadata": {},
   "outputs": [
    {
     "name": "stdout",
     "output_type": "stream",
     "text": [
      "Enter the String: NIYTATYJX\n",
      "Lowercase: niytatyjx\n"
     ]
    }
   ],
   "source": [
    "import logging\n",
    "logging.basicConfig(filename = \"test102.log\",level = logging.DEBUG,format ='%(asctime)s %(levelname)s %(message)s')\n",
    "\n",
    "def UpToLow(u):\n",
    "    return u.lower()\n",
    "\n",
    "print(\"Enter the String: \", end=\"\")\n",
    "text = input()\n",
    "\n",
    "text = UpToLow(text)\n",
    "print(\"Lowercase:\", text)"
   ]
  },
  {
   "cell_type": "code",
   "execution_count": 2,
   "id": "921c9f6b",
   "metadata": {},
   "outputs": [
    {
     "name": "stdout",
     "output_type": "stream",
     "text": [
      "<table border=\"0\" cellpadding=\"0\" cellspacing=\"0\" class=\"month\">\n",
      "<tr><th colspan=\"7\" class=\"month\">August 2023</th></tr>\n",
      "<tr><th class=\"mon\">Mon</th><th class=\"tue\">Tue</th><th class=\"wed\">Wed</th><th class=\"thu\">Thu</th><th class=\"fri\">Fri</th><th class=\"sat\">Sat</th><th class=\"sun\">Sun</th></tr>\n",
      "<tr><td class=\"noday\">&nbsp;</td><td class=\"tue\">1</td><td class=\"wed\">2</td><td class=\"thu\">3</td><td class=\"fri\">4</td><td class=\"sat\">5</td><td class=\"sun\">6</td></tr>\n",
      "<tr><td class=\"mon\">7</td><td class=\"tue\">8</td><td class=\"wed\">9</td><td class=\"thu\">10</td><td class=\"fri\">11</td><td class=\"sat\">12</td><td class=\"sun\">13</td></tr>\n",
      "<tr><td class=\"mon\">14</td><td class=\"tue\">15</td><td class=\"wed\">16</td><td class=\"thu\">17</td><td class=\"fri\">18</td><td class=\"sat\">19</td><td class=\"sun\">20</td></tr>\n",
      "<tr><td class=\"mon\">21</td><td class=\"tue\">22</td><td class=\"wed\">23</td><td class=\"thu\">24</td><td class=\"fri\">25</td><td class=\"sat\">26</td><td class=\"sun\">27</td></tr>\n",
      "<tr><td class=\"mon\">28</td><td class=\"tue\">29</td><td class=\"wed\">30</td><td class=\"thu\">31</td><td class=\"noday\">&nbsp;</td><td class=\"noday\">&nbsp;</td><td class=\"noday\">&nbsp;</td></tr>\n",
      "</table>\n",
      "\n"
     ]
    }
   ],
   "source": [
    "#html calendar\n",
    "import calendar\n",
    "tc= calendar.HTMLCalendar(firstweekday=0)\n",
    "print(tc.formatmonth(2023,8))\n"
   ]
  },
  {
   "cell_type": "code",
   "execution_count": null,
   "id": "4ae9c1fc",
   "metadata": {},
   "outputs": [],
   "source": []
  }
 ],
 "metadata": {
  "kernelspec": {
   "display_name": "Python 3 (ipykernel)",
   "language": "python",
   "name": "python3"
  },
  "language_info": {
   "codemirror_mode": {
    "name": "ipython",
    "version": 3
   },
   "file_extension": ".py",
   "mimetype": "text/x-python",
   "name": "python",
   "nbconvert_exporter": "python",
   "pygments_lexer": "ipython3",
   "version": "3.10.9"
  }
 },
 "nbformat": 4,
 "nbformat_minor": 5
}
