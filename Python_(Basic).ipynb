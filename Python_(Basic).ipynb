{
 "cells": [
  {
   "cell_type": "code",
   "execution_count": 4,
   "id": "0087f437",
   "metadata": {},
   "outputs": [
    {
     "name": "stdout",
     "output_type": "stream",
     "text": [
      "Hello World\n"
     ]
    }
   ],
   "source": [
    "print(\"Hello World\")"
   ]
  },
  {
   "cell_type": "code",
   "execution_count": 5,
   "id": "3e830707",
   "metadata": {},
   "outputs": [
    {
     "data": {
      "text/plain": [
       "'NiyatiVyas'"
      ]
     },
     "execution_count": 5,
     "metadata": {},
     "output_type": "execute_result"
    }
   ],
   "source": [
    "a='Niyati'\n",
    "b='Vyas'\n",
    "a+b"
   ]
  },
  {
   "cell_type": "code",
   "execution_count": 6,
   "id": "69fea762",
   "metadata": {},
   "outputs": [
    {
     "data": {
      "text/plain": [
       "'Niyati Vyas'"
      ]
     },
     "execution_count": 6,
     "metadata": {},
     "output_type": "execute_result"
    }
   ],
   "source": [
    "a='Niyati '\n",
    "b='Vyas'\n",
    "a+b"
   ]
  },
  {
   "cell_type": "code",
   "execution_count": 26,
   "id": "bb06bf08",
   "metadata": {},
   "outputs": [
    {
     "name": "stdout",
     "output_type": "stream",
     "text": [
      "Niyati is a good person\n"
     ]
    }
   ],
   "source": [
    "a = \"Niyati\"\n",
    "print(f\"{a} is a good person\")"
   ]
  },
  {
   "cell_type": "code",
   "execution_count": 7,
   "id": "217edae9",
   "metadata": {},
   "outputs": [
    {
     "data": {
      "text/plain": [
       "6"
      ]
     },
     "execution_count": 7,
     "metadata": {},
     "output_type": "execute_result"
    }
   ],
   "source": [
    "a=4\n",
    "b=2\n",
    "a+b"
   ]
  },
  {
   "cell_type": "code",
   "execution_count": 8,
   "id": "fa343e88",
   "metadata": {},
   "outputs": [
    {
     "data": {
      "text/plain": [
       "2"
      ]
     },
     "execution_count": 8,
     "metadata": {},
     "output_type": "execute_result"
    }
   ],
   "source": [
    "a-b\n"
   ]
  },
  {
   "cell_type": "code",
   "execution_count": 9,
   "id": "07f105d6",
   "metadata": {},
   "outputs": [
    {
     "data": {
      "text/plain": [
       "8"
      ]
     },
     "execution_count": 9,
     "metadata": {},
     "output_type": "execute_result"
    }
   ],
   "source": [
    "a*b"
   ]
  },
  {
   "cell_type": "code",
   "execution_count": 10,
   "id": "08406969",
   "metadata": {},
   "outputs": [
    {
     "data": {
      "text/plain": [
       "2.0"
      ]
     },
     "execution_count": 10,
     "metadata": {},
     "output_type": "execute_result"
    }
   ],
   "source": [
    "a/b"
   ]
  },
  {
   "cell_type": "code",
   "execution_count": 28,
   "id": "1e8fff5f",
   "metadata": {
    "scrolled": true
   },
   "outputs": [
    {
     "name": "stdout",
     "output_type": "stream",
     "text": [
      "14 -4 45 0.5555555555555556\n"
     ]
    }
   ],
   "source": [
    "a=5\n",
    "b=9\n",
    "print(a+b,a-b,a*b,a/b)"
   ]
  },
  {
   "cell_type": "code",
   "execution_count": 29,
   "id": "d20d2c2d",
   "metadata": {},
   "outputs": [
    {
     "name": "stdout",
     "output_type": "stream",
     "text": [
      "13\n",
      "-3\n",
      "40\n",
      "0.625\n"
     ]
    }
   ],
   "source": [
    "a=5\n",
    "b=8\n",
    "print(a+b)\n",
    "print(a-b)\n",
    "print(a*b)\n",
    "print(a/b)"
   ]
  },
  {
   "cell_type": "code",
   "execution_count": 11,
   "id": "144aefe3",
   "metadata": {},
   "outputs": [
    {
     "data": {
      "text/plain": [
       "int"
      ]
     },
     "execution_count": 11,
     "metadata": {},
     "output_type": "execute_result"
    }
   ],
   "source": [
    "type(a)"
   ]
  },
  {
   "cell_type": "code",
   "execution_count": 12,
   "id": "6cafa012",
   "metadata": {},
   "outputs": [
    {
     "data": {
      "text/plain": [
       "str"
      ]
     },
     "execution_count": 12,
     "metadata": {},
     "output_type": "execute_result"
    }
   ],
   "source": [
    "a='niyati'\n",
    "type(a)"
   ]
  },
  {
   "cell_type": "code",
   "execution_count": 13,
   "id": "f0cdd141",
   "metadata": {},
   "outputs": [
    {
     "data": {
      "text/plain": [
       "complex"
      ]
     },
     "execution_count": 13,
     "metadata": {},
     "output_type": "execute_result"
    }
   ],
   "source": [
    "b=8+8j\n",
    "type(b)"
   ]
  },
  {
   "cell_type": "code",
   "execution_count": 31,
   "id": "5becad19",
   "metadata": {},
   "outputs": [],
   "source": [
    "c=5.8"
   ]
  },
  {
   "cell_type": "code",
   "execution_count": 32,
   "id": "bd66a647",
   "metadata": {},
   "outputs": [
    {
     "data": {
      "text/plain": [
       "float"
      ]
     },
     "execution_count": 32,
     "metadata": {},
     "output_type": "execute_result"
    }
   ],
   "source": [
    "type(c)"
   ]
  },
  {
   "cell_type": "code",
   "execution_count": 30,
   "id": "98d93618",
   "metadata": {},
   "outputs": [],
   "source": [
    "a='jhgdhkgsdgkudgf'"
   ]
  },
  {
   "cell_type": "code",
   "execution_count": 15,
   "id": "aa7e41f5",
   "metadata": {},
   "outputs": [
    {
     "data": {
      "text/plain": [
       "15"
      ]
     },
     "execution_count": 15,
     "metadata": {},
     "output_type": "execute_result"
    }
   ],
   "source": [
    "len(a)"
   ]
  },
  {
   "cell_type": "code",
   "execution_count": 16,
   "id": "80e2c8a5",
   "metadata": {},
   "outputs": [
    {
     "data": {
      "text/plain": [
       "'n'"
      ]
     },
     "execution_count": 16,
     "metadata": {},
     "output_type": "execute_result"
    }
   ],
   "source": [
    "a='niyati'\n",
    "a[0]"
   ]
  },
  {
   "cell_type": "code",
   "execution_count": 17,
   "id": "8200c324",
   "metadata": {},
   "outputs": [
    {
     "data": {
      "text/plain": [
       "'niyat'"
      ]
     },
     "execution_count": 17,
     "metadata": {},
     "output_type": "execute_result"
    }
   ],
   "source": [
    "a[0:5]"
   ]
  },
  {
   "cell_type": "code",
   "execution_count": 18,
   "id": "254c41d7",
   "metadata": {},
   "outputs": [
    {
     "data": {
      "text/plain": [
       "'nyt'"
      ]
     },
     "execution_count": 18,
     "metadata": {},
     "output_type": "execute_result"
    }
   ],
   "source": [
    "a[0:5:2]"
   ]
  },
  {
   "cell_type": "code",
   "execution_count": 19,
   "id": "1dcdd75b",
   "metadata": {},
   "outputs": [
    {
     "data": {
      "text/plain": [
       "'itayin'"
      ]
     },
     "execution_count": 19,
     "metadata": {},
     "output_type": "execute_result"
    }
   ],
   "source": [
    "a[::-1]"
   ]
  },
  {
   "cell_type": "code",
   "execution_count": 22,
   "id": "0d34fadd",
   "metadata": {},
   "outputs": [
    {
     "data": {
      "text/plain": [
       "True"
      ]
     },
     "execution_count": 22,
     "metadata": {},
     "output_type": "execute_result"
    }
   ],
   "source": [
    "5<6\n"
   ]
  },
  {
   "cell_type": "code",
   "execution_count": 23,
   "id": "27c22b4b",
   "metadata": {},
   "outputs": [
    {
     "data": {
      "text/plain": [
       "False"
      ]
     },
     "execution_count": 23,
     "metadata": {},
     "output_type": "execute_result"
    }
   ],
   "source": [
    "5>6"
   ]
  },
  {
   "cell_type": "code",
   "execution_count": 24,
   "id": "139de684",
   "metadata": {},
   "outputs": [
    {
     "data": {
      "text/plain": [
       "False"
      ]
     },
     "execution_count": 24,
     "metadata": {},
     "output_type": "execute_result"
    }
   ],
   "source": [
    "a=5\n",
    "b=5\n",
    "a<b"
   ]
  },
  {
   "cell_type": "code",
   "execution_count": 25,
   "id": "0105e4ba",
   "metadata": {
    "scrolled": true
   },
   "outputs": [
    {
     "data": {
      "text/plain": [
       "False"
      ]
     },
     "execution_count": 25,
     "metadata": {},
     "output_type": "execute_result"
    }
   ],
   "source": [
    "a>b"
   ]
  },
  {
   "cell_type": "markdown",
   "id": "608ef7c0",
   "metadata": {},
   "source": [
    "# If-Else condition"
   ]
  },
  {
   "cell_type": "code",
   "execution_count": 11,
   "id": "924a8da0",
   "metadata": {
    "scrolled": true
   },
   "outputs": [
    {
     "name": "stdout",
     "output_type": "stream",
     "text": [
      "hfvgtgh\n",
      "niyuti\n",
      "both first letters are not same\n"
     ]
    }
   ],
   "source": [
    "a=str(input())\n",
    "b=str(input())\n",
    "if a[0]==b[0]:\n",
    "    print('both first letters are same')\n",
    "else:\n",
    "    print('both first letters are not same')\n",
    "    "
   ]
  },
  {
   "cell_type": "code",
   "execution_count": 2,
   "id": "132aa557",
   "metadata": {},
   "outputs": [
    {
     "name": "stdout",
     "output_type": "stream",
     "text": [
      "jdglhjfvjkh\n",
      "niyatu\n",
      "b is less than a\n"
     ]
    }
   ],
   "source": [
    "a=str(input())\n",
    "b=str(input())\n",
    "if len(a)==len(b):\n",
    "    print('b is grater than a')\n",
    "else:\n",
    "    print(\"b is less than a\")"
   ]
  },
  {
   "cell_type": "code",
   "execution_count": 1,
   "id": "3b550df2",
   "metadata": {},
   "outputs": [
    {
     "name": "stdout",
     "output_type": "stream",
     "text": [
      "b is less than a\n"
     ]
    }
   ],
   "source": [
    "a=5\n",
    "b=6\n",
    "if a > b:\n",
    "    print('b is grater than a')\n",
    "else:\n",
    "    print(\"b is less than a\")\n",
    "    "
   ]
  },
  {
   "cell_type": "code",
   "execution_count": 3,
   "id": "93f44875",
   "metadata": {},
   "outputs": [
    {
     "name": "stdout",
     "output_type": "stream",
     "text": [
      "5\n",
      "b is positive\n"
     ]
    }
   ],
   "source": [
    "b=int(input())\n",
    "if(b>0):\n",
    "    print('b is positive')\n",
    "else:\n",
    "    print('b is not positive')"
   ]
  },
  {
   "cell_type": "code",
   "execution_count": 5,
   "id": "a8517526",
   "metadata": {},
   "outputs": [
    {
     "name": "stdout",
     "output_type": "stream",
     "text": [
      "Enter the value of b:-5\n",
      "b is negative\n"
     ]
    }
   ],
   "source": [
    "#nested if else condition\n",
    "b=int(input(\"Enter the value of b:\"))\n",
    "if b <= 0:\n",
    "    if b<0:\n",
    "        print('b is negative')\n",
    "    else:\n",
    "        print('zero')\n",
    "else:\n",
    "    print('b is positive')"
   ]
  },
  {
   "cell_type": "code",
   "execution_count": 8,
   "id": "5ae81c30",
   "metadata": {},
   "outputs": [
    {
     "name": "stdout",
     "output_type": "stream",
     "text": [
      "Enter the value of b:5\n",
      "b is positive\n"
     ]
    }
   ],
   "source": [
    "#multipal condition\n",
    "b=int(input(\"Enter the value of b:\"))\n",
    "if b<0:\n",
    "        print('b is negative')\n",
    "elif b==0:        \n",
    "        print('zero')\n",
    "else:\n",
    "    print('b is positive')"
   ]
  },
  {
   "cell_type": "code",
   "execution_count": 8,
   "id": "b8353d27",
   "metadata": {},
   "outputs": [
    {
     "name": "stdout",
     "output_type": "stream",
     "text": [
      "5\n",
      "b is odd number\n"
     ]
    }
   ],
   "source": [
    "b=int(input())\n",
    "if b%2 == 0:\n",
    "    print('b is even number')\n",
    "else:\n",
    "    print('b is odd number')"
   ]
  },
  {
   "cell_type": "code",
   "execution_count": 34,
   "id": "1332f3f6",
   "metadata": {},
   "outputs": [
    {
     "name": "stdout",
     "output_type": "stream",
     "text": [
      "8\n",
      "5\n",
      "a is large\n"
     ]
    }
   ],
   "source": [
    "a=int(input())\n",
    "b=int(input())\n",
    "if(a>b):\n",
    "    print('a is large')\n",
    "else:\n",
    "    print('b is small')"
   ]
  },
  {
   "cell_type": "code",
   "execution_count": 16,
   "id": "86dade06",
   "metadata": {},
   "outputs": [
    {
     "name": "stdout",
     "output_type": "stream",
     "text": [
      "5\n",
      "2\n",
      "5\n",
      "a is larger than b\n"
     ]
    }
   ],
   "source": [
    "a=int(input())\n",
    "b=int(input())\n",
    "c=int(input())\n",
    "if(a>b):\n",
    "    print('a is larger than b')\n",
    "elif (b>c):\n",
    "    print('b is larger than c')\n",
    "else:\n",
    "    print(\"both are same\")\n",
    "    "
   ]
  },
  {
   "cell_type": "code",
   "execution_count": 35,
   "id": "abba3c2f",
   "metadata": {
    "scrolled": true
   },
   "outputs": [
    {
     "data": {
      "text/plain": [
       "13"
      ]
     },
     "execution_count": 35,
     "metadata": {},
     "output_type": "execute_result"
    }
   ],
   "source": [
    "a +b"
   ]
  },
  {
   "cell_type": "code",
   "execution_count": 14,
   "id": "5b081e9b",
   "metadata": {
    "scrolled": true
   },
   "outputs": [
    {
     "name": "stdout",
     "output_type": "stream",
     "text": [
      "eye\n",
      "a is a palindrom\n"
     ]
    }
   ],
   "source": [
    "#PALINDROM WORD\n",
    "a=str(input())\n",
    "if a==a[::-1]:\n",
    "    print('a is a palindrom word')\n",
    "else:\n",
    "    print('a is not a palindrom word')"
   ]
  },
  {
   "cell_type": "code",
   "execution_count": 13,
   "id": "3f0c2221",
   "metadata": {
    "scrolled": true
   },
   "outputs": [
    {
     "name": "stdout",
     "output_type": "stream",
     "text": [
      "enter the value of a : 698\n",
      "enter the value of b : 2\n",
      "b is less than a\n"
     ]
    }
   ],
   "source": [
    "a = int(input(\"enter the value of a : \"))\n",
    "b = int(input(\"enter the value of b : \"))\n",
    "if a <= b:\n",
    "    if a == b:\n",
    "        print(\"both are same\")\n",
    "    else:\n",
    "        print(\"a is less than b\")\n",
    "else:\n",
    "    print(\"b is less than a\")"
   ]
  },
  {
   "cell_type": "code",
   "execution_count": 14,
   "id": "5fa5850d",
   "metadata": {},
   "outputs": [
    {
     "name": "stdout",
     "output_type": "stream",
     "text": [
      "enter the value of a : 5\n",
      "enter the value of b : 5\n",
      "both are same\n"
     ]
    }
   ],
   "source": [
    "a = int(input(\"enter the value of a : \"))\n",
    "b = int(input(\"enter the value of b : \"))\n",
    "if a < b:\n",
    "    print(\"a is less than b\")\n",
    "elif a == b:\n",
    "        print(\"both are same\")\n",
    "else:\n",
    "        print(\"a is less than b\")"
   ]
  },
  {
   "cell_type": "code",
   "execution_count": 11,
   "id": "30313747",
   "metadata": {},
   "outputs": [
    {
     "name": "stdout",
     "output_type": "stream",
     "text": [
      "enter the value of a:100\n",
      "a is distiction\n"
     ]
    }
   ],
   "source": [
    "marks= int(input(\"enter the value of a:\"))\n",
    "if marks < 40:\n",
    "    print(\"a is fail\")\n",
    "elif marks < 50:\n",
    "    print(\"a is pass\")\n",
    "elif marks <60:\n",
    "    print(\"a is second class\")\n",
    "elif marks < 70:\n",
    "    print(\"a is first class\")\n",
    "else:\n",
    "    print(\"a is distiction\")\n",
    "\n",
    "    "
   ]
  },
  {
   "cell_type": "code",
   "execution_count": 17,
   "id": "69db6578",
   "metadata": {},
   "outputs": [
    {
     "name": "stdout",
     "output_type": "stream",
     "text": [
      "enter the value6874\n",
      "discount is 20% 1374.8000000000002\n"
     ]
    }
   ],
   "source": [
    "salary =float(input(\"enter the value\"))\n",
    "if salary <10000:\n",
    "    print(\"discount is 20%\",salary*0.20)\n",
    "elif salary < 20000:\n",
    "    print(\"discount is 10%\",salary*0.10)\n",
    "elif salary < 30000:\n",
    "    print(\"discount is 5%\",salary*0.5)\n",
    "else:\n",
    "    print(\"no discount\")    \n",
    "    "
   ]
  },
  {
   "cell_type": "markdown",
   "id": "43158929",
   "metadata": {},
   "source": [
    "# list in []"
   ]
  },
  {
   "cell_type": "code",
   "execution_count": 19,
   "id": "49ee235f",
   "metadata": {},
   "outputs": [],
   "source": [
    "l=[2,3,4,5,'niyati',5.6,4+4j,[4,5,6]]"
   ]
  },
  {
   "cell_type": "code",
   "execution_count": 4,
   "id": "59ca18fa",
   "metadata": {},
   "outputs": [
    {
     "data": {
      "text/plain": [
       "6"
      ]
     },
     "execution_count": 4,
     "metadata": {},
     "output_type": "execute_result"
    }
   ],
   "source": [
    "l[-1][2]"
   ]
  },
  {
   "cell_type": "code",
   "execution_count": 7,
   "id": "a7a024d6",
   "metadata": {},
   "outputs": [],
   "source": [
    "s=[2,3,4,5,[4,5,7.8,[6,7],5.6],(4+4j),[4,5,6]]"
   ]
  },
  {
   "cell_type": "code",
   "execution_count": 9,
   "id": "789dae90",
   "metadata": {},
   "outputs": [
    {
     "data": {
      "text/plain": [
       "[[4, 5, 6], (4+4j), [4, 5, 7.8, [900, 7], 5.6], 5, 4, 3, 2]"
      ]
     },
     "execution_count": 9,
     "metadata": {},
     "output_type": "execute_result"
    }
   ],
   "source": [
    "s[::-1]"
   ]
  },
  {
   "cell_type": "code",
   "execution_count": 18,
   "id": "875dfabe",
   "metadata": {},
   "outputs": [],
   "source": [
    "s[4][3][0]=900"
   ]
  },
  {
   "cell_type": "markdown",
   "id": "0aa738b7",
   "metadata": {},
   "source": [
    "# tuple in ()\n",
    "t = (4,2,6,'niyati','xyz',9,[3,7,2])"
   ]
  },
  {
   "cell_type": "code",
   "execution_count": 11,
   "id": "d4f7e942",
   "metadata": {},
   "outputs": [],
   "source": [
    "t=(4,2,6,'niyati','xyz',9,[3,7,2])"
   ]
  },
  {
   "cell_type": "code",
   "execution_count": 12,
   "id": "6950260d",
   "metadata": {},
   "outputs": [
    {
     "data": {
      "text/plain": [
       "[3, 7, 2]"
      ]
     },
     "execution_count": 12,
     "metadata": {},
     "output_type": "execute_result"
    }
   ],
   "source": [
    "t[-1]"
   ]
  },
  {
   "cell_type": "code",
   "execution_count": 13,
   "id": "6bb9f14c",
   "metadata": {
    "scrolled": true
   },
   "outputs": [],
   "source": [
    "t[-1][2]=100"
   ]
  },
  {
   "cell_type": "code",
   "execution_count": 14,
   "id": "1f25f635",
   "metadata": {},
   "outputs": [
    {
     "data": {
      "text/plain": [
       "(4, 2, 6, 'niyati', 'xyz', 9, [3, 7, 100])"
      ]
     },
     "execution_count": 14,
     "metadata": {},
     "output_type": "execute_result"
    }
   ],
   "source": [
    "t"
   ]
  },
  {
   "cell_type": "code",
   "execution_count": 20,
   "id": "11a3cb68",
   "metadata": {},
   "outputs": [],
   "source": [
    "n=[3,4,5,6,'niyati',8.8,(5+5j),[5,85,[9,700,'x,y,z'],7,99]]"
   ]
  },
  {
   "cell_type": "code",
   "execution_count": 21,
   "id": "0fd787b4",
   "metadata": {},
   "outputs": [
    {
     "data": {
      "text/plain": [
       "700"
      ]
     },
     "execution_count": 21,
     "metadata": {},
     "output_type": "execute_result"
    }
   ],
   "source": [
    "n[7][2][1]"
   ]
  },
  {
   "cell_type": "markdown",
   "id": "4b613163",
   "metadata": {},
   "source": [
    "# sets in []\n",
    "s={6,3,7,6,'niyati',1,5}"
   ]
  },
  {
   "cell_type": "code",
   "execution_count": 2,
   "id": "c176c947",
   "metadata": {},
   "outputs": [],
   "source": [
    "s={6,3,7,6,'niyati',1,5}"
   ]
  },
  {
   "cell_type": "code",
   "execution_count": 5,
   "id": "c8048dd9",
   "metadata": {
    "scrolled": true
   },
   "outputs": [
    {
     "data": {
      "text/plain": [
       "{1, 3, 5, 6, 7, 'niyati'}"
      ]
     },
     "execution_count": 5,
     "metadata": {},
     "output_type": "execute_result"
    }
   ],
   "source": [
    "s"
   ]
  },
  {
   "cell_type": "code",
   "execution_count": 6,
   "id": "47a14e6e",
   "metadata": {
    "scrolled": true
   },
   "outputs": [
    {
     "ename": "TypeError",
     "evalue": "unhashable type: 'list'",
     "output_type": "error",
     "traceback": [
      "\u001b[1;31m---------------------------------------------------------------------------\u001b[0m",
      "\u001b[1;31mTypeError\u001b[0m                                 Traceback (most recent call last)",
      "Cell \u001b[1;32mIn[6], line 1\u001b[0m\n\u001b[1;32m----> 1\u001b[0m s \u001b[38;5;241m=\u001b[39m{\u001b[38;5;241m5\u001b[39m,\u001b[38;5;241m78\u001b[39m,\u001b[38;5;241m6\u001b[39m,(\u001b[38;5;241m5\u001b[39m,\u001b[38;5;241m3\u001b[39m,\u001b[38;5;241m6\u001b[39m),\u001b[38;5;124m'\u001b[39m\u001b[38;5;124mvyas\u001b[39m\u001b[38;5;124m'\u001b[39m,[\u001b[38;5;241m5\u001b[39m,\u001b[38;5;241m8\u001b[39m,\u001b[38;5;241m5\u001b[39m]}\n",
      "\u001b[1;31mTypeError\u001b[0m: unhashable type: 'list'"
     ]
    }
   ],
   "source": [
    "s ={5,78,6,(5,3,6),'vyas',[5,8,5]}"
   ]
  },
  {
   "cell_type": "code",
   "execution_count": 7,
   "id": "6344c328",
   "metadata": {},
   "outputs": [],
   "source": [
    "n={5,78,6,(5,3,6),'vyas',5}"
   ]
  },
  {
   "cell_type": "code",
   "execution_count": 8,
   "id": "eb94be09",
   "metadata": {},
   "outputs": [
    {
     "data": {
      "text/plain": [
       "{(5, 3, 6), 5, 6, 78, 'vyas'}"
      ]
     },
     "execution_count": 8,
     "metadata": {},
     "output_type": "execute_result"
    }
   ],
   "source": [
    "n"
   ]
  },
  {
   "cell_type": "code",
   "execution_count": 11,
   "id": "6e98933d",
   "metadata": {},
   "outputs": [],
   "source": [
    "b=[5,78,6,{5,3,6},'vyas',5]"
   ]
  },
  {
   "cell_type": "code",
   "execution_count": 12,
   "id": "1d7db966",
   "metadata": {},
   "outputs": [
    {
     "data": {
      "text/plain": [
       "[5, 78, 6, {3, 5, 6}, 'vyas', 5]"
      ]
     },
     "execution_count": 12,
     "metadata": {},
     "output_type": "execute_result"
    }
   ],
   "source": [
    "b"
   ]
  },
  {
   "cell_type": "markdown",
   "id": "ece41b79",
   "metadata": {},
   "source": [
    "# directory\n",
    "dict1 = {1: 'niyati',2: 'vyas',3:'xyz','a':54,'p':73}"
   ]
  },
  {
   "cell_type": "code",
   "execution_count": 13,
   "id": "ff7339a9",
   "metadata": {},
   "outputs": [],
   "source": [
    "dict1 = {1: 'niyati',2: 'vyas',3:'xyz','a':54,'p':73}"
   ]
  },
  {
   "cell_type": "code",
   "execution_count": 20,
   "id": "c4186828",
   "metadata": {},
   "outputs": [
    {
     "data": {
      "text/plain": [
       "84"
      ]
     },
     "execution_count": 20,
     "metadata": {},
     "output_type": "execute_result"
    }
   ],
   "source": [
    "dict1[3]"
   ]
  },
  {
   "cell_type": "code",
   "execution_count": 15,
   "id": "e0e7ba0a",
   "metadata": {},
   "outputs": [
    {
     "data": {
      "text/plain": [
       "73"
      ]
     },
     "execution_count": 15,
     "metadata": {},
     "output_type": "execute_result"
    }
   ],
   "source": [
    "dict1['p']"
   ]
  },
  {
   "cell_type": "code",
   "execution_count": 16,
   "id": "943864aa",
   "metadata": {},
   "outputs": [
    {
     "data": {
      "text/plain": [
       "dict_keys([1, 2, 3, 'a', 'p'])"
      ]
     },
     "execution_count": 16,
     "metadata": {},
     "output_type": "execute_result"
    }
   ],
   "source": [
    "dict1.keys()"
   ]
  },
  {
   "cell_type": "code",
   "execution_count": 21,
   "id": "d033c13c",
   "metadata": {},
   "outputs": [
    {
     "data": {
      "text/plain": [
       "dict_values(['niyati', 'vyas', 84, 54, 73])"
      ]
     },
     "execution_count": 21,
     "metadata": {},
     "output_type": "execute_result"
    }
   ],
   "source": [
    "dict1.values()"
   ]
  },
  {
   "cell_type": "markdown",
   "id": "4caeb1e6",
   "metadata": {},
   "source": [
    "# json\n",
    "dict2 = {1:\"jalpa\",\"B\":\"utkarsh\",3:\"meruf\",4:\"vivek\",\"C\":\"nilansi\",5:[3,5,6],6:{5,\"j\",56},7:{'j':\"hj\",1:\"y\",2:\"x\",3:[4,5]}}"
   ]
  },
  {
   "cell_type": "code",
   "execution_count": null,
   "id": "a11206fe",
   "metadata": {},
   "outputs": [],
   "source": [
    "#javascript object notes"
   ]
  },
  {
   "cell_type": "code",
   "execution_count": 23,
   "id": "0f426e48",
   "metadata": {},
   "outputs": [],
   "source": [
    "dict2 = {1:\"jalpa\",\"B\":\"utkarsh\",3:\"meruf\",4:\"vivek\",\"C\":\"nilansi\",5:[3,5,6],6:{5,\"j\",56},7:{'j':\"hj\",1:\"y\",2:\"x\",3:[4,5]}}"
   ]
  },
  {
   "cell_type": "code",
   "execution_count": 24,
   "id": "3bd9aace",
   "metadata": {
    "scrolled": true
   },
   "outputs": [
    {
     "data": {
      "text/plain": [
       "4"
      ]
     },
     "execution_count": 24,
     "metadata": {},
     "output_type": "execute_result"
    }
   ],
   "source": [
    "dict2[7][3][0]"
   ]
  },
  {
   "cell_type": "code",
   "execution_count": 38,
   "id": "ff2886fc",
   "metadata": {},
   "outputs": [],
   "source": [
    "dict9 = {1:'hbkjf',2:'jh',3:'mvhg',5:[5,'hf',5],4:(5,5,'jsg')}"
   ]
  },
  {
   "cell_type": "code",
   "execution_count": 41,
   "id": "560d18e3",
   "metadata": {},
   "outputs": [
    {
     "data": {
      "text/plain": [
       "dict_values(['hbkjf', 'jh', 'mvhg', [5, 'hf', 5], (5, 5, 'jsg')])"
      ]
     },
     "execution_count": 41,
     "metadata": {},
     "output_type": "execute_result"
    }
   ],
   "source": [
    "dict9.values()"
   ]
  },
  {
   "cell_type": "code",
   "execution_count": 25,
   "id": "be59f069",
   "metadata": {},
   "outputs": [],
   "source": [
    "y={\n",
    "\t\"id\": \"0001\",\n",
    "\t\"type\": \"donut\",\n",
    "\t\"name\": \"Cake\",\n",
    "\t\"ppu\": 0.55,\n",
    "\t\"batters\":\n",
    "\t\t{\n",
    "\t\t\t\"batter\":\n",
    "\t\t\t\t[\n",
    "\t\t\t\t\t{ \"id\": \"1001\", \"type\": \"Regular\" },\n",
    "\t\t\t\t\t{ \"id\": \"1002\", \"type\": \"Chocolate\" },\n",
    "\t\t\t\t\t{ \"id\": \"1003\", \"type\": \"Blueberry\" },\n",
    "\t\t\t\t\t{ \"id\": \"1004\", \"type\": \"Devil's Food\" }\n",
    "\t\t\t\t]\n",
    "\t\t},\n",
    "\t\"topping\":\n",
    "\t\t[\n",
    "\t\t\t{ \"id\": \"5001\", \"type\": \"None\" },\n",
    "\t\t\t{ \"id\": \"5002\", \"type\": \"Glazed\" },\n",
    "\t\t\t{ \"id\": \"5005\", \"type\": \"Sugar\" },\n",
    "\t\t\t{ \"id\": \"5007\", \"type\": \"Powdered Sugar\" },\n",
    "\t\t\t{ \"id\": \"5006\", \"type\": \"Chocolate with Sprinkles\" },\n",
    "\t\t\t{ \"id\": \"5003\", \"type\": \"Chocolate\" }]}"
   ]
  },
  {
   "cell_type": "code",
   "execution_count": 26,
   "id": "a80993f8",
   "metadata": {},
   "outputs": [
    {
     "data": {
      "text/plain": [
       "'Chocolate with Sprinkles'"
      ]
     },
     "execution_count": 26,
     "metadata": {},
     "output_type": "execute_result"
    }
   ],
   "source": [
    "y[\"topping\"][4][\"type\"]"
   ]
  },
  {
   "cell_type": "code",
   "execution_count": 27,
   "id": "3ea862e7",
   "metadata": {},
   "outputs": [],
   "source": [
    "s= {\t\"id\": \"0001\",\n",
    "\t\"type\": \"donut\",\n",
    "\t\"name\": \"Cake\",\n",
    "\t\"image\":\n",
    "\t\t{\n",
    "\t\t\t\"url\": \"images/0001.jpg\",\n",
    "\t\t\t\"width\": 200,\n",
    "\t\t\t\"height\": 200\n",
    "\t\t},\n",
    "\t\"thumbnail\":\n",
    "\t\t{\n",
    "\t\t\t\"url\": \"images/thumbnails/0001.jpg\",\n",
    "\t\t\t\"width\": 32,\n",
    "\t\t\t\"height\": 32\n",
    "\t\t}\n",
    "}"
   ]
  },
  {
   "cell_type": "code",
   "execution_count": 2,
   "id": "487c834f",
   "metadata": {
    "scrolled": true
   },
   "outputs": [],
   "source": [
    "x1={\"widget\": {\n",
    "    \"debug\": \"on\",\n",
    "    \"window\": {\n",
    "        \"title\": \"Sample Konfabulator Widget\",\n",
    "        \"name\": \"main_window\",\n",
    "        \"width\": 500,\n",
    "        \"height\": 500\n",
    "    },\n",
    "    \"image\": { \n",
    "        \"src\": \"Images/Sun.png\",\n",
    "        \"name\": \"sun1\",\n",
    "        \"hOffset\": 250,\n",
    "        \"vOffset\": 250,\n",
    "        \"alignment\": \"center\"\n",
    "    },\n",
    "    \"text\": {\n",
    "        \"data\": \"Click Here\",\n",
    "        \"size\": 36,\n",
    "        \"style\": \"bold\",\n",
    "        \"name\": \"text1\",\n",
    "        \"hOffset\": 250,\n",
    "        \"vOffset\": 100,\n",
    "        \"alignment\": \"center\",\n",
    "        \"onMouseUp\": \"sun1.opacity = (sun1.opacity / 100) * 90;\"\n",
    "    }\n",
    "}}    "
   ]
  },
  {
   "cell_type": "code",
   "execution_count": 4,
   "id": "342cc3e6",
   "metadata": {},
   "outputs": [
    {
     "data": {
      "text/plain": [
       "'Images/Sun.png'"
      ]
     },
     "execution_count": 4,
     "metadata": {},
     "output_type": "execute_result"
    }
   ],
   "source": [
    "x1[\"widget\"][\"image\"][\"src\"]"
   ]
  },
  {
   "cell_type": "code",
   "execution_count": 28,
   "id": "2ee8015b",
   "metadata": {},
   "outputs": [
    {
     "data": {
      "text/plain": [
       "200"
      ]
     },
     "execution_count": 28,
     "metadata": {},
     "output_type": "execute_result"
    }
   ],
   "source": [
    "s[\"image\"][\"height\"]"
   ]
  },
  {
   "cell_type": "code",
   "execution_count": 6,
   "id": "65109805",
   "metadata": {},
   "outputs": [],
   "source": [
    "l = [4,5,'niyati',7.45]"
   ]
  },
  {
   "cell_type": "code",
   "execution_count": 7,
   "id": "1719dbce",
   "metadata": {},
   "outputs": [
    {
     "data": {
      "text/plain": [
       "[4, 5, 'niyati', 7.45]"
      ]
     },
     "execution_count": 7,
     "metadata": {},
     "output_type": "execute_result"
    }
   ],
   "source": [
    "l"
   ]
  },
  {
   "cell_type": "code",
   "execution_count": 9,
   "id": "64b561e2",
   "metadata": {},
   "outputs": [
    {
     "name": "stdout",
     "output_type": "stream",
     "text": [
      "element is integer\n"
     ]
    }
   ],
   "source": [
    "l = [4,5,'niyati',7.45]\n",
    "if type(l[0]==int):\n",
    "    print(\"element is integer\")\n",
    "elif type(l[-1]==float):\n",
    "    print(\"it is a float\")\n",
    "else:\n",
    "    print(\"this string\")\n",
    "    \n",
    "    \n",
    "    "
   ]
  },
  {
   "cell_type": "code",
   "execution_count": 27,
   "id": "db4407a2",
   "metadata": {
    "scrolled": true
   },
   "outputs": [
    {
     "name": "stdout",
     "output_type": "stream",
     "text": [
      "Enter the height in m: 1.77\n",
      "Enter the weight in kg: 50\n",
      "Your Body Mass Index is 15.959653994701394\n",
      "the person is weak.\n"
     ]
    }
   ],
   "source": [
    "height = float(input(\"Enter the height in m: \"))  \n",
    "weight = float(input(\"Enter the weight in kg: \"))  \n",
    "BMI = weight / (height)**2  \n",
    "print(\"Your Body Mass Index is\",BMI)    \n",
    "if BMI < 18:  \n",
    "    print(\"the person is weak.\")  \n",
    "elif BMI < 24:  \n",
    "    print(\"the person is healthy.\")  \n",
    "elif BMI < 30:  \n",
    "    print(\"the person is weight.\")  \n",
    "else:\n",
    "    print(\"the person is obse\")"
   ]
  },
  {
   "cell_type": "code",
   "execution_count": null,
   "id": "4ae9c1fc",
   "metadata": {},
   "outputs": [],
   "source": []
  }
 ],
 "metadata": {
  "kernelspec": {
   "display_name": "Python 3 (ipykernel)",
   "language": "python",
   "name": "python3"
  },
  "language_info": {
   "codemirror_mode": {
    "name": "ipython",
    "version": 3
   },
   "file_extension": ".py",
   "mimetype": "text/x-python",
   "name": "python",
   "nbconvert_exporter": "python",
   "pygments_lexer": "ipython3",
   "version": "3.10.9"
  }
 },
 "nbformat": 4,
 "nbformat_minor": 5
}
