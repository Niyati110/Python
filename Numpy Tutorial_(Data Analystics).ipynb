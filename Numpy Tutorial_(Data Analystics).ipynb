{
 "cells": [
  {
   "cell_type": "code",
   "execution_count": 1,
   "id": "0a93d76e",
   "metadata": {},
   "outputs": [],
   "source": [
    "#What is Numpy"
   ]
  },
  {
   "cell_type": "code",
   "execution_count": 1,
   "id": "0f40dcb0",
   "metadata": {},
   "outputs": [],
   "source": [
    "import numpy as np"
   ]
  },
  {
   "cell_type": "code",
   "execution_count": 2,
   "id": "671f26af",
   "metadata": {},
   "outputs": [],
   "source": [
    "import array"
   ]
  },
  {
   "cell_type": "code",
   "execution_count": 3,
   "id": "d516adc6",
   "metadata": {},
   "outputs": [
    {
     "data": {
      "text/plain": [
       "array([1, 2, 3, 4, 5])"
      ]
     },
     "execution_count": 3,
     "metadata": {},
     "output_type": "execute_result"
    }
   ],
   "source": [
    "np.array([1,2,3,4,5])"
   ]
  },
  {
   "cell_type": "code",
   "execution_count": 4,
   "id": "73a82eb9",
   "metadata": {},
   "outputs": [
    {
     "data": {
      "text/plain": [
       "numpy.ndarray"
      ]
     },
     "execution_count": 4,
     "metadata": {},
     "output_type": "execute_result"
    }
   ],
   "source": [
    "type(np.array([1,2,3,4,5])) #nd= n-dimentional"
   ]
  },
  {
   "cell_type": "code",
   "execution_count": 5,
   "id": "ce37fbfa",
   "metadata": {},
   "outputs": [
    {
     "data": {
      "text/plain": [
       "array(['1', '2', '3', '4', '5', 'niya', '(5+6j)'], dtype='<U64')"
      ]
     },
     "execution_count": 5,
     "metadata": {},
     "output_type": "execute_result"
    }
   ],
   "source": [
    "np.array([1,2,3,4,5,'niya',5+6j])"
   ]
  },
  {
   "cell_type": "code",
   "execution_count": 11,
   "id": "8711302f",
   "metadata": {},
   "outputs": [
    {
     "data": {
      "text/plain": [
       "array([[1, 4],\n",
       "       [4, 5]])"
      ]
     },
     "execution_count": 11,
     "metadata": {},
     "output_type": "execute_result"
    }
   ],
   "source": [
    "np.array([[1,4],[4,5]])"
   ]
  },
  {
   "cell_type": "code",
   "execution_count": 13,
   "id": "5695da37",
   "metadata": {},
   "outputs": [
    {
     "data": {
      "text/plain": [
       "array([[2, 5],\n",
       "       [4, 5],\n",
       "       [1, 5]])"
      ]
     },
     "execution_count": 13,
     "metadata": {},
     "output_type": "execute_result"
    }
   ],
   "source": [
    "np.array([[2,5],[4,5],[1,5]])"
   ]
  },
  {
   "cell_type": "code",
   "execution_count": 14,
   "id": "4229ffaf",
   "metadata": {},
   "outputs": [
    {
     "name": "stderr",
     "output_type": "stream",
     "text": [
      "C:\\Users\\Niyati Vyas\\AppData\\Local\\Temp\\ipykernel_28700\\1623913609.py:1: VisibleDeprecationWarning: Creating an ndarray from ragged nested sequences (which is a list-or-tuple of lists-or-tuples-or ndarrays with different lengths or shapes) is deprecated. If you meant to do this, you must specify 'dtype=object' when creating the ndarray.\n",
      "  np.array([[1,2,3],[2,3]])\n"
     ]
    },
    {
     "data": {
      "text/plain": [
       "array([list([1, 2, 3]), list([2, 3])], dtype=object)"
      ]
     },
     "execution_count": 14,
     "metadata": {},
     "output_type": "execute_result"
    }
   ],
   "source": [
    "np.array([[1,2,3],[2,3]])"
   ]
  },
  {
   "cell_type": "code",
   "execution_count": 15,
   "id": "37920c15",
   "metadata": {},
   "outputs": [
    {
     "name": "stderr",
     "output_type": "stream",
     "text": [
      "C:\\Users\\Niyati Vyas\\AppData\\Local\\Temp\\ipykernel_28700\\3866999890.py:1: VisibleDeprecationWarning: Creating an ndarray from ragged nested sequences (which is a list-or-tuple of lists-or-tuples-or ndarrays with different lengths or shapes) is deprecated. If you meant to do this, you must specify 'dtype=object' when creating the ndarray.\n",
      "  np.array([[1,2],[2,1,3]])\n"
     ]
    },
    {
     "data": {
      "text/plain": [
       "array([list([1, 2]), list([2, 1, 3])], dtype=object)"
      ]
     },
     "execution_count": 15,
     "metadata": {},
     "output_type": "execute_result"
    }
   ],
   "source": [
    "np.array([[1,2],[2,1,3]])"
   ]
  },
  {
   "cell_type": "code",
   "execution_count": 16,
   "id": "b9b46266",
   "metadata": {},
   "outputs": [
    {
     "data": {
      "text/plain": [
       "array([[1, 2, 3],\n",
       "       [2, 4, 3]])"
      ]
     },
     "execution_count": 16,
     "metadata": {},
     "output_type": "execute_result"
    }
   ],
   "source": [
    "np.array([[1,2,3],[2,4,3]])"
   ]
  },
  {
   "cell_type": "code",
   "execution_count": 19,
   "id": "1d108adb",
   "metadata": {},
   "outputs": [
    {
     "data": {
      "text/plain": [
       "array([[[1, 2, 3]]])"
      ]
     },
     "execution_count": 19,
     "metadata": {},
     "output_type": "execute_result"
    }
   ],
   "source": [
    "np.array([1,2,3],ndmin = 3)"
   ]
  },
  {
   "cell_type": "code",
   "execution_count": 20,
   "id": "5b4c82f7",
   "metadata": {},
   "outputs": [
    {
     "data": {
      "text/plain": [
       "array([1.+0.j, 2.+0.j, 3.+0.j])"
      ]
     },
     "execution_count": 20,
     "metadata": {},
     "output_type": "execute_result"
    }
   ],
   "source": [
    "np.array([1,2,3],dtype = complex)"
   ]
  },
  {
   "cell_type": "code",
   "execution_count": 21,
   "id": "55bec436",
   "metadata": {},
   "outputs": [
    {
     "data": {
      "text/plain": [
       "array([1, 2, 3])"
      ]
     },
     "execution_count": 21,
     "metadata": {},
     "output_type": "execute_result"
    }
   ],
   "source": [
    "np.array([1,2,3],dtype = int)"
   ]
  },
  {
   "cell_type": "code",
   "execution_count": 22,
   "id": "d275302b",
   "metadata": {},
   "outputs": [],
   "source": [
    "arr=np.array([(1,2),(3,4)])"
   ]
  },
  {
   "cell_type": "code",
   "execution_count": 23,
   "id": "381f4a51",
   "metadata": {},
   "outputs": [
    {
     "data": {
      "text/plain": [
       "array([[1, 2],\n",
       "       [3, 4]])"
      ]
     },
     "execution_count": 23,
     "metadata": {},
     "output_type": "execute_result"
    }
   ],
   "source": [
    "arr"
   ]
  },
  {
   "cell_type": "code",
   "execution_count": 24,
   "id": "dbcbe394",
   "metadata": {},
   "outputs": [
    {
     "data": {
      "text/plain": [
       "4"
      ]
     },
     "execution_count": 24,
     "metadata": {},
     "output_type": "execute_result"
    }
   ],
   "source": [
    "arr[1][1]"
   ]
  },
  {
   "cell_type": "code",
   "execution_count": 25,
   "id": "75e291d3",
   "metadata": {},
   "outputs": [],
   "source": [
    "arr[1][1]=400"
   ]
  },
  {
   "cell_type": "code",
   "execution_count": 26,
   "id": "0398327a",
   "metadata": {},
   "outputs": [
    {
     "data": {
      "text/plain": [
       "array([[  1,   2],\n",
       "       [  3, 400]])"
      ]
     },
     "execution_count": 26,
     "metadata": {},
     "output_type": "execute_result"
    }
   ],
   "source": [
    "arr"
   ]
  },
  {
   "cell_type": "code",
   "execution_count": 27,
   "id": "44dd93c5",
   "metadata": {},
   "outputs": [
    {
     "data": {
      "text/plain": [
       "numpy.int32"
      ]
     },
     "execution_count": 27,
     "metadata": {},
     "output_type": "execute_result"
    }
   ],
   "source": [
    "type(arr[1][1])"
   ]
  },
  {
   "cell_type": "markdown",
   "id": "0a930045",
   "metadata": {},
   "source": [
    "# numpy==> converted into array\n",
    "(np.asarray)(np.array)(np.asanyarry)"
   ]
  },
  {
   "cell_type": "code",
   "execution_count": 28,
   "id": "e418f841",
   "metadata": {},
   "outputs": [],
   "source": [
    "l=[4,1,2,3,6]"
   ]
  },
  {
   "cell_type": "code",
   "execution_count": 29,
   "id": "a6dea953",
   "metadata": {},
   "outputs": [
    {
     "data": {
      "text/plain": [
       "array([4, 1, 2, 3, 6])"
      ]
     },
     "execution_count": 29,
     "metadata": {},
     "output_type": "execute_result"
    }
   ],
   "source": [
    "np.asarray(l)"
   ]
  },
  {
   "cell_type": "code",
   "execution_count": 30,
   "id": "a229ef9b",
   "metadata": {},
   "outputs": [
    {
     "data": {
      "text/plain": [
       "array([4, 1, 2, 3, 6])"
      ]
     },
     "execution_count": 30,
     "metadata": {},
     "output_type": "execute_result"
    }
   ],
   "source": [
    "np.asanyarray(l)"
   ]
  },
  {
   "cell_type": "code",
   "execution_count": 31,
   "id": "098272a3",
   "metadata": {},
   "outputs": [
    {
     "data": {
      "text/plain": [
       "array([4, 1, 2, 3, 6])"
      ]
     },
     "execution_count": 31,
     "metadata": {},
     "output_type": "execute_result"
    }
   ],
   "source": [
    "np.array(l)"
   ]
  },
  {
   "cell_type": "code",
   "execution_count": 32,
   "id": "35e9732e",
   "metadata": {},
   "outputs": [
    {
     "data": {
      "text/plain": [
       "array([[  1,   2],\n",
       "       [  3, 400]])"
      ]
     },
     "execution_count": 32,
     "metadata": {},
     "output_type": "execute_result"
    }
   ],
   "source": [
    "arr"
   ]
  },
  {
   "cell_type": "code",
   "execution_count": 33,
   "id": "7b6f1f37",
   "metadata": {},
   "outputs": [],
   "source": [
    "b= np.copy(arr)"
   ]
  },
  {
   "cell_type": "code",
   "execution_count": 34,
   "id": "e24f2944",
   "metadata": {},
   "outputs": [
    {
     "data": {
      "text/plain": [
       "array([[  1,   2],\n",
       "       [  3, 400]])"
      ]
     },
     "execution_count": 34,
     "metadata": {},
     "output_type": "execute_result"
    }
   ],
   "source": [
    "b"
   ]
  },
  {
   "cell_type": "code",
   "execution_count": 35,
   "id": "eb09b70f",
   "metadata": {},
   "outputs": [],
   "source": [
    "arr[0][1]=50"
   ]
  },
  {
   "cell_type": "code",
   "execution_count": 36,
   "id": "56dfcbcb",
   "metadata": {},
   "outputs": [
    {
     "data": {
      "text/plain": [
       "array([[  1,  50],\n",
       "       [  3, 400]])"
      ]
     },
     "execution_count": 36,
     "metadata": {},
     "output_type": "execute_result"
    }
   ],
   "source": [
    "arr"
   ]
  },
  {
   "cell_type": "code",
   "execution_count": 37,
   "id": "e0250d9b",
   "metadata": {},
   "outputs": [
    {
     "name": "stdout",
     "output_type": "stream",
     "text": [
      "[ 1 50]\n",
      "[  3 400]\n"
     ]
    }
   ],
   "source": [
    "for i in arr:\n",
    "    print(i)"
   ]
  },
  {
   "cell_type": "code",
   "execution_count": 38,
   "id": "60279a76",
   "metadata": {},
   "outputs": [
    {
     "data": {
      "text/plain": [
       "array([[ True, False, False, False],\n",
       "       [False,  True, False, False],\n",
       "       [False, False,  True, False],\n",
       "       [False, False, False,  True]])"
      ]
     },
     "execution_count": 38,
     "metadata": {},
     "output_type": "execute_result"
    }
   ],
   "source": [
    "np.fromfunction(lambda i,j :i==j, (4,4))"
   ]
  },
  {
   "cell_type": "code",
   "execution_count": 39,
   "id": "9da69376",
   "metadata": {},
   "outputs": [
    {
     "data": {
      "text/plain": [
       "array([[0., 0., 0.],\n",
       "       [0., 1., 2.],\n",
       "       [0., 2., 4.]])"
      ]
     },
     "execution_count": 39,
     "metadata": {},
     "output_type": "execute_result"
    }
   ],
   "source": [
    "np.fromfunction(lambda i,j :i*j, (3,3))"
   ]
  },
  {
   "cell_type": "code",
   "execution_count": 40,
   "id": "09dbb98f",
   "metadata": {},
   "outputs": [
    {
     "name": "stderr",
     "output_type": "stream",
     "text": [
      "C:\\Users\\Niyati Vyas\\AppData\\Local\\Temp\\ipykernel_28700\\795647070.py:1: RuntimeWarning: divide by zero encountered in divide\n",
      "  np.fromfunction(lambda i,j :i/j, (3,3))\n",
      "C:\\Users\\Niyati Vyas\\AppData\\Local\\Temp\\ipykernel_28700\\795647070.py:1: RuntimeWarning: invalid value encountered in divide\n",
      "  np.fromfunction(lambda i,j :i/j, (3,3))\n"
     ]
    },
    {
     "data": {
      "text/plain": [
       "array([[nan, 0. , 0. ],\n",
       "       [inf, 1. , 0.5],\n",
       "       [inf, 2. , 1. ]])"
      ]
     },
     "execution_count": 40,
     "metadata": {},
     "output_type": "execute_result"
    }
   ],
   "source": [
    "np.fromfunction(lambda i,j :i/j, (3,3))"
   ]
  },
  {
   "cell_type": "code",
   "execution_count": 41,
   "id": "ee718660",
   "metadata": {},
   "outputs": [
    {
     "data": {
      "text/plain": [
       "<generator object <genexpr> at 0x000002907F82B4C0>"
      ]
     },
     "execution_count": 41,
     "metadata": {},
     "output_type": "execute_result"
    }
   ],
   "source": [
    "(i*i for i in range(5))"
   ]
  },
  {
   "cell_type": "code",
   "execution_count": 42,
   "id": "bfe17bef",
   "metadata": {},
   "outputs": [],
   "source": [
    "def test(x):\n",
    "    yield x"
   ]
  },
  {
   "cell_type": "code",
   "execution_count": 43,
   "id": "1639311f",
   "metadata": {},
   "outputs": [],
   "source": [
    "gen= test(3)"
   ]
  },
  {
   "cell_type": "code",
   "execution_count": 44,
   "id": "4a5b79ac",
   "metadata": {},
   "outputs": [
    {
     "data": {
      "text/plain": [
       "array([0, 1, 2, 3, 4])"
      ]
     },
     "execution_count": 44,
     "metadata": {},
     "output_type": "execute_result"
    }
   ],
   "source": [
    "np.fromiter(range(5) , dtype = int)"
   ]
  },
  {
   "cell_type": "code",
   "execution_count": 46,
   "id": "69acf5f3",
   "metadata": {},
   "outputs": [
    {
     "data": {
      "text/plain": [
       "array([1, 2, 3, 4])"
      ]
     },
     "execution_count": 46,
     "metadata": {},
     "output_type": "execute_result"
    }
   ],
   "source": [
    "np.fromstring('1,2,3,4' , sep =',',dtype= int)"
   ]
  },
  {
   "cell_type": "code",
   "execution_count": 47,
   "id": "5634f226",
   "metadata": {},
   "outputs": [
    {
     "data": {
      "text/plain": [
       "array([1, 2])"
      ]
     },
     "execution_count": 47,
     "metadata": {},
     "output_type": "execute_result"
    }
   ],
   "source": [
    "np.fromstring('1:2' , sep =':',dtype= int)"
   ]
  },
  {
   "cell_type": "code",
   "execution_count": 48,
   "id": "01bfef4b",
   "metadata": {},
   "outputs": [
    {
     "data": {
      "text/plain": [
       "array([1.+0.j, 2.+0.j])"
      ]
     },
     "execution_count": 48,
     "metadata": {},
     "output_type": "execute_result"
    }
   ],
   "source": [
    "np.fromstring('1:2' , sep =':',dtype= complex)"
   ]
  },
  {
   "cell_type": "code",
   "execution_count": 49,
   "id": "ead91e35",
   "metadata": {},
   "outputs": [
    {
     "data": {
      "text/plain": [
       "array([1., 2., 3., 4.])"
      ]
     },
     "execution_count": 49,
     "metadata": {},
     "output_type": "execute_result"
    }
   ],
   "source": [
    "np.fromstring('1,2,3,4' , sep =',')"
   ]
  },
  {
   "cell_type": "code",
   "execution_count": 50,
   "id": "e1c9cb70",
   "metadata": {},
   "outputs": [],
   "source": [
    "l1 = [[1,2,3,4],[1,9,6,3],[1,7,3,5]]"
   ]
  },
  {
   "cell_type": "code",
   "execution_count": 51,
   "id": "e93631ed",
   "metadata": {},
   "outputs": [],
   "source": [
    "arr1 = np.array(l1)"
   ]
  },
  {
   "cell_type": "code",
   "execution_count": 52,
   "id": "617ed78a",
   "metadata": {},
   "outputs": [
    {
     "data": {
      "text/plain": [
       "array([[1, 2, 3, 4],\n",
       "       [1, 9, 6, 3],\n",
       "       [1, 7, 3, 5]])"
      ]
     },
     "execution_count": 52,
     "metadata": {},
     "output_type": "execute_result"
    }
   ],
   "source": [
    "arr1"
   ]
  },
  {
   "cell_type": "code",
   "execution_count": 53,
   "id": "510d394e",
   "metadata": {},
   "outputs": [
    {
     "data": {
      "text/plain": [
       "numpy.ndarray"
      ]
     },
     "execution_count": 53,
     "metadata": {},
     "output_type": "execute_result"
    }
   ],
   "source": [
    "type(arr)"
   ]
  },
  {
   "cell_type": "code",
   "execution_count": 54,
   "id": "c1253ab9",
   "metadata": {},
   "outputs": [
    {
     "data": {
      "text/plain": [
       "2"
      ]
     },
     "execution_count": 54,
     "metadata": {},
     "output_type": "execute_result"
    }
   ],
   "source": [
    "arr1.ndim"
   ]
  },
  {
   "cell_type": "code",
   "execution_count": 55,
   "id": "cc46c943",
   "metadata": {},
   "outputs": [
    {
     "data": {
      "text/plain": [
       "12"
      ]
     },
     "execution_count": 55,
     "metadata": {},
     "output_type": "execute_result"
    }
   ],
   "source": [
    "arr1.size"
   ]
  },
  {
   "cell_type": "code",
   "execution_count": 56,
   "id": "e48a19f3",
   "metadata": {},
   "outputs": [
    {
     "data": {
      "text/plain": [
       "(3, 4)"
      ]
     },
     "execution_count": 56,
     "metadata": {},
     "output_type": "execute_result"
    }
   ],
   "source": [
    "arr1.shape"
   ]
  },
  {
   "cell_type": "code",
   "execution_count": 58,
   "id": "8b61f585",
   "metadata": {},
   "outputs": [
    {
     "data": {
      "text/plain": [
       "[0, 1, 2, 3, 4, 5]"
      ]
     },
     "execution_count": 58,
     "metadata": {},
     "output_type": "execute_result"
    }
   ],
   "source": [
    "list(range(6))"
   ]
  },
  {
   "cell_type": "code",
   "execution_count": 59,
   "id": "d2f43e14",
   "metadata": {},
   "outputs": [
    {
     "data": {
      "text/plain": [
       "array([0, 1, 2, 3, 4, 5])"
      ]
     },
     "execution_count": 59,
     "metadata": {},
     "output_type": "execute_result"
    }
   ],
   "source": [
    "np.arange(6)"
   ]
  },
  {
   "cell_type": "code",
   "execution_count": 60,
   "id": "579a1570",
   "metadata": {},
   "outputs": [
    {
     "data": {
      "text/plain": [
       "array([6.6, 6.8, 7. , 7.2, 7.4, 7.6, 7.8, 8. ])"
      ]
     },
     "execution_count": 60,
     "metadata": {},
     "output_type": "execute_result"
    }
   ],
   "source": [
    "np.arange(6.6,8,0.2)"
   ]
  },
  {
   "cell_type": "code",
   "execution_count": 61,
   "id": "64bafa44",
   "metadata": {},
   "outputs": [
    {
     "data": {
      "text/plain": [
       "array([1, 2, 3, 4, 5, 6, 7, 8])"
      ]
     },
     "execution_count": 61,
     "metadata": {},
     "output_type": "execute_result"
    }
   ],
   "source": [
    "np.arange(1,9)"
   ]
  },
  {
   "cell_type": "code",
   "execution_count": 62,
   "id": "b74dc16a",
   "metadata": {},
   "outputs": [
    {
     "data": {
      "text/plain": [
       "array([3.        , 3.10204082, 3.20408163, 3.30612245, 3.40816327,\n",
       "       3.51020408, 3.6122449 , 3.71428571, 3.81632653, 3.91836735,\n",
       "       4.02040816, 4.12244898, 4.2244898 , 4.32653061, 4.42857143,\n",
       "       4.53061224, 4.63265306, 4.73469388, 4.83673469, 4.93877551,\n",
       "       5.04081633, 5.14285714, 5.24489796, 5.34693878, 5.44897959,\n",
       "       5.55102041, 5.65306122, 5.75510204, 5.85714286, 5.95918367,\n",
       "       6.06122449, 6.16326531, 6.26530612, 6.36734694, 6.46938776,\n",
       "       6.57142857, 6.67346939, 6.7755102 , 6.87755102, 6.97959184,\n",
       "       7.08163265, 7.18367347, 7.28571429, 7.3877551 , 7.48979592,\n",
       "       7.59183673, 7.69387755, 7.79591837, 7.89795918, 8.        ])"
      ]
     },
     "execution_count": 62,
     "metadata": {},
     "output_type": "execute_result"
    }
   ],
   "source": [
    "np.linspace(3,8)"
   ]
  },
  {
   "cell_type": "code",
   "execution_count": 63,
   "id": "147d33b4",
   "metadata": {},
   "outputs": [
    {
     "data": {
      "text/plain": [
       "array([1.        , 1.11111111, 1.22222222, 1.33333333, 1.44444444,\n",
       "       1.55555556, 1.66666667, 1.77777778, 1.88888889, 2.        ])"
      ]
     },
     "execution_count": 63,
     "metadata": {},
     "output_type": "execute_result"
    }
   ],
   "source": [
    "np.linspace(1,2,10)"
   ]
  },
  {
   "cell_type": "code",
   "execution_count": 64,
   "id": "df0ad790",
   "metadata": {},
   "outputs": [
    {
     "data": {
      "text/plain": [
       "array([0., 0., 0., 0., 0.])"
      ]
     },
     "execution_count": 64,
     "metadata": {},
     "output_type": "execute_result"
    }
   ],
   "source": [
    "np.zeros(5)"
   ]
  },
  {
   "cell_type": "code",
   "execution_count": 65,
   "id": "472ed3f1",
   "metadata": {},
   "outputs": [
    {
     "data": {
      "text/plain": [
       "array([[0., 0., 0., 0., 0.],\n",
       "       [0., 0., 0., 0., 0.]])"
      ]
     },
     "execution_count": 65,
     "metadata": {},
     "output_type": "execute_result"
    }
   ],
   "source": [
    "np.zeros((2,5))"
   ]
  },
  {
   "cell_type": "code",
   "execution_count": 67,
   "id": "9c36d364",
   "metadata": {},
   "outputs": [
    {
     "data": {
      "text/plain": [
       "array([[[0., 0., 0., 0.],\n",
       "        [0., 0., 0., 0.],\n",
       "        [0., 0., 0., 0.],\n",
       "        [0., 0., 0., 0.],\n",
       "        [0., 0., 0., 0.]],\n",
       "\n",
       "       [[0., 0., 0., 0.],\n",
       "        [0., 0., 0., 0.],\n",
       "        [0., 0., 0., 0.],\n",
       "        [0., 0., 0., 0.],\n",
       "        [0., 0., 0., 0.]]])"
      ]
     },
     "execution_count": 67,
     "metadata": {},
     "output_type": "execute_result"
    }
   ],
   "source": [
    "np.zeros((2,5,4)) #2= arrray(matrices),5=column,4=row"
   ]
  },
  {
   "cell_type": "code",
   "execution_count": 68,
   "id": "2bb7cbc7",
   "metadata": {},
   "outputs": [
    {
     "data": {
      "text/plain": [
       "array([[1., 1., 1.],\n",
       "       [1., 1., 1.]])"
      ]
     },
     "execution_count": 68,
     "metadata": {},
     "output_type": "execute_result"
    }
   ],
   "source": [
    "np.ones((2,3))"
   ]
  },
  {
   "cell_type": "code",
   "execution_count": 70,
   "id": "512df2a4",
   "metadata": {},
   "outputs": [
    {
     "data": {
      "text/plain": [
       "array([[[6., 6.],\n",
       "        [6., 6.],\n",
       "        [6., 6.]],\n",
       "\n",
       "       [[6., 6.],\n",
       "        [6., 6.],\n",
       "        [6., 6.]]])"
      ]
     },
     "execution_count": 70,
     "metadata": {},
     "output_type": "execute_result"
    }
   ],
   "source": [
    "np.ones((2,3,2))+5 #5= array+5==1+5"
   ]
  },
  {
   "cell_type": "code",
   "execution_count": 72,
   "id": "02cb08a4",
   "metadata": {},
   "outputs": [
    {
     "data": {
      "text/plain": [
       "array([0., 0., 0., 0., 0., 0., 0., 0., 0., 0.])"
      ]
     },
     "execution_count": 72,
     "metadata": {},
     "output_type": "execute_result"
    }
   ],
   "source": [
    "np.empty(10)"
   ]
  },
  {
   "cell_type": "code",
   "execution_count": 74,
   "id": "584978b6",
   "metadata": {},
   "outputs": [
    {
     "data": {
      "text/plain": [
       "array([[1., 0., 0.],\n",
       "       [0., 1., 0.],\n",
       "       [0., 0., 1.]])"
      ]
     },
     "execution_count": 74,
     "metadata": {},
     "output_type": "execute_result"
    }
   ],
   "source": [
    "np.eye(3)"
   ]
  },
  {
   "cell_type": "code",
   "execution_count": 75,
   "id": "410570fc",
   "metadata": {},
   "outputs": [
    {
     "data": {
      "text/plain": [
       "array([2. , 2.5, 3. , 3.5])"
      ]
     },
     "execution_count": 75,
     "metadata": {},
     "output_type": "execute_result"
    }
   ],
   "source": [
    "np.linspace(2,4,4,endpoint =False, axis = 0 )"
   ]
  },
  {
   "cell_type": "code",
   "execution_count": 81,
   "id": "971856ea",
   "metadata": {},
   "outputs": [
    {
     "data": {
      "text/plain": [
       "array([2.        , 2.66666667, 3.33333333, 4.        ])"
      ]
     },
     "execution_count": 81,
     "metadata": {},
     "output_type": "execute_result"
    }
   ],
   "source": [
    "np.linspace(2,4,4, axis = 0 )"
   ]
  },
  {
   "cell_type": "code",
   "execution_count": 82,
   "id": "addf4b24",
   "metadata": {},
   "outputs": [],
   "source": [
    "d=np.logspace(4,5,40)"
   ]
  },
  {
   "cell_type": "code",
   "execution_count": 83,
   "id": "3cb82565",
   "metadata": {},
   "outputs": [
    {
     "data": {
      "text/plain": [
       "array([[[ 10000.        ,  10608.18355139,  11253.35582601,\n",
       "          11937.76641714,  12663.80173467,  13433.99332599,\n",
       "          14251.02670303,  15117.75070616,  16037.18743751,\n",
       "          17012.54279853,  18047.21766827,  19144.8197617 ,\n",
       "          20309.17620905,  21544.34690032,  22854.63864135,\n",
       "          24244.62017082,  25719.13809059,  27283.33376487,\n",
       "          28942.66124717,  30702.90629758],\n",
       "        [ 32570.2065566 ,  34551.07294592,  36652.4123708 ,\n",
       "          38881.55180308,  41246.26382901,  43754.79375074,\n",
       "          46415.88833613,  49238.82631707,  52233.45074267,\n",
       "          55410.20330009,  58780.16072275,  62355.07341274,\n",
       "          66147.4064123 ,  70170.38286704,  74438.03013252,\n",
       "          78965.228685  ,  83767.76400683,  88862.38162743,\n",
       "          94266.84551179, 100000.        ]]])"
      ]
     },
     "execution_count": 83,
     "metadata": {},
     "output_type": "execute_result"
    }
   ],
   "source": [
    "d.reshape(1,2,20)"
   ]
  },
  {
   "cell_type": "code",
   "execution_count": 84,
   "id": "07893fb2",
   "metadata": {},
   "outputs": [
    {
     "data": {
      "text/plain": [
       "array([[[ 10000.        ,  10608.18355139,  11253.35582601,\n",
       "          11937.76641714,  12663.80173467,  13433.99332599,\n",
       "          14251.02670303,  15117.75070616,  16037.18743751,\n",
       "          17012.54279853,  18047.21766827,  19144.8197617 ,\n",
       "          20309.17620905,  21544.34690032,  22854.63864135,\n",
       "          24244.62017082,  25719.13809059,  27283.33376487,\n",
       "          28942.66124717,  30702.90629758]],\n",
       "\n",
       "       [[ 32570.2065566 ,  34551.07294592,  36652.4123708 ,\n",
       "          38881.55180308,  41246.26382901,  43754.79375074,\n",
       "          46415.88833613,  49238.82631707,  52233.45074267,\n",
       "          55410.20330009,  58780.16072275,  62355.07341274,\n",
       "          66147.4064123 ,  70170.38286704,  74438.03013252,\n",
       "          78965.228685  ,  83767.76400683,  88862.38162743,\n",
       "          94266.84551179, 100000.        ]]])"
      ]
     },
     "execution_count": 84,
     "metadata": {},
     "output_type": "execute_result"
    }
   ],
   "source": [
    "d.reshape(2,1,20)"
   ]
  },
  {
   "cell_type": "code",
   "execution_count": 86,
   "id": "6b79c435",
   "metadata": {},
   "outputs": [
    {
     "data": {
      "text/plain": [
       "array([0.08301202, 0.96249224, 0.02274491])"
      ]
     },
     "execution_count": 86,
     "metadata": {},
     "output_type": "execute_result"
    }
   ],
   "source": [
    "np.random.rand(3) #its take range [0,1]"
   ]
  },
  {
   "cell_type": "code",
   "execution_count": 87,
   "id": "da6b9861",
   "metadata": {},
   "outputs": [
    {
     "data": {
      "text/plain": [
       "array([[0.17576199, 0.93452683, 0.96167235, 0.53416914, 0.71670545],\n",
       "       [0.47492197, 0.31503033, 0.06328861, 0.86026038, 0.12243875],\n",
       "       [0.24766963, 0.73941899, 0.40234697, 0.79924611, 0.14407446],\n",
       "       [0.91142643, 0.41208343, 0.68711354, 0.46269172, 0.65232258],\n",
       "       [0.78710711, 0.72828988, 0.92075299, 0.84035248, 0.4819821 ]])"
      ]
     },
     "execution_count": 87,
     "metadata": {},
     "output_type": "execute_result"
    }
   ],
   "source": [
    "np.random.rand(5,5)"
   ]
  },
  {
   "cell_type": "code",
   "execution_count": 89,
   "id": "6983a39c",
   "metadata": {},
   "outputs": [
    {
     "data": {
      "text/plain": [
       "array([[[0.59366738, 0.65511161, 0.65695228, 0.2993657 , 0.35802626],\n",
       "        [0.23603536, 0.7314884 , 0.61221967, 0.87148674, 0.53312951]],\n",
       "\n",
       "       [[0.77948905, 0.894273  , 0.60544945, 0.32926993, 0.62817864],\n",
       "        [0.33913117, 0.76985862, 0.73266359, 0.83486195, 0.12510313]],\n",
       "\n",
       "       [[0.49716395, 0.83405881, 0.82149164, 0.63094483, 0.72994406],\n",
       "        [0.11623443, 0.67972636, 0.29264873, 0.1194144 , 0.03222085]]])"
      ]
     },
     "execution_count": 89,
     "metadata": {},
     "output_type": "execute_result"
    }
   ],
   "source": [
    "np.random.rand(3,2,5)"
   ]
  },
  {
   "cell_type": "code",
   "execution_count": 91,
   "id": "7f7b50cd",
   "metadata": {},
   "outputs": [
    {
     "data": {
      "text/plain": [
       "5"
      ]
     },
     "execution_count": 91,
     "metadata": {},
     "output_type": "execute_result"
    }
   ],
   "source": [
    "np.random.randint(6)"
   ]
  },
  {
   "cell_type": "code",
   "execution_count": 92,
   "id": "f44b649f",
   "metadata": {},
   "outputs": [
    {
     "data": {
      "text/plain": [
       "array([ 8, 26])"
      ]
     },
     "execution_count": 92,
     "metadata": {},
     "output_type": "execute_result"
    }
   ],
   "source": [
    "np.random.randint((5,6),40)"
   ]
  },
  {
   "cell_type": "code",
   "execution_count": 95,
   "id": "6764b959",
   "metadata": {},
   "outputs": [
    {
     "data": {
      "text/plain": [
       "array([4, 4, 5, 5, 4, 5, 4, 5, 4, 4])"
      ]
     },
     "execution_count": 95,
     "metadata": {},
     "output_type": "execute_result"
    }
   ],
   "source": [
    "np.random.randint(4,6,10)"
   ]
  },
  {
   "cell_type": "code",
   "execution_count": 97,
   "id": "dba3fe6c",
   "metadata": {},
   "outputs": [
    {
     "data": {
      "text/plain": [
       "array([[ 2.06680383,  0.16368436],\n",
       "       [-1.1940959 , -0.95420655]])"
      ]
     },
     "execution_count": 97,
     "metadata": {},
     "output_type": "execute_result"
    }
   ],
   "source": [
    "np.random.randn(2,2)"
   ]
  },
  {
   "cell_type": "code",
   "execution_count": 100,
   "id": "779406e9",
   "metadata": {},
   "outputs": [],
   "source": [
    "import numpy as np\n",
    "arr = np.random.randint(4,100,(5,5))"
   ]
  },
  {
   "cell_type": "code",
   "execution_count": 101,
   "id": "48eb4050",
   "metadata": {},
   "outputs": [
    {
     "data": {
      "text/plain": [
       "array([[ 8, 90, 21, 79, 39],\n",
       "       [37, 57,  4, 93, 40],\n",
       "       [32, 74, 20, 43, 30],\n",
       "       [28, 34, 85, 89,  8],\n",
       "       [70, 27, 75, 44, 12]])"
      ]
     },
     "execution_count": 101,
     "metadata": {},
     "output_type": "execute_result"
    }
   ],
   "source": [
    "arr"
   ]
  },
  {
   "cell_type": "code",
   "execution_count": 102,
   "id": "27c0d921",
   "metadata": {},
   "outputs": [
    {
     "data": {
      "text/plain": [
       "array([[20, 43, 30],\n",
       "       [85, 89,  8],\n",
       "       [75, 44, 12]])"
      ]
     },
     "execution_count": 102,
     "metadata": {},
     "output_type": "execute_result"
    }
   ],
   "source": [
    "arr[2: , 2:]"
   ]
  },
  {
   "cell_type": "code",
   "execution_count": 103,
   "id": "c31dde36",
   "metadata": {},
   "outputs": [
    {
     "data": {
      "text/plain": [
       "array([[21, 79, 39],\n",
       "       [ 4, 93, 40],\n",
       "       [20, 43, 30],\n",
       "       [85, 89,  8],\n",
       "       [75, 44, 12]])"
      ]
     },
     "execution_count": 103,
     "metadata": {},
     "output_type": "execute_result"
    }
   ],
   "source": [
    "arr[0: , 2:]"
   ]
  },
  {
   "cell_type": "code",
   "execution_count": 104,
   "id": "dc482189",
   "metadata": {},
   "outputs": [
    {
     "data": {
      "text/plain": [
       "array([[57,  4, 93],\n",
       "       [74, 20, 43],\n",
       "       [34, 85, 89]])"
      ]
     },
     "execution_count": 104,
     "metadata": {},
     "output_type": "execute_result"
    }
   ],
   "source": [
    "arr[1:4,1:4]"
   ]
  },
  {
   "cell_type": "code",
   "execution_count": 106,
   "id": "f625e610",
   "metadata": {},
   "outputs": [
    {
     "data": {
      "text/plain": [
       "array([[32, 74, 20, 43, 30],\n",
       "       [28, 34, 85, 89,  8],\n",
       "       [70, 27, 75, 44, 12]])"
      ]
     },
     "execution_count": 106,
     "metadata": {},
     "output_type": "execute_result"
    }
   ],
   "source": [
    "arr[2:,:]"
   ]
  },
  {
   "cell_type": "code",
   "execution_count": null,
   "id": "50d178a1",
   "metadata": {},
   "outputs": [],
   "source": []
  }
 ],
 "metadata": {
  "kernelspec": {
   "display_name": "Python 3 (ipykernel)",
   "language": "python",
   "name": "python3"
  },
  "language_info": {
   "codemirror_mode": {
    "name": "ipython",
    "version": 3
   },
   "file_extension": ".py",
   "mimetype": "text/x-python",
   "name": "python",
   "nbconvert_exporter": "python",
   "pygments_lexer": "ipython3",
   "version": "3.10.9"
  }
 },
 "nbformat": 4,
 "nbformat_minor": 5
}
